{
  "nbformat": 4,
  "nbformat_minor": 0,
  "metadata": {
    "colab": {
      "provenance": [],
      "gpuType": "T4"
    },
    "kernelspec": {
      "name": "python3",
      "display_name": "Python 3"
    },
    "language_info": {
      "name": "python"
    },
    "accelerator": "GPU",
    "widgets": {
      "application/vnd.jupyter.widget-state+json": {
        "dd75d9c33ab6492bad5c2d33c8879683": {
          "model_module": "@jupyter-widgets/controls",
          "model_name": "HBoxModel",
          "model_module_version": "1.5.0",
          "state": {
            "_dom_classes": [],
            "_model_module": "@jupyter-widgets/controls",
            "_model_module_version": "1.5.0",
            "_model_name": "HBoxModel",
            "_view_count": null,
            "_view_module": "@jupyter-widgets/controls",
            "_view_module_version": "1.5.0",
            "_view_name": "HBoxView",
            "box_style": "",
            "children": [
              "IPY_MODEL_afaa0b5634244fb58e2d11b43d7213c4",
              "IPY_MODEL_ff71342931ef45618523dc915f2a882e",
              "IPY_MODEL_5199ac781138419b947244d430d81769"
            ],
            "layout": "IPY_MODEL_72452ebdf247479981f357db66f21bc1"
          }
        },
        "afaa0b5634244fb58e2d11b43d7213c4": {
          "model_module": "@jupyter-widgets/controls",
          "model_name": "HTMLModel",
          "model_module_version": "1.5.0",
          "state": {
            "_dom_classes": [],
            "_model_module": "@jupyter-widgets/controls",
            "_model_module_version": "1.5.0",
            "_model_name": "HTMLModel",
            "_view_count": null,
            "_view_module": "@jupyter-widgets/controls",
            "_view_module_version": "1.5.0",
            "_view_name": "HTMLView",
            "description": "",
            "description_tooltip": null,
            "layout": "IPY_MODEL_c5a0f94f516f4c16bfc8bd1842e20680",
            "placeholder": "​",
            "style": "IPY_MODEL_7ccfaa977e5a42b2ba23e164b9b5112d",
            "value": "config.json: 100%"
          }
        },
        "ff71342931ef45618523dc915f2a882e": {
          "model_module": "@jupyter-widgets/controls",
          "model_name": "FloatProgressModel",
          "model_module_version": "1.5.0",
          "state": {
            "_dom_classes": [],
            "_model_module": "@jupyter-widgets/controls",
            "_model_module_version": "1.5.0",
            "_model_name": "FloatProgressModel",
            "_view_count": null,
            "_view_module": "@jupyter-widgets/controls",
            "_view_module_version": "1.5.0",
            "_view_name": "ProgressView",
            "bar_style": "success",
            "description": "",
            "description_tooltip": null,
            "layout": "IPY_MODEL_af1c460f0cfc4459992c907b9eb6f0e1",
            "max": 570,
            "min": 0,
            "orientation": "horizontal",
            "style": "IPY_MODEL_d1ea5ea45e8a4bfc94a2b347d7ce9313",
            "value": 570
          }
        },
        "5199ac781138419b947244d430d81769": {
          "model_module": "@jupyter-widgets/controls",
          "model_name": "HTMLModel",
          "model_module_version": "1.5.0",
          "state": {
            "_dom_classes": [],
            "_model_module": "@jupyter-widgets/controls",
            "_model_module_version": "1.5.0",
            "_model_name": "HTMLModel",
            "_view_count": null,
            "_view_module": "@jupyter-widgets/controls",
            "_view_module_version": "1.5.0",
            "_view_name": "HTMLView",
            "description": "",
            "description_tooltip": null,
            "layout": "IPY_MODEL_8abdf3a7acf9437abbe2308c5a2309fa",
            "placeholder": "​",
            "style": "IPY_MODEL_7ac26093c9c847a8a43dcf3141e3552d",
            "value": " 570/570 [00:00&lt;00:00, 44.9kB/s]"
          }
        },
        "72452ebdf247479981f357db66f21bc1": {
          "model_module": "@jupyter-widgets/base",
          "model_name": "LayoutModel",
          "model_module_version": "1.2.0",
          "state": {
            "_model_module": "@jupyter-widgets/base",
            "_model_module_version": "1.2.0",
            "_model_name": "LayoutModel",
            "_view_count": null,
            "_view_module": "@jupyter-widgets/base",
            "_view_module_version": "1.2.0",
            "_view_name": "LayoutView",
            "align_content": null,
            "align_items": null,
            "align_self": null,
            "border": null,
            "bottom": null,
            "display": null,
            "flex": null,
            "flex_flow": null,
            "grid_area": null,
            "grid_auto_columns": null,
            "grid_auto_flow": null,
            "grid_auto_rows": null,
            "grid_column": null,
            "grid_gap": null,
            "grid_row": null,
            "grid_template_areas": null,
            "grid_template_columns": null,
            "grid_template_rows": null,
            "height": null,
            "justify_content": null,
            "justify_items": null,
            "left": null,
            "margin": null,
            "max_height": null,
            "max_width": null,
            "min_height": null,
            "min_width": null,
            "object_fit": null,
            "object_position": null,
            "order": null,
            "overflow": null,
            "overflow_x": null,
            "overflow_y": null,
            "padding": null,
            "right": null,
            "top": null,
            "visibility": null,
            "width": null
          }
        },
        "c5a0f94f516f4c16bfc8bd1842e20680": {
          "model_module": "@jupyter-widgets/base",
          "model_name": "LayoutModel",
          "model_module_version": "1.2.0",
          "state": {
            "_model_module": "@jupyter-widgets/base",
            "_model_module_version": "1.2.0",
            "_model_name": "LayoutModel",
            "_view_count": null,
            "_view_module": "@jupyter-widgets/base",
            "_view_module_version": "1.2.0",
            "_view_name": "LayoutView",
            "align_content": null,
            "align_items": null,
            "align_self": null,
            "border": null,
            "bottom": null,
            "display": null,
            "flex": null,
            "flex_flow": null,
            "grid_area": null,
            "grid_auto_columns": null,
            "grid_auto_flow": null,
            "grid_auto_rows": null,
            "grid_column": null,
            "grid_gap": null,
            "grid_row": null,
            "grid_template_areas": null,
            "grid_template_columns": null,
            "grid_template_rows": null,
            "height": null,
            "justify_content": null,
            "justify_items": null,
            "left": null,
            "margin": null,
            "max_height": null,
            "max_width": null,
            "min_height": null,
            "min_width": null,
            "object_fit": null,
            "object_position": null,
            "order": null,
            "overflow": null,
            "overflow_x": null,
            "overflow_y": null,
            "padding": null,
            "right": null,
            "top": null,
            "visibility": null,
            "width": null
          }
        },
        "7ccfaa977e5a42b2ba23e164b9b5112d": {
          "model_module": "@jupyter-widgets/controls",
          "model_name": "DescriptionStyleModel",
          "model_module_version": "1.5.0",
          "state": {
            "_model_module": "@jupyter-widgets/controls",
            "_model_module_version": "1.5.0",
            "_model_name": "DescriptionStyleModel",
            "_view_count": null,
            "_view_module": "@jupyter-widgets/base",
            "_view_module_version": "1.2.0",
            "_view_name": "StyleView",
            "description_width": ""
          }
        },
        "af1c460f0cfc4459992c907b9eb6f0e1": {
          "model_module": "@jupyter-widgets/base",
          "model_name": "LayoutModel",
          "model_module_version": "1.2.0",
          "state": {
            "_model_module": "@jupyter-widgets/base",
            "_model_module_version": "1.2.0",
            "_model_name": "LayoutModel",
            "_view_count": null,
            "_view_module": "@jupyter-widgets/base",
            "_view_module_version": "1.2.0",
            "_view_name": "LayoutView",
            "align_content": null,
            "align_items": null,
            "align_self": null,
            "border": null,
            "bottom": null,
            "display": null,
            "flex": null,
            "flex_flow": null,
            "grid_area": null,
            "grid_auto_columns": null,
            "grid_auto_flow": null,
            "grid_auto_rows": null,
            "grid_column": null,
            "grid_gap": null,
            "grid_row": null,
            "grid_template_areas": null,
            "grid_template_columns": null,
            "grid_template_rows": null,
            "height": null,
            "justify_content": null,
            "justify_items": null,
            "left": null,
            "margin": null,
            "max_height": null,
            "max_width": null,
            "min_height": null,
            "min_width": null,
            "object_fit": null,
            "object_position": null,
            "order": null,
            "overflow": null,
            "overflow_x": null,
            "overflow_y": null,
            "padding": null,
            "right": null,
            "top": null,
            "visibility": null,
            "width": null
          }
        },
        "d1ea5ea45e8a4bfc94a2b347d7ce9313": {
          "model_module": "@jupyter-widgets/controls",
          "model_name": "ProgressStyleModel",
          "model_module_version": "1.5.0",
          "state": {
            "_model_module": "@jupyter-widgets/controls",
            "_model_module_version": "1.5.0",
            "_model_name": "ProgressStyleModel",
            "_view_count": null,
            "_view_module": "@jupyter-widgets/base",
            "_view_module_version": "1.2.0",
            "_view_name": "StyleView",
            "bar_color": null,
            "description_width": ""
          }
        },
        "8abdf3a7acf9437abbe2308c5a2309fa": {
          "model_module": "@jupyter-widgets/base",
          "model_name": "LayoutModel",
          "model_module_version": "1.2.0",
          "state": {
            "_model_module": "@jupyter-widgets/base",
            "_model_module_version": "1.2.0",
            "_model_name": "LayoutModel",
            "_view_count": null,
            "_view_module": "@jupyter-widgets/base",
            "_view_module_version": "1.2.0",
            "_view_name": "LayoutView",
            "align_content": null,
            "align_items": null,
            "align_self": null,
            "border": null,
            "bottom": null,
            "display": null,
            "flex": null,
            "flex_flow": null,
            "grid_area": null,
            "grid_auto_columns": null,
            "grid_auto_flow": null,
            "grid_auto_rows": null,
            "grid_column": null,
            "grid_gap": null,
            "grid_row": null,
            "grid_template_areas": null,
            "grid_template_columns": null,
            "grid_template_rows": null,
            "height": null,
            "justify_content": null,
            "justify_items": null,
            "left": null,
            "margin": null,
            "max_height": null,
            "max_width": null,
            "min_height": null,
            "min_width": null,
            "object_fit": null,
            "object_position": null,
            "order": null,
            "overflow": null,
            "overflow_x": null,
            "overflow_y": null,
            "padding": null,
            "right": null,
            "top": null,
            "visibility": null,
            "width": null
          }
        },
        "7ac26093c9c847a8a43dcf3141e3552d": {
          "model_module": "@jupyter-widgets/controls",
          "model_name": "DescriptionStyleModel",
          "model_module_version": "1.5.0",
          "state": {
            "_model_module": "@jupyter-widgets/controls",
            "_model_module_version": "1.5.0",
            "_model_name": "DescriptionStyleModel",
            "_view_count": null,
            "_view_module": "@jupyter-widgets/base",
            "_view_module_version": "1.2.0",
            "_view_name": "StyleView",
            "description_width": ""
          }
        },
        "6d677be72ad64c9993a3915d8b8a800c": {
          "model_module": "@jupyter-widgets/controls",
          "model_name": "HBoxModel",
          "model_module_version": "1.5.0",
          "state": {
            "_dom_classes": [],
            "_model_module": "@jupyter-widgets/controls",
            "_model_module_version": "1.5.0",
            "_model_name": "HBoxModel",
            "_view_count": null,
            "_view_module": "@jupyter-widgets/controls",
            "_view_module_version": "1.5.0",
            "_view_name": "HBoxView",
            "box_style": "",
            "children": [
              "IPY_MODEL_2acf3cdc5d2e4e40a9cca92ef825649e",
              "IPY_MODEL_d32fce64211346c48128f6ca16fcba3b",
              "IPY_MODEL_2ad0efe15f19454183c9a95865e7c89d"
            ],
            "layout": "IPY_MODEL_e7748339e2ba4fd0b283fa40e36f9610"
          }
        },
        "2acf3cdc5d2e4e40a9cca92ef825649e": {
          "model_module": "@jupyter-widgets/controls",
          "model_name": "HTMLModel",
          "model_module_version": "1.5.0",
          "state": {
            "_dom_classes": [],
            "_model_module": "@jupyter-widgets/controls",
            "_model_module_version": "1.5.0",
            "_model_name": "HTMLModel",
            "_view_count": null,
            "_view_module": "@jupyter-widgets/controls",
            "_view_module_version": "1.5.0",
            "_view_name": "HTMLView",
            "description": "",
            "description_tooltip": null,
            "layout": "IPY_MODEL_89a69ed090a54711a2f1cd4cc1651288",
            "placeholder": "​",
            "style": "IPY_MODEL_cd1a6e1d25fd4c769a33c4da8f1ce7b7",
            "value": "model.safetensors: 100%"
          }
        },
        "d32fce64211346c48128f6ca16fcba3b": {
          "model_module": "@jupyter-widgets/controls",
          "model_name": "FloatProgressModel",
          "model_module_version": "1.5.0",
          "state": {
            "_dom_classes": [],
            "_model_module": "@jupyter-widgets/controls",
            "_model_module_version": "1.5.0",
            "_model_name": "FloatProgressModel",
            "_view_count": null,
            "_view_module": "@jupyter-widgets/controls",
            "_view_module_version": "1.5.0",
            "_view_name": "ProgressView",
            "bar_style": "success",
            "description": "",
            "description_tooltip": null,
            "layout": "IPY_MODEL_90f0c2ecc5354b67a6fba61ff24cf85a",
            "max": 440449768,
            "min": 0,
            "orientation": "horizontal",
            "style": "IPY_MODEL_603c56b3adc54315bb1967884fcc3fdf",
            "value": 440449768
          }
        },
        "2ad0efe15f19454183c9a95865e7c89d": {
          "model_module": "@jupyter-widgets/controls",
          "model_name": "HTMLModel",
          "model_module_version": "1.5.0",
          "state": {
            "_dom_classes": [],
            "_model_module": "@jupyter-widgets/controls",
            "_model_module_version": "1.5.0",
            "_model_name": "HTMLModel",
            "_view_count": null,
            "_view_module": "@jupyter-widgets/controls",
            "_view_module_version": "1.5.0",
            "_view_name": "HTMLView",
            "description": "",
            "description_tooltip": null,
            "layout": "IPY_MODEL_a9208e4ca20441f68d8537e1827a4ba5",
            "placeholder": "​",
            "style": "IPY_MODEL_3bed0bcb4e8d4e668c033070072efb5f",
            "value": " 440M/440M [00:01&lt;00:00, 253MB/s]"
          }
        },
        "e7748339e2ba4fd0b283fa40e36f9610": {
          "model_module": "@jupyter-widgets/base",
          "model_name": "LayoutModel",
          "model_module_version": "1.2.0",
          "state": {
            "_model_module": "@jupyter-widgets/base",
            "_model_module_version": "1.2.0",
            "_model_name": "LayoutModel",
            "_view_count": null,
            "_view_module": "@jupyter-widgets/base",
            "_view_module_version": "1.2.0",
            "_view_name": "LayoutView",
            "align_content": null,
            "align_items": null,
            "align_self": null,
            "border": null,
            "bottom": null,
            "display": null,
            "flex": null,
            "flex_flow": null,
            "grid_area": null,
            "grid_auto_columns": null,
            "grid_auto_flow": null,
            "grid_auto_rows": null,
            "grid_column": null,
            "grid_gap": null,
            "grid_row": null,
            "grid_template_areas": null,
            "grid_template_columns": null,
            "grid_template_rows": null,
            "height": null,
            "justify_content": null,
            "justify_items": null,
            "left": null,
            "margin": null,
            "max_height": null,
            "max_width": null,
            "min_height": null,
            "min_width": null,
            "object_fit": null,
            "object_position": null,
            "order": null,
            "overflow": null,
            "overflow_x": null,
            "overflow_y": null,
            "padding": null,
            "right": null,
            "top": null,
            "visibility": null,
            "width": null
          }
        },
        "89a69ed090a54711a2f1cd4cc1651288": {
          "model_module": "@jupyter-widgets/base",
          "model_name": "LayoutModel",
          "model_module_version": "1.2.0",
          "state": {
            "_model_module": "@jupyter-widgets/base",
            "_model_module_version": "1.2.0",
            "_model_name": "LayoutModel",
            "_view_count": null,
            "_view_module": "@jupyter-widgets/base",
            "_view_module_version": "1.2.0",
            "_view_name": "LayoutView",
            "align_content": null,
            "align_items": null,
            "align_self": null,
            "border": null,
            "bottom": null,
            "display": null,
            "flex": null,
            "flex_flow": null,
            "grid_area": null,
            "grid_auto_columns": null,
            "grid_auto_flow": null,
            "grid_auto_rows": null,
            "grid_column": null,
            "grid_gap": null,
            "grid_row": null,
            "grid_template_areas": null,
            "grid_template_columns": null,
            "grid_template_rows": null,
            "height": null,
            "justify_content": null,
            "justify_items": null,
            "left": null,
            "margin": null,
            "max_height": null,
            "max_width": null,
            "min_height": null,
            "min_width": null,
            "object_fit": null,
            "object_position": null,
            "order": null,
            "overflow": null,
            "overflow_x": null,
            "overflow_y": null,
            "padding": null,
            "right": null,
            "top": null,
            "visibility": null,
            "width": null
          }
        },
        "cd1a6e1d25fd4c769a33c4da8f1ce7b7": {
          "model_module": "@jupyter-widgets/controls",
          "model_name": "DescriptionStyleModel",
          "model_module_version": "1.5.0",
          "state": {
            "_model_module": "@jupyter-widgets/controls",
            "_model_module_version": "1.5.0",
            "_model_name": "DescriptionStyleModel",
            "_view_count": null,
            "_view_module": "@jupyter-widgets/base",
            "_view_module_version": "1.2.0",
            "_view_name": "StyleView",
            "description_width": ""
          }
        },
        "90f0c2ecc5354b67a6fba61ff24cf85a": {
          "model_module": "@jupyter-widgets/base",
          "model_name": "LayoutModel",
          "model_module_version": "1.2.0",
          "state": {
            "_model_module": "@jupyter-widgets/base",
            "_model_module_version": "1.2.0",
            "_model_name": "LayoutModel",
            "_view_count": null,
            "_view_module": "@jupyter-widgets/base",
            "_view_module_version": "1.2.0",
            "_view_name": "LayoutView",
            "align_content": null,
            "align_items": null,
            "align_self": null,
            "border": null,
            "bottom": null,
            "display": null,
            "flex": null,
            "flex_flow": null,
            "grid_area": null,
            "grid_auto_columns": null,
            "grid_auto_flow": null,
            "grid_auto_rows": null,
            "grid_column": null,
            "grid_gap": null,
            "grid_row": null,
            "grid_template_areas": null,
            "grid_template_columns": null,
            "grid_template_rows": null,
            "height": null,
            "justify_content": null,
            "justify_items": null,
            "left": null,
            "margin": null,
            "max_height": null,
            "max_width": null,
            "min_height": null,
            "min_width": null,
            "object_fit": null,
            "object_position": null,
            "order": null,
            "overflow": null,
            "overflow_x": null,
            "overflow_y": null,
            "padding": null,
            "right": null,
            "top": null,
            "visibility": null,
            "width": null
          }
        },
        "603c56b3adc54315bb1967884fcc3fdf": {
          "model_module": "@jupyter-widgets/controls",
          "model_name": "ProgressStyleModel",
          "model_module_version": "1.5.0",
          "state": {
            "_model_module": "@jupyter-widgets/controls",
            "_model_module_version": "1.5.0",
            "_model_name": "ProgressStyleModel",
            "_view_count": null,
            "_view_module": "@jupyter-widgets/base",
            "_view_module_version": "1.2.0",
            "_view_name": "StyleView",
            "bar_color": null,
            "description_width": ""
          }
        },
        "a9208e4ca20441f68d8537e1827a4ba5": {
          "model_module": "@jupyter-widgets/base",
          "model_name": "LayoutModel",
          "model_module_version": "1.2.0",
          "state": {
            "_model_module": "@jupyter-widgets/base",
            "_model_module_version": "1.2.0",
            "_model_name": "LayoutModel",
            "_view_count": null,
            "_view_module": "@jupyter-widgets/base",
            "_view_module_version": "1.2.0",
            "_view_name": "LayoutView",
            "align_content": null,
            "align_items": null,
            "align_self": null,
            "border": null,
            "bottom": null,
            "display": null,
            "flex": null,
            "flex_flow": null,
            "grid_area": null,
            "grid_auto_columns": null,
            "grid_auto_flow": null,
            "grid_auto_rows": null,
            "grid_column": null,
            "grid_gap": null,
            "grid_row": null,
            "grid_template_areas": null,
            "grid_template_columns": null,
            "grid_template_rows": null,
            "height": null,
            "justify_content": null,
            "justify_items": null,
            "left": null,
            "margin": null,
            "max_height": null,
            "max_width": null,
            "min_height": null,
            "min_width": null,
            "object_fit": null,
            "object_position": null,
            "order": null,
            "overflow": null,
            "overflow_x": null,
            "overflow_y": null,
            "padding": null,
            "right": null,
            "top": null,
            "visibility": null,
            "width": null
          }
        },
        "3bed0bcb4e8d4e668c033070072efb5f": {
          "model_module": "@jupyter-widgets/controls",
          "model_name": "DescriptionStyleModel",
          "model_module_version": "1.5.0",
          "state": {
            "_model_module": "@jupyter-widgets/controls",
            "_model_module_version": "1.5.0",
            "_model_name": "DescriptionStyleModel",
            "_view_count": null,
            "_view_module": "@jupyter-widgets/base",
            "_view_module_version": "1.2.0",
            "_view_name": "StyleView",
            "description_width": ""
          }
        },
        "46d0983bb31b4f6d9874656e47b26247": {
          "model_module": "@jupyter-widgets/controls",
          "model_name": "HBoxModel",
          "model_module_version": "1.5.0",
          "state": {
            "_dom_classes": [],
            "_model_module": "@jupyter-widgets/controls",
            "_model_module_version": "1.5.0",
            "_model_name": "HBoxModel",
            "_view_count": null,
            "_view_module": "@jupyter-widgets/controls",
            "_view_module_version": "1.5.0",
            "_view_name": "HBoxView",
            "box_style": "",
            "children": [
              "IPY_MODEL_b60b3e291a634ff397ea9b8b632cd37b",
              "IPY_MODEL_1d1c4e88d5c847f79a690d38471c2e6a",
              "IPY_MODEL_234b0c464f4548b18302b543451f2b68"
            ],
            "layout": "IPY_MODEL_f48eaeb9404549bc8c03dd96791588c0"
          }
        },
        "b60b3e291a634ff397ea9b8b632cd37b": {
          "model_module": "@jupyter-widgets/controls",
          "model_name": "HTMLModel",
          "model_module_version": "1.5.0",
          "state": {
            "_dom_classes": [],
            "_model_module": "@jupyter-widgets/controls",
            "_model_module_version": "1.5.0",
            "_model_name": "HTMLModel",
            "_view_count": null,
            "_view_module": "@jupyter-widgets/controls",
            "_view_module_version": "1.5.0",
            "_view_name": "HTMLView",
            "description": "",
            "description_tooltip": null,
            "layout": "IPY_MODEL_b2d4cd94d61a4cd79c76425f2188b297",
            "placeholder": "​",
            "style": "IPY_MODEL_82c862b75e4c454ebb473dc0145cd5c5",
            "value": "tokenizer_config.json: 100%"
          }
        },
        "1d1c4e88d5c847f79a690d38471c2e6a": {
          "model_module": "@jupyter-widgets/controls",
          "model_name": "FloatProgressModel",
          "model_module_version": "1.5.0",
          "state": {
            "_dom_classes": [],
            "_model_module": "@jupyter-widgets/controls",
            "_model_module_version": "1.5.0",
            "_model_name": "FloatProgressModel",
            "_view_count": null,
            "_view_module": "@jupyter-widgets/controls",
            "_view_module_version": "1.5.0",
            "_view_name": "ProgressView",
            "bar_style": "success",
            "description": "",
            "description_tooltip": null,
            "layout": "IPY_MODEL_ab47dde7b3314fa4899339ef57020422",
            "max": 48,
            "min": 0,
            "orientation": "horizontal",
            "style": "IPY_MODEL_2e0e082a5af3462486737b219e0256d7",
            "value": 48
          }
        },
        "234b0c464f4548b18302b543451f2b68": {
          "model_module": "@jupyter-widgets/controls",
          "model_name": "HTMLModel",
          "model_module_version": "1.5.0",
          "state": {
            "_dom_classes": [],
            "_model_module": "@jupyter-widgets/controls",
            "_model_module_version": "1.5.0",
            "_model_name": "HTMLModel",
            "_view_count": null,
            "_view_module": "@jupyter-widgets/controls",
            "_view_module_version": "1.5.0",
            "_view_name": "HTMLView",
            "description": "",
            "description_tooltip": null,
            "layout": "IPY_MODEL_f266ca34c2534ae89f2480db75f1bf1b",
            "placeholder": "​",
            "style": "IPY_MODEL_a3cdd126a73e4b01acc8c07c18df1e49",
            "value": " 48.0/48.0 [00:00&lt;00:00, 3.85kB/s]"
          }
        },
        "f48eaeb9404549bc8c03dd96791588c0": {
          "model_module": "@jupyter-widgets/base",
          "model_name": "LayoutModel",
          "model_module_version": "1.2.0",
          "state": {
            "_model_module": "@jupyter-widgets/base",
            "_model_module_version": "1.2.0",
            "_model_name": "LayoutModel",
            "_view_count": null,
            "_view_module": "@jupyter-widgets/base",
            "_view_module_version": "1.2.0",
            "_view_name": "LayoutView",
            "align_content": null,
            "align_items": null,
            "align_self": null,
            "border": null,
            "bottom": null,
            "display": null,
            "flex": null,
            "flex_flow": null,
            "grid_area": null,
            "grid_auto_columns": null,
            "grid_auto_flow": null,
            "grid_auto_rows": null,
            "grid_column": null,
            "grid_gap": null,
            "grid_row": null,
            "grid_template_areas": null,
            "grid_template_columns": null,
            "grid_template_rows": null,
            "height": null,
            "justify_content": null,
            "justify_items": null,
            "left": null,
            "margin": null,
            "max_height": null,
            "max_width": null,
            "min_height": null,
            "min_width": null,
            "object_fit": null,
            "object_position": null,
            "order": null,
            "overflow": null,
            "overflow_x": null,
            "overflow_y": null,
            "padding": null,
            "right": null,
            "top": null,
            "visibility": null,
            "width": null
          }
        },
        "b2d4cd94d61a4cd79c76425f2188b297": {
          "model_module": "@jupyter-widgets/base",
          "model_name": "LayoutModel",
          "model_module_version": "1.2.0",
          "state": {
            "_model_module": "@jupyter-widgets/base",
            "_model_module_version": "1.2.0",
            "_model_name": "LayoutModel",
            "_view_count": null,
            "_view_module": "@jupyter-widgets/base",
            "_view_module_version": "1.2.0",
            "_view_name": "LayoutView",
            "align_content": null,
            "align_items": null,
            "align_self": null,
            "border": null,
            "bottom": null,
            "display": null,
            "flex": null,
            "flex_flow": null,
            "grid_area": null,
            "grid_auto_columns": null,
            "grid_auto_flow": null,
            "grid_auto_rows": null,
            "grid_column": null,
            "grid_gap": null,
            "grid_row": null,
            "grid_template_areas": null,
            "grid_template_columns": null,
            "grid_template_rows": null,
            "height": null,
            "justify_content": null,
            "justify_items": null,
            "left": null,
            "margin": null,
            "max_height": null,
            "max_width": null,
            "min_height": null,
            "min_width": null,
            "object_fit": null,
            "object_position": null,
            "order": null,
            "overflow": null,
            "overflow_x": null,
            "overflow_y": null,
            "padding": null,
            "right": null,
            "top": null,
            "visibility": null,
            "width": null
          }
        },
        "82c862b75e4c454ebb473dc0145cd5c5": {
          "model_module": "@jupyter-widgets/controls",
          "model_name": "DescriptionStyleModel",
          "model_module_version": "1.5.0",
          "state": {
            "_model_module": "@jupyter-widgets/controls",
            "_model_module_version": "1.5.0",
            "_model_name": "DescriptionStyleModel",
            "_view_count": null,
            "_view_module": "@jupyter-widgets/base",
            "_view_module_version": "1.2.0",
            "_view_name": "StyleView",
            "description_width": ""
          }
        },
        "ab47dde7b3314fa4899339ef57020422": {
          "model_module": "@jupyter-widgets/base",
          "model_name": "LayoutModel",
          "model_module_version": "1.2.0",
          "state": {
            "_model_module": "@jupyter-widgets/base",
            "_model_module_version": "1.2.0",
            "_model_name": "LayoutModel",
            "_view_count": null,
            "_view_module": "@jupyter-widgets/base",
            "_view_module_version": "1.2.0",
            "_view_name": "LayoutView",
            "align_content": null,
            "align_items": null,
            "align_self": null,
            "border": null,
            "bottom": null,
            "display": null,
            "flex": null,
            "flex_flow": null,
            "grid_area": null,
            "grid_auto_columns": null,
            "grid_auto_flow": null,
            "grid_auto_rows": null,
            "grid_column": null,
            "grid_gap": null,
            "grid_row": null,
            "grid_template_areas": null,
            "grid_template_columns": null,
            "grid_template_rows": null,
            "height": null,
            "justify_content": null,
            "justify_items": null,
            "left": null,
            "margin": null,
            "max_height": null,
            "max_width": null,
            "min_height": null,
            "min_width": null,
            "object_fit": null,
            "object_position": null,
            "order": null,
            "overflow": null,
            "overflow_x": null,
            "overflow_y": null,
            "padding": null,
            "right": null,
            "top": null,
            "visibility": null,
            "width": null
          }
        },
        "2e0e082a5af3462486737b219e0256d7": {
          "model_module": "@jupyter-widgets/controls",
          "model_name": "ProgressStyleModel",
          "model_module_version": "1.5.0",
          "state": {
            "_model_module": "@jupyter-widgets/controls",
            "_model_module_version": "1.5.0",
            "_model_name": "ProgressStyleModel",
            "_view_count": null,
            "_view_module": "@jupyter-widgets/base",
            "_view_module_version": "1.2.0",
            "_view_name": "StyleView",
            "bar_color": null,
            "description_width": ""
          }
        },
        "f266ca34c2534ae89f2480db75f1bf1b": {
          "model_module": "@jupyter-widgets/base",
          "model_name": "LayoutModel",
          "model_module_version": "1.2.0",
          "state": {
            "_model_module": "@jupyter-widgets/base",
            "_model_module_version": "1.2.0",
            "_model_name": "LayoutModel",
            "_view_count": null,
            "_view_module": "@jupyter-widgets/base",
            "_view_module_version": "1.2.0",
            "_view_name": "LayoutView",
            "align_content": null,
            "align_items": null,
            "align_self": null,
            "border": null,
            "bottom": null,
            "display": null,
            "flex": null,
            "flex_flow": null,
            "grid_area": null,
            "grid_auto_columns": null,
            "grid_auto_flow": null,
            "grid_auto_rows": null,
            "grid_column": null,
            "grid_gap": null,
            "grid_row": null,
            "grid_template_areas": null,
            "grid_template_columns": null,
            "grid_template_rows": null,
            "height": null,
            "justify_content": null,
            "justify_items": null,
            "left": null,
            "margin": null,
            "max_height": null,
            "max_width": null,
            "min_height": null,
            "min_width": null,
            "object_fit": null,
            "object_position": null,
            "order": null,
            "overflow": null,
            "overflow_x": null,
            "overflow_y": null,
            "padding": null,
            "right": null,
            "top": null,
            "visibility": null,
            "width": null
          }
        },
        "a3cdd126a73e4b01acc8c07c18df1e49": {
          "model_module": "@jupyter-widgets/controls",
          "model_name": "DescriptionStyleModel",
          "model_module_version": "1.5.0",
          "state": {
            "_model_module": "@jupyter-widgets/controls",
            "_model_module_version": "1.5.0",
            "_model_name": "DescriptionStyleModel",
            "_view_count": null,
            "_view_module": "@jupyter-widgets/base",
            "_view_module_version": "1.2.0",
            "_view_name": "StyleView",
            "description_width": ""
          }
        },
        "aeb6ffb394cf4b6f94b581a0c634e07a": {
          "model_module": "@jupyter-widgets/controls",
          "model_name": "HBoxModel",
          "model_module_version": "1.5.0",
          "state": {
            "_dom_classes": [],
            "_model_module": "@jupyter-widgets/controls",
            "_model_module_version": "1.5.0",
            "_model_name": "HBoxModel",
            "_view_count": null,
            "_view_module": "@jupyter-widgets/controls",
            "_view_module_version": "1.5.0",
            "_view_name": "HBoxView",
            "box_style": "",
            "children": [
              "IPY_MODEL_64e8a7b2732b456f9df09b20a295de36",
              "IPY_MODEL_d1884784e7cc4080a19ec98f60971f24",
              "IPY_MODEL_5b32e1de0cc44026960a2bbb1baae221"
            ],
            "layout": "IPY_MODEL_6c37a3d21d7447efad99348c988b68d8"
          }
        },
        "64e8a7b2732b456f9df09b20a295de36": {
          "model_module": "@jupyter-widgets/controls",
          "model_name": "HTMLModel",
          "model_module_version": "1.5.0",
          "state": {
            "_dom_classes": [],
            "_model_module": "@jupyter-widgets/controls",
            "_model_module_version": "1.5.0",
            "_model_name": "HTMLModel",
            "_view_count": null,
            "_view_module": "@jupyter-widgets/controls",
            "_view_module_version": "1.5.0",
            "_view_name": "HTMLView",
            "description": "",
            "description_tooltip": null,
            "layout": "IPY_MODEL_0735e8d0601b4d31af713eff1cf173d7",
            "placeholder": "​",
            "style": "IPY_MODEL_e3cef8b8c82247baa36f74d48018b529",
            "value": "vocab.txt: 100%"
          }
        },
        "d1884784e7cc4080a19ec98f60971f24": {
          "model_module": "@jupyter-widgets/controls",
          "model_name": "FloatProgressModel",
          "model_module_version": "1.5.0",
          "state": {
            "_dom_classes": [],
            "_model_module": "@jupyter-widgets/controls",
            "_model_module_version": "1.5.0",
            "_model_name": "FloatProgressModel",
            "_view_count": null,
            "_view_module": "@jupyter-widgets/controls",
            "_view_module_version": "1.5.0",
            "_view_name": "ProgressView",
            "bar_style": "success",
            "description": "",
            "description_tooltip": null,
            "layout": "IPY_MODEL_ead00563ac094f2793b089d09a66342f",
            "max": 231508,
            "min": 0,
            "orientation": "horizontal",
            "style": "IPY_MODEL_bcc7ba278c9645c98db56bc19daee8a2",
            "value": 231508
          }
        },
        "5b32e1de0cc44026960a2bbb1baae221": {
          "model_module": "@jupyter-widgets/controls",
          "model_name": "HTMLModel",
          "model_module_version": "1.5.0",
          "state": {
            "_dom_classes": [],
            "_model_module": "@jupyter-widgets/controls",
            "_model_module_version": "1.5.0",
            "_model_name": "HTMLModel",
            "_view_count": null,
            "_view_module": "@jupyter-widgets/controls",
            "_view_module_version": "1.5.0",
            "_view_name": "HTMLView",
            "description": "",
            "description_tooltip": null,
            "layout": "IPY_MODEL_5fbea7827cf44a259bd6a03246f46667",
            "placeholder": "​",
            "style": "IPY_MODEL_9bea497f10f54f05b385e1f91d902ca4",
            "value": " 232k/232k [00:00&lt;00:00, 507kB/s]"
          }
        },
        "6c37a3d21d7447efad99348c988b68d8": {
          "model_module": "@jupyter-widgets/base",
          "model_name": "LayoutModel",
          "model_module_version": "1.2.0",
          "state": {
            "_model_module": "@jupyter-widgets/base",
            "_model_module_version": "1.2.0",
            "_model_name": "LayoutModel",
            "_view_count": null,
            "_view_module": "@jupyter-widgets/base",
            "_view_module_version": "1.2.0",
            "_view_name": "LayoutView",
            "align_content": null,
            "align_items": null,
            "align_self": null,
            "border": null,
            "bottom": null,
            "display": null,
            "flex": null,
            "flex_flow": null,
            "grid_area": null,
            "grid_auto_columns": null,
            "grid_auto_flow": null,
            "grid_auto_rows": null,
            "grid_column": null,
            "grid_gap": null,
            "grid_row": null,
            "grid_template_areas": null,
            "grid_template_columns": null,
            "grid_template_rows": null,
            "height": null,
            "justify_content": null,
            "justify_items": null,
            "left": null,
            "margin": null,
            "max_height": null,
            "max_width": null,
            "min_height": null,
            "min_width": null,
            "object_fit": null,
            "object_position": null,
            "order": null,
            "overflow": null,
            "overflow_x": null,
            "overflow_y": null,
            "padding": null,
            "right": null,
            "top": null,
            "visibility": null,
            "width": null
          }
        },
        "0735e8d0601b4d31af713eff1cf173d7": {
          "model_module": "@jupyter-widgets/base",
          "model_name": "LayoutModel",
          "model_module_version": "1.2.0",
          "state": {
            "_model_module": "@jupyter-widgets/base",
            "_model_module_version": "1.2.0",
            "_model_name": "LayoutModel",
            "_view_count": null,
            "_view_module": "@jupyter-widgets/base",
            "_view_module_version": "1.2.0",
            "_view_name": "LayoutView",
            "align_content": null,
            "align_items": null,
            "align_self": null,
            "border": null,
            "bottom": null,
            "display": null,
            "flex": null,
            "flex_flow": null,
            "grid_area": null,
            "grid_auto_columns": null,
            "grid_auto_flow": null,
            "grid_auto_rows": null,
            "grid_column": null,
            "grid_gap": null,
            "grid_row": null,
            "grid_template_areas": null,
            "grid_template_columns": null,
            "grid_template_rows": null,
            "height": null,
            "justify_content": null,
            "justify_items": null,
            "left": null,
            "margin": null,
            "max_height": null,
            "max_width": null,
            "min_height": null,
            "min_width": null,
            "object_fit": null,
            "object_position": null,
            "order": null,
            "overflow": null,
            "overflow_x": null,
            "overflow_y": null,
            "padding": null,
            "right": null,
            "top": null,
            "visibility": null,
            "width": null
          }
        },
        "e3cef8b8c82247baa36f74d48018b529": {
          "model_module": "@jupyter-widgets/controls",
          "model_name": "DescriptionStyleModel",
          "model_module_version": "1.5.0",
          "state": {
            "_model_module": "@jupyter-widgets/controls",
            "_model_module_version": "1.5.0",
            "_model_name": "DescriptionStyleModel",
            "_view_count": null,
            "_view_module": "@jupyter-widgets/base",
            "_view_module_version": "1.2.0",
            "_view_name": "StyleView",
            "description_width": ""
          }
        },
        "ead00563ac094f2793b089d09a66342f": {
          "model_module": "@jupyter-widgets/base",
          "model_name": "LayoutModel",
          "model_module_version": "1.2.0",
          "state": {
            "_model_module": "@jupyter-widgets/base",
            "_model_module_version": "1.2.0",
            "_model_name": "LayoutModel",
            "_view_count": null,
            "_view_module": "@jupyter-widgets/base",
            "_view_module_version": "1.2.0",
            "_view_name": "LayoutView",
            "align_content": null,
            "align_items": null,
            "align_self": null,
            "border": null,
            "bottom": null,
            "display": null,
            "flex": null,
            "flex_flow": null,
            "grid_area": null,
            "grid_auto_columns": null,
            "grid_auto_flow": null,
            "grid_auto_rows": null,
            "grid_column": null,
            "grid_gap": null,
            "grid_row": null,
            "grid_template_areas": null,
            "grid_template_columns": null,
            "grid_template_rows": null,
            "height": null,
            "justify_content": null,
            "justify_items": null,
            "left": null,
            "margin": null,
            "max_height": null,
            "max_width": null,
            "min_height": null,
            "min_width": null,
            "object_fit": null,
            "object_position": null,
            "order": null,
            "overflow": null,
            "overflow_x": null,
            "overflow_y": null,
            "padding": null,
            "right": null,
            "top": null,
            "visibility": null,
            "width": null
          }
        },
        "bcc7ba278c9645c98db56bc19daee8a2": {
          "model_module": "@jupyter-widgets/controls",
          "model_name": "ProgressStyleModel",
          "model_module_version": "1.5.0",
          "state": {
            "_model_module": "@jupyter-widgets/controls",
            "_model_module_version": "1.5.0",
            "_model_name": "ProgressStyleModel",
            "_view_count": null,
            "_view_module": "@jupyter-widgets/base",
            "_view_module_version": "1.2.0",
            "_view_name": "StyleView",
            "bar_color": null,
            "description_width": ""
          }
        },
        "5fbea7827cf44a259bd6a03246f46667": {
          "model_module": "@jupyter-widgets/base",
          "model_name": "LayoutModel",
          "model_module_version": "1.2.0",
          "state": {
            "_model_module": "@jupyter-widgets/base",
            "_model_module_version": "1.2.0",
            "_model_name": "LayoutModel",
            "_view_count": null,
            "_view_module": "@jupyter-widgets/base",
            "_view_module_version": "1.2.0",
            "_view_name": "LayoutView",
            "align_content": null,
            "align_items": null,
            "align_self": null,
            "border": null,
            "bottom": null,
            "display": null,
            "flex": null,
            "flex_flow": null,
            "grid_area": null,
            "grid_auto_columns": null,
            "grid_auto_flow": null,
            "grid_auto_rows": null,
            "grid_column": null,
            "grid_gap": null,
            "grid_row": null,
            "grid_template_areas": null,
            "grid_template_columns": null,
            "grid_template_rows": null,
            "height": null,
            "justify_content": null,
            "justify_items": null,
            "left": null,
            "margin": null,
            "max_height": null,
            "max_width": null,
            "min_height": null,
            "min_width": null,
            "object_fit": null,
            "object_position": null,
            "order": null,
            "overflow": null,
            "overflow_x": null,
            "overflow_y": null,
            "padding": null,
            "right": null,
            "top": null,
            "visibility": null,
            "width": null
          }
        },
        "9bea497f10f54f05b385e1f91d902ca4": {
          "model_module": "@jupyter-widgets/controls",
          "model_name": "DescriptionStyleModel",
          "model_module_version": "1.5.0",
          "state": {
            "_model_module": "@jupyter-widgets/controls",
            "_model_module_version": "1.5.0",
            "_model_name": "DescriptionStyleModel",
            "_view_count": null,
            "_view_module": "@jupyter-widgets/base",
            "_view_module_version": "1.2.0",
            "_view_name": "StyleView",
            "description_width": ""
          }
        },
        "9cda3c47ec5c449685f4d7e5adf08d2a": {
          "model_module": "@jupyter-widgets/controls",
          "model_name": "HBoxModel",
          "model_module_version": "1.5.0",
          "state": {
            "_dom_classes": [],
            "_model_module": "@jupyter-widgets/controls",
            "_model_module_version": "1.5.0",
            "_model_name": "HBoxModel",
            "_view_count": null,
            "_view_module": "@jupyter-widgets/controls",
            "_view_module_version": "1.5.0",
            "_view_name": "HBoxView",
            "box_style": "",
            "children": [
              "IPY_MODEL_8df551fe1d56414f9369d4e759097b51",
              "IPY_MODEL_46828d595fed42dd8a7d5207d0787819",
              "IPY_MODEL_80df5fe7ea964dcda9f3ac5a1290f33f"
            ],
            "layout": "IPY_MODEL_773aed6abbcd47bf918d9090476a3571"
          }
        },
        "8df551fe1d56414f9369d4e759097b51": {
          "model_module": "@jupyter-widgets/controls",
          "model_name": "HTMLModel",
          "model_module_version": "1.5.0",
          "state": {
            "_dom_classes": [],
            "_model_module": "@jupyter-widgets/controls",
            "_model_module_version": "1.5.0",
            "_model_name": "HTMLModel",
            "_view_count": null,
            "_view_module": "@jupyter-widgets/controls",
            "_view_module_version": "1.5.0",
            "_view_name": "HTMLView",
            "description": "",
            "description_tooltip": null,
            "layout": "IPY_MODEL_d29e72aea1054d72b01bc4350a4ea314",
            "placeholder": "​",
            "style": "IPY_MODEL_c7c97ef657014de98a780898e2ea8830",
            "value": "tokenizer.json: 100%"
          }
        },
        "46828d595fed42dd8a7d5207d0787819": {
          "model_module": "@jupyter-widgets/controls",
          "model_name": "FloatProgressModel",
          "model_module_version": "1.5.0",
          "state": {
            "_dom_classes": [],
            "_model_module": "@jupyter-widgets/controls",
            "_model_module_version": "1.5.0",
            "_model_name": "FloatProgressModel",
            "_view_count": null,
            "_view_module": "@jupyter-widgets/controls",
            "_view_module_version": "1.5.0",
            "_view_name": "ProgressView",
            "bar_style": "success",
            "description": "",
            "description_tooltip": null,
            "layout": "IPY_MODEL_57a9144f6d294382aed8ae82d0be5f4e",
            "max": 466062,
            "min": 0,
            "orientation": "horizontal",
            "style": "IPY_MODEL_c15def1e5278439caae7abe5103b97d9",
            "value": 466062
          }
        },
        "80df5fe7ea964dcda9f3ac5a1290f33f": {
          "model_module": "@jupyter-widgets/controls",
          "model_name": "HTMLModel",
          "model_module_version": "1.5.0",
          "state": {
            "_dom_classes": [],
            "_model_module": "@jupyter-widgets/controls",
            "_model_module_version": "1.5.0",
            "_model_name": "HTMLModel",
            "_view_count": null,
            "_view_module": "@jupyter-widgets/controls",
            "_view_module_version": "1.5.0",
            "_view_name": "HTMLView",
            "description": "",
            "description_tooltip": null,
            "layout": "IPY_MODEL_a676cf92e3df4544853d4204638f232f",
            "placeholder": "​",
            "style": "IPY_MODEL_099e8206e578446381ad4581730346f4",
            "value": " 466k/466k [00:00&lt;00:00, 27.6MB/s]"
          }
        },
        "773aed6abbcd47bf918d9090476a3571": {
          "model_module": "@jupyter-widgets/base",
          "model_name": "LayoutModel",
          "model_module_version": "1.2.0",
          "state": {
            "_model_module": "@jupyter-widgets/base",
            "_model_module_version": "1.2.0",
            "_model_name": "LayoutModel",
            "_view_count": null,
            "_view_module": "@jupyter-widgets/base",
            "_view_module_version": "1.2.0",
            "_view_name": "LayoutView",
            "align_content": null,
            "align_items": null,
            "align_self": null,
            "border": null,
            "bottom": null,
            "display": null,
            "flex": null,
            "flex_flow": null,
            "grid_area": null,
            "grid_auto_columns": null,
            "grid_auto_flow": null,
            "grid_auto_rows": null,
            "grid_column": null,
            "grid_gap": null,
            "grid_row": null,
            "grid_template_areas": null,
            "grid_template_columns": null,
            "grid_template_rows": null,
            "height": null,
            "justify_content": null,
            "justify_items": null,
            "left": null,
            "margin": null,
            "max_height": null,
            "max_width": null,
            "min_height": null,
            "min_width": null,
            "object_fit": null,
            "object_position": null,
            "order": null,
            "overflow": null,
            "overflow_x": null,
            "overflow_y": null,
            "padding": null,
            "right": null,
            "top": null,
            "visibility": null,
            "width": null
          }
        },
        "d29e72aea1054d72b01bc4350a4ea314": {
          "model_module": "@jupyter-widgets/base",
          "model_name": "LayoutModel",
          "model_module_version": "1.2.0",
          "state": {
            "_model_module": "@jupyter-widgets/base",
            "_model_module_version": "1.2.0",
            "_model_name": "LayoutModel",
            "_view_count": null,
            "_view_module": "@jupyter-widgets/base",
            "_view_module_version": "1.2.0",
            "_view_name": "LayoutView",
            "align_content": null,
            "align_items": null,
            "align_self": null,
            "border": null,
            "bottom": null,
            "display": null,
            "flex": null,
            "flex_flow": null,
            "grid_area": null,
            "grid_auto_columns": null,
            "grid_auto_flow": null,
            "grid_auto_rows": null,
            "grid_column": null,
            "grid_gap": null,
            "grid_row": null,
            "grid_template_areas": null,
            "grid_template_columns": null,
            "grid_template_rows": null,
            "height": null,
            "justify_content": null,
            "justify_items": null,
            "left": null,
            "margin": null,
            "max_height": null,
            "max_width": null,
            "min_height": null,
            "min_width": null,
            "object_fit": null,
            "object_position": null,
            "order": null,
            "overflow": null,
            "overflow_x": null,
            "overflow_y": null,
            "padding": null,
            "right": null,
            "top": null,
            "visibility": null,
            "width": null
          }
        },
        "c7c97ef657014de98a780898e2ea8830": {
          "model_module": "@jupyter-widgets/controls",
          "model_name": "DescriptionStyleModel",
          "model_module_version": "1.5.0",
          "state": {
            "_model_module": "@jupyter-widgets/controls",
            "_model_module_version": "1.5.0",
            "_model_name": "DescriptionStyleModel",
            "_view_count": null,
            "_view_module": "@jupyter-widgets/base",
            "_view_module_version": "1.2.0",
            "_view_name": "StyleView",
            "description_width": ""
          }
        },
        "57a9144f6d294382aed8ae82d0be5f4e": {
          "model_module": "@jupyter-widgets/base",
          "model_name": "LayoutModel",
          "model_module_version": "1.2.0",
          "state": {
            "_model_module": "@jupyter-widgets/base",
            "_model_module_version": "1.2.0",
            "_model_name": "LayoutModel",
            "_view_count": null,
            "_view_module": "@jupyter-widgets/base",
            "_view_module_version": "1.2.0",
            "_view_name": "LayoutView",
            "align_content": null,
            "align_items": null,
            "align_self": null,
            "border": null,
            "bottom": null,
            "display": null,
            "flex": null,
            "flex_flow": null,
            "grid_area": null,
            "grid_auto_columns": null,
            "grid_auto_flow": null,
            "grid_auto_rows": null,
            "grid_column": null,
            "grid_gap": null,
            "grid_row": null,
            "grid_template_areas": null,
            "grid_template_columns": null,
            "grid_template_rows": null,
            "height": null,
            "justify_content": null,
            "justify_items": null,
            "left": null,
            "margin": null,
            "max_height": null,
            "max_width": null,
            "min_height": null,
            "min_width": null,
            "object_fit": null,
            "object_position": null,
            "order": null,
            "overflow": null,
            "overflow_x": null,
            "overflow_y": null,
            "padding": null,
            "right": null,
            "top": null,
            "visibility": null,
            "width": null
          }
        },
        "c15def1e5278439caae7abe5103b97d9": {
          "model_module": "@jupyter-widgets/controls",
          "model_name": "ProgressStyleModel",
          "model_module_version": "1.5.0",
          "state": {
            "_model_module": "@jupyter-widgets/controls",
            "_model_module_version": "1.5.0",
            "_model_name": "ProgressStyleModel",
            "_view_count": null,
            "_view_module": "@jupyter-widgets/base",
            "_view_module_version": "1.2.0",
            "_view_name": "StyleView",
            "bar_color": null,
            "description_width": ""
          }
        },
        "a676cf92e3df4544853d4204638f232f": {
          "model_module": "@jupyter-widgets/base",
          "model_name": "LayoutModel",
          "model_module_version": "1.2.0",
          "state": {
            "_model_module": "@jupyter-widgets/base",
            "_model_module_version": "1.2.0",
            "_model_name": "LayoutModel",
            "_view_count": null,
            "_view_module": "@jupyter-widgets/base",
            "_view_module_version": "1.2.0",
            "_view_name": "LayoutView",
            "align_content": null,
            "align_items": null,
            "align_self": null,
            "border": null,
            "bottom": null,
            "display": null,
            "flex": null,
            "flex_flow": null,
            "grid_area": null,
            "grid_auto_columns": null,
            "grid_auto_flow": null,
            "grid_auto_rows": null,
            "grid_column": null,
            "grid_gap": null,
            "grid_row": null,
            "grid_template_areas": null,
            "grid_template_columns": null,
            "grid_template_rows": null,
            "height": null,
            "justify_content": null,
            "justify_items": null,
            "left": null,
            "margin": null,
            "max_height": null,
            "max_width": null,
            "min_height": null,
            "min_width": null,
            "object_fit": null,
            "object_position": null,
            "order": null,
            "overflow": null,
            "overflow_x": null,
            "overflow_y": null,
            "padding": null,
            "right": null,
            "top": null,
            "visibility": null,
            "width": null
          }
        },
        "099e8206e578446381ad4581730346f4": {
          "model_module": "@jupyter-widgets/controls",
          "model_name": "DescriptionStyleModel",
          "model_module_version": "1.5.0",
          "state": {
            "_model_module": "@jupyter-widgets/controls",
            "_model_module_version": "1.5.0",
            "_model_name": "DescriptionStyleModel",
            "_view_count": null,
            "_view_module": "@jupyter-widgets/base",
            "_view_module_version": "1.2.0",
            "_view_name": "StyleView",
            "description_width": ""
          }
        },
        "a82ad2521b224200bc022008ad9bdc05": {
          "model_module": "@jupyter-widgets/controls",
          "model_name": "HBoxModel",
          "model_module_version": "1.5.0",
          "state": {
            "_dom_classes": [],
            "_model_module": "@jupyter-widgets/controls",
            "_model_module_version": "1.5.0",
            "_model_name": "HBoxModel",
            "_view_count": null,
            "_view_module": "@jupyter-widgets/controls",
            "_view_module_version": "1.5.0",
            "_view_name": "HBoxView",
            "box_style": "",
            "children": [
              "IPY_MODEL_f521d83b2eb04eaaada2bd285a0fc766",
              "IPY_MODEL_9f7b421e279442fd9cecd4ad095bed5c",
              "IPY_MODEL_1fc5f569543e41588c7048234c87b0c7"
            ],
            "layout": "IPY_MODEL_440e3d44a2f54c11b1f071063ce5e850"
          }
        },
        "f521d83b2eb04eaaada2bd285a0fc766": {
          "model_module": "@jupyter-widgets/controls",
          "model_name": "HTMLModel",
          "model_module_version": "1.5.0",
          "state": {
            "_dom_classes": [],
            "_model_module": "@jupyter-widgets/controls",
            "_model_module_version": "1.5.0",
            "_model_name": "HTMLModel",
            "_view_count": null,
            "_view_module": "@jupyter-widgets/controls",
            "_view_module_version": "1.5.0",
            "_view_name": "HTMLView",
            "description": "",
            "description_tooltip": null,
            "layout": "IPY_MODEL_c6acfa19282a4ef28acda13fc5ec790f",
            "placeholder": "​",
            "style": "IPY_MODEL_d627a98b58584c54a8e4dc6b67759607",
            "value": "100%"
          }
        },
        "9f7b421e279442fd9cecd4ad095bed5c": {
          "model_module": "@jupyter-widgets/controls",
          "model_name": "FloatProgressModel",
          "model_module_version": "1.5.0",
          "state": {
            "_dom_classes": [],
            "_model_module": "@jupyter-widgets/controls",
            "_model_module_version": "1.5.0",
            "_model_name": "FloatProgressModel",
            "_view_count": null,
            "_view_module": "@jupyter-widgets/controls",
            "_view_module_version": "1.5.0",
            "_view_name": "ProgressView",
            "bar_style": "success",
            "description": "",
            "description_tooltip": null,
            "layout": "IPY_MODEL_43e9fcc3ef974e57af5a8f5bcfcf3518",
            "max": 14640,
            "min": 0,
            "orientation": "horizontal",
            "style": "IPY_MODEL_60bfca4d57a14b508e4fa0c928300059",
            "value": 14640
          }
        },
        "1fc5f569543e41588c7048234c87b0c7": {
          "model_module": "@jupyter-widgets/controls",
          "model_name": "HTMLModel",
          "model_module_version": "1.5.0",
          "state": {
            "_dom_classes": [],
            "_model_module": "@jupyter-widgets/controls",
            "_model_module_version": "1.5.0",
            "_model_name": "HTMLModel",
            "_view_count": null,
            "_view_module": "@jupyter-widgets/controls",
            "_view_module_version": "1.5.0",
            "_view_name": "HTMLView",
            "description": "",
            "description_tooltip": null,
            "layout": "IPY_MODEL_78368e1e255a4de6b3c98b4ebe638945",
            "placeholder": "​",
            "style": "IPY_MODEL_06edb0e090c84a94b6e574c655a4cec8",
            "value": " 14640/14640 [00:11&lt;00:00, 1099.69it/s]"
          }
        },
        "440e3d44a2f54c11b1f071063ce5e850": {
          "model_module": "@jupyter-widgets/base",
          "model_name": "LayoutModel",
          "model_module_version": "1.2.0",
          "state": {
            "_model_module": "@jupyter-widgets/base",
            "_model_module_version": "1.2.0",
            "_model_name": "LayoutModel",
            "_view_count": null,
            "_view_module": "@jupyter-widgets/base",
            "_view_module_version": "1.2.0",
            "_view_name": "LayoutView",
            "align_content": null,
            "align_items": null,
            "align_self": null,
            "border": null,
            "bottom": null,
            "display": null,
            "flex": null,
            "flex_flow": null,
            "grid_area": null,
            "grid_auto_columns": null,
            "grid_auto_flow": null,
            "grid_auto_rows": null,
            "grid_column": null,
            "grid_gap": null,
            "grid_row": null,
            "grid_template_areas": null,
            "grid_template_columns": null,
            "grid_template_rows": null,
            "height": null,
            "justify_content": null,
            "justify_items": null,
            "left": null,
            "margin": null,
            "max_height": null,
            "max_width": null,
            "min_height": null,
            "min_width": null,
            "object_fit": null,
            "object_position": null,
            "order": null,
            "overflow": null,
            "overflow_x": null,
            "overflow_y": null,
            "padding": null,
            "right": null,
            "top": null,
            "visibility": null,
            "width": null
          }
        },
        "c6acfa19282a4ef28acda13fc5ec790f": {
          "model_module": "@jupyter-widgets/base",
          "model_name": "LayoutModel",
          "model_module_version": "1.2.0",
          "state": {
            "_model_module": "@jupyter-widgets/base",
            "_model_module_version": "1.2.0",
            "_model_name": "LayoutModel",
            "_view_count": null,
            "_view_module": "@jupyter-widgets/base",
            "_view_module_version": "1.2.0",
            "_view_name": "LayoutView",
            "align_content": null,
            "align_items": null,
            "align_self": null,
            "border": null,
            "bottom": null,
            "display": null,
            "flex": null,
            "flex_flow": null,
            "grid_area": null,
            "grid_auto_columns": null,
            "grid_auto_flow": null,
            "grid_auto_rows": null,
            "grid_column": null,
            "grid_gap": null,
            "grid_row": null,
            "grid_template_areas": null,
            "grid_template_columns": null,
            "grid_template_rows": null,
            "height": null,
            "justify_content": null,
            "justify_items": null,
            "left": null,
            "margin": null,
            "max_height": null,
            "max_width": null,
            "min_height": null,
            "min_width": null,
            "object_fit": null,
            "object_position": null,
            "order": null,
            "overflow": null,
            "overflow_x": null,
            "overflow_y": null,
            "padding": null,
            "right": null,
            "top": null,
            "visibility": null,
            "width": null
          }
        },
        "d627a98b58584c54a8e4dc6b67759607": {
          "model_module": "@jupyter-widgets/controls",
          "model_name": "DescriptionStyleModel",
          "model_module_version": "1.5.0",
          "state": {
            "_model_module": "@jupyter-widgets/controls",
            "_model_module_version": "1.5.0",
            "_model_name": "DescriptionStyleModel",
            "_view_count": null,
            "_view_module": "@jupyter-widgets/base",
            "_view_module_version": "1.2.0",
            "_view_name": "StyleView",
            "description_width": ""
          }
        },
        "43e9fcc3ef974e57af5a8f5bcfcf3518": {
          "model_module": "@jupyter-widgets/base",
          "model_name": "LayoutModel",
          "model_module_version": "1.2.0",
          "state": {
            "_model_module": "@jupyter-widgets/base",
            "_model_module_version": "1.2.0",
            "_model_name": "LayoutModel",
            "_view_count": null,
            "_view_module": "@jupyter-widgets/base",
            "_view_module_version": "1.2.0",
            "_view_name": "LayoutView",
            "align_content": null,
            "align_items": null,
            "align_self": null,
            "border": null,
            "bottom": null,
            "display": null,
            "flex": null,
            "flex_flow": null,
            "grid_area": null,
            "grid_auto_columns": null,
            "grid_auto_flow": null,
            "grid_auto_rows": null,
            "grid_column": null,
            "grid_gap": null,
            "grid_row": null,
            "grid_template_areas": null,
            "grid_template_columns": null,
            "grid_template_rows": null,
            "height": null,
            "justify_content": null,
            "justify_items": null,
            "left": null,
            "margin": null,
            "max_height": null,
            "max_width": null,
            "min_height": null,
            "min_width": null,
            "object_fit": null,
            "object_position": null,
            "order": null,
            "overflow": null,
            "overflow_x": null,
            "overflow_y": null,
            "padding": null,
            "right": null,
            "top": null,
            "visibility": null,
            "width": null
          }
        },
        "60bfca4d57a14b508e4fa0c928300059": {
          "model_module": "@jupyter-widgets/controls",
          "model_name": "ProgressStyleModel",
          "model_module_version": "1.5.0",
          "state": {
            "_model_module": "@jupyter-widgets/controls",
            "_model_module_version": "1.5.0",
            "_model_name": "ProgressStyleModel",
            "_view_count": null,
            "_view_module": "@jupyter-widgets/base",
            "_view_module_version": "1.2.0",
            "_view_name": "StyleView",
            "bar_color": null,
            "description_width": ""
          }
        },
        "78368e1e255a4de6b3c98b4ebe638945": {
          "model_module": "@jupyter-widgets/base",
          "model_name": "LayoutModel",
          "model_module_version": "1.2.0",
          "state": {
            "_model_module": "@jupyter-widgets/base",
            "_model_module_version": "1.2.0",
            "_model_name": "LayoutModel",
            "_view_count": null,
            "_view_module": "@jupyter-widgets/base",
            "_view_module_version": "1.2.0",
            "_view_name": "LayoutView",
            "align_content": null,
            "align_items": null,
            "align_self": null,
            "border": null,
            "bottom": null,
            "display": null,
            "flex": null,
            "flex_flow": null,
            "grid_area": null,
            "grid_auto_columns": null,
            "grid_auto_flow": null,
            "grid_auto_rows": null,
            "grid_column": null,
            "grid_gap": null,
            "grid_row": null,
            "grid_template_areas": null,
            "grid_template_columns": null,
            "grid_template_rows": null,
            "height": null,
            "justify_content": null,
            "justify_items": null,
            "left": null,
            "margin": null,
            "max_height": null,
            "max_width": null,
            "min_height": null,
            "min_width": null,
            "object_fit": null,
            "object_position": null,
            "order": null,
            "overflow": null,
            "overflow_x": null,
            "overflow_y": null,
            "padding": null,
            "right": null,
            "top": null,
            "visibility": null,
            "width": null
          }
        },
        "06edb0e090c84a94b6e574c655a4cec8": {
          "model_module": "@jupyter-widgets/controls",
          "model_name": "DescriptionStyleModel",
          "model_module_version": "1.5.0",
          "state": {
            "_model_module": "@jupyter-widgets/controls",
            "_model_module_version": "1.5.0",
            "_model_name": "DescriptionStyleModel",
            "_view_count": null,
            "_view_module": "@jupyter-widgets/base",
            "_view_module_version": "1.2.0",
            "_view_name": "StyleView",
            "description_width": ""
          }
        }
      }
    }
  },
  "cells": [
    {
      "cell_type": "code",
      "execution_count": null,
      "metadata": {
        "id": "zQXpPsPLzIwd"
      },
      "outputs": [],
      "source": []
    },
    {
      "cell_type": "markdown",
      "source": [
        "Load Dataset\n",
        "● Import BERT model and BERT Tokenizer\n",
        "● Data preparation\n",
        "○ Text cleaning\n",
        "○ Text encoding\n",
        "○ Defining dataloaders\n",
        "● Model fine-tuning\n",
        "○ Defining model architecture\n",
        "○ Model training and evaluation"
      ],
      "metadata": {
        "id": "lisOl-GA0ciD"
      }
    },
    {
      "cell_type": "code",
      "source": [],
      "metadata": {
        "id": "cCRS4e_a0s4r"
      },
      "execution_count": null,
      "outputs": []
    },
    {
      "cell_type": "markdown",
      "source": [
        "# Table Of Contents\n",
        "1.setup\n",
        "* using Google colab for training\n",
        "* installing Hugging Face's\n",
        "* Transformers Library\n",
        "\n",
        "\n",
        "2.Loading & Undderstanding BERT\n",
        "* Download pretrained BERT model\n",
        "* Tokenization and input formattin\n",
        "* understanding i/p and o/p\n",
        "3.Preparing Data\n",
        "* loading and Reading Twitter Airline\n",
        "text Cleaning\n",
        "* preparing i/p and o/p data\n",
        "* training and validation data\n",
        "* define dataloaders\n",
        "4.Model Finetuning\n",
        "* Approach:fine-tuning only head\n",
        "* define model architecture\n",
        "* define optimizer and loss fxn\n",
        "* model training and Evaluation\n",
        "* Train the model\n",
        "* model evaluation"
      ],
      "metadata": {
        "id": "Ff17tOSB1PW-"
      }
    },
    {
      "cell_type": "code",
      "source": [
        "import torch\n",
        "#check GPU avvailability\n",
        "if torch.cuda.is_available():\n",
        "  #select GPU\n",
        "  device=torch.device(\"cuda\")\n",
        "device"
      ],
      "metadata": {
        "colab": {
          "base_uri": "https://localhost:8080/"
        },
        "id": "eOavqATZ2xrY",
        "outputId": "ace558d1-b242-4dd5-8b6e-9080715733d8"
      },
      "execution_count": 1,
      "outputs": [
        {
          "output_type": "execute_result",
          "data": {
            "text/plain": [
              "device(type='cuda')"
            ]
          },
          "metadata": {},
          "execution_count": 1
        }
      ]
    },
    {
      "cell_type": "code",
      "source": [
        "#check GPU name\n",
        "torch.cuda.get_device_name(0)"
      ],
      "metadata": {
        "colab": {
          "base_uri": "https://localhost:8080/",
          "height": 35
        },
        "id": "SBqqKiCy2xsI",
        "outputId": "845f0bba-5691-42d8-9f98-625a5cb4a2a7"
      },
      "execution_count": 2,
      "outputs": [
        {
          "output_type": "execute_result",
          "data": {
            "text/plain": [
              "'Tesla T4'"
            ],
            "application/vnd.google.colaboratory.intrinsic+json": {
              "type": "string"
            }
          },
          "metadata": {},
          "execution_count": 2
        }
      ]
    },
    {
      "cell_type": "markdown",
      "source": [
        "# 1.2 installing Hugging Face's Transformer Libraray\n",
        "The Hugging Face Transformers library is a popular open-source library that provides state-of-the-art pre-trained models for natural language processing (NLP) tasks such as text classification, translation, question answering, summarization, and more. It supports a variety of transformer architectures, including BERT, GPT, RoBERTa, and T5, among others. The library offers seamless integration with PyTorch and TensorFlow, making it easy to fine-tune or deploy models for custom use cases. Hugging Face also provides tools for tokenization, model inference, and an extensive model hub, simplifying NLP development for researchers and practitioners."
      ],
      "metadata": {
        "id": "Hxau91Vp3SFj"
      }
    },
    {
      "cell_type": "code",
      "source": [
        "!pip install transformers"
      ],
      "metadata": {
        "colab": {
          "base_uri": "https://localhost:8080/"
        },
        "id": "_H6usD6j4R6a",
        "outputId": "2c85df76-8d47-4060-c865-1bc6ea289835"
      },
      "execution_count": 3,
      "outputs": [
        {
          "output_type": "stream",
          "name": "stdout",
          "text": [
            "Requirement already satisfied: transformers in /usr/local/lib/python3.11/dist-packages (4.47.1)\n",
            "Requirement already satisfied: filelock in /usr/local/lib/python3.11/dist-packages (from transformers) (3.17.0)\n",
            "Requirement already satisfied: huggingface-hub<1.0,>=0.24.0 in /usr/local/lib/python3.11/dist-packages (from transformers) (0.27.1)\n",
            "Requirement already satisfied: numpy>=1.17 in /usr/local/lib/python3.11/dist-packages (from transformers) (1.26.4)\n",
            "Requirement already satisfied: packaging>=20.0 in /usr/local/lib/python3.11/dist-packages (from transformers) (24.2)\n",
            "Requirement already satisfied: pyyaml>=5.1 in /usr/local/lib/python3.11/dist-packages (from transformers) (6.0.2)\n",
            "Requirement already satisfied: regex!=2019.12.17 in /usr/local/lib/python3.11/dist-packages (from transformers) (2024.11.6)\n",
            "Requirement already satisfied: requests in /usr/local/lib/python3.11/dist-packages (from transformers) (2.32.3)\n",
            "Requirement already satisfied: tokenizers<0.22,>=0.21 in /usr/local/lib/python3.11/dist-packages (from transformers) (0.21.0)\n",
            "Requirement already satisfied: safetensors>=0.4.1 in /usr/local/lib/python3.11/dist-packages (from transformers) (0.5.2)\n",
            "Requirement already satisfied: tqdm>=4.27 in /usr/local/lib/python3.11/dist-packages (from transformers) (4.67.1)\n",
            "Requirement already satisfied: fsspec>=2023.5.0 in /usr/local/lib/python3.11/dist-packages (from huggingface-hub<1.0,>=0.24.0->transformers) (2024.10.0)\n",
            "Requirement already satisfied: typing-extensions>=3.7.4.3 in /usr/local/lib/python3.11/dist-packages (from huggingface-hub<1.0,>=0.24.0->transformers) (4.12.2)\n",
            "Requirement already satisfied: charset-normalizer<4,>=2 in /usr/local/lib/python3.11/dist-packages (from requests->transformers) (3.4.1)\n",
            "Requirement already satisfied: idna<4,>=2.5 in /usr/local/lib/python3.11/dist-packages (from requests->transformers) (3.10)\n",
            "Requirement already satisfied: urllib3<3,>=1.21.1 in /usr/local/lib/python3.11/dist-packages (from requests->transformers) (2.3.0)\n",
            "Requirement already satisfied: certifi>=2017.4.17 in /usr/local/lib/python3.11/dist-packages (from requests->transformers) (2024.12.14)\n"
          ]
        }
      ]
    },
    {
      "cell_type": "markdown",
      "source": [
        "## 2.Loading & Understanding BERT"
      ],
      "metadata": {
        "id": "Aelyo-Xo4XQT"
      }
    },
    {
      "cell_type": "markdown",
      "source": [
        "## 2.1 Download pretrained BERT model\n",
        "we will use uncased pre-trained version of BERT base model.It was trained on lower-cased English text\n",
        "we can find pre-trained models here https://huggingface.co/transformers/v3.3.1/pretrained_models.html"
      ],
      "metadata": {
        "id": "A7_YXx5e5MQh"
      }
    },
    {
      "cell_type": "code",
      "source": [
        "from transformers import BertModel\n",
        "bert=BertModel.from_pretrained('bert-base-uncased')"
      ],
      "metadata": {
        "colab": {
          "base_uri": "https://localhost:8080/",
          "height": 208,
          "referenced_widgets": [
            "dd75d9c33ab6492bad5c2d33c8879683",
            "afaa0b5634244fb58e2d11b43d7213c4",
            "ff71342931ef45618523dc915f2a882e",
            "5199ac781138419b947244d430d81769",
            "72452ebdf247479981f357db66f21bc1",
            "c5a0f94f516f4c16bfc8bd1842e20680",
            "7ccfaa977e5a42b2ba23e164b9b5112d",
            "af1c460f0cfc4459992c907b9eb6f0e1",
            "d1ea5ea45e8a4bfc94a2b347d7ce9313",
            "8abdf3a7acf9437abbe2308c5a2309fa",
            "7ac26093c9c847a8a43dcf3141e3552d",
            "6d677be72ad64c9993a3915d8b8a800c",
            "2acf3cdc5d2e4e40a9cca92ef825649e",
            "d32fce64211346c48128f6ca16fcba3b",
            "2ad0efe15f19454183c9a95865e7c89d",
            "e7748339e2ba4fd0b283fa40e36f9610",
            "89a69ed090a54711a2f1cd4cc1651288",
            "cd1a6e1d25fd4c769a33c4da8f1ce7b7",
            "90f0c2ecc5354b67a6fba61ff24cf85a",
            "603c56b3adc54315bb1967884fcc3fdf",
            "a9208e4ca20441f68d8537e1827a4ba5",
            "3bed0bcb4e8d4e668c033070072efb5f"
          ]
        },
        "id": "VjV17MRI4e_M",
        "outputId": "03492e8b-54c8-4a68-b576-f80c9db24b10"
      },
      "execution_count": 4,
      "outputs": [
        {
          "output_type": "stream",
          "name": "stderr",
          "text": [
            "/usr/local/lib/python3.11/dist-packages/huggingface_hub/utils/_auth.py:94: UserWarning: \n",
            "The secret `HF_TOKEN` does not exist in your Colab secrets.\n",
            "To authenticate with the Hugging Face Hub, create a token in your settings tab (https://huggingface.co/settings/tokens), set it as secret in your Google Colab and restart your session.\n",
            "You will be able to reuse this secret in all of your notebooks.\n",
            "Please note that authentication is recommended but still optional to access public models or datasets.\n",
            "  warnings.warn(\n"
          ]
        },
        {
          "output_type": "display_data",
          "data": {
            "text/plain": [
              "config.json:   0%|          | 0.00/570 [00:00<?, ?B/s]"
            ],
            "application/vnd.jupyter.widget-view+json": {
              "version_major": 2,
              "version_minor": 0,
              "model_id": "dd75d9c33ab6492bad5c2d33c8879683"
            }
          },
          "metadata": {}
        },
        {
          "output_type": "display_data",
          "data": {
            "text/plain": [
              "model.safetensors:   0%|          | 0.00/440M [00:00<?, ?B/s]"
            ],
            "application/vnd.jupyter.widget-view+json": {
              "version_major": 2,
              "version_minor": 0,
              "model_id": "6d677be72ad64c9993a3915d8b8a800c"
            }
          },
          "metadata": {}
        }
      ]
    },
    {
      "cell_type": "code",
      "source": [
        "print(bert)"
      ],
      "metadata": {
        "colab": {
          "base_uri": "https://localhost:8080/"
        },
        "id": "Q_43lWBp5tkD",
        "outputId": "db9a11cc-92bb-4750-e9de-094e9c650207"
      },
      "execution_count": null,
      "outputs": [
        {
          "output_type": "stream",
          "name": "stdout",
          "text": [
            "BertModel(\n",
            "  (embeddings): BertEmbeddings(\n",
            "    (word_embeddings): Embedding(30522, 768, padding_idx=0)\n",
            "    (position_embeddings): Embedding(512, 768)\n",
            "    (token_type_embeddings): Embedding(2, 768)\n",
            "    (LayerNorm): LayerNorm((768,), eps=1e-12, elementwise_affine=True)\n",
            "    (dropout): Dropout(p=0.1, inplace=False)\n",
            "  )\n",
            "  (encoder): BertEncoder(\n",
            "    (layer): ModuleList(\n",
            "      (0-11): 12 x BertLayer(\n",
            "        (attention): BertAttention(\n",
            "          (self): BertSdpaSelfAttention(\n",
            "            (query): Linear(in_features=768, out_features=768, bias=True)\n",
            "            (key): Linear(in_features=768, out_features=768, bias=True)\n",
            "            (value): Linear(in_features=768, out_features=768, bias=True)\n",
            "            (dropout): Dropout(p=0.1, inplace=False)\n",
            "          )\n",
            "          (output): BertSelfOutput(\n",
            "            (dense): Linear(in_features=768, out_features=768, bias=True)\n",
            "            (LayerNorm): LayerNorm((768,), eps=1e-12, elementwise_affine=True)\n",
            "            (dropout): Dropout(p=0.1, inplace=False)\n",
            "          )\n",
            "        )\n",
            "        (intermediate): BertIntermediate(\n",
            "          (dense): Linear(in_features=768, out_features=3072, bias=True)\n",
            "          (intermediate_act_fn): GELUActivation()\n",
            "        )\n",
            "        (output): BertOutput(\n",
            "          (dense): Linear(in_features=3072, out_features=768, bias=True)\n",
            "          (LayerNorm): LayerNorm((768,), eps=1e-12, elementwise_affine=True)\n",
            "          (dropout): Dropout(p=0.1, inplace=False)\n",
            "        )\n",
            "      )\n",
            "    )\n",
            "  )\n",
            "  (pooler): BertPooler(\n",
            "    (dense): Linear(in_features=768, out_features=768, bias=True)\n",
            "    (activation): Tanh()\n",
            "  )\n",
            ")\n"
          ]
        }
      ]
    },
    {
      "cell_type": "markdown",
      "source": [
        "# 2.3 Tokenization and I/P formatting\n",
        "Download BERT tokenizer"
      ],
      "metadata": {
        "id": "GpO0Lfa15wDq"
      }
    },
    {
      "cell_type": "code",
      "source": [
        "#importing fast \"BERT\" tokenizer\n",
        "from transformers import BertTokenizer\n",
        "tokenizer=BertTokenizer.from_pretrained('bert-base-uncased')"
      ],
      "metadata": {
        "colab": {
          "base_uri": "https://localhost:8080/",
          "height": 113,
          "referenced_widgets": [
            "46d0983bb31b4f6d9874656e47b26247",
            "b60b3e291a634ff397ea9b8b632cd37b",
            "1d1c4e88d5c847f79a690d38471c2e6a",
            "234b0c464f4548b18302b543451f2b68",
            "f48eaeb9404549bc8c03dd96791588c0",
            "b2d4cd94d61a4cd79c76425f2188b297",
            "82c862b75e4c454ebb473dc0145cd5c5",
            "ab47dde7b3314fa4899339ef57020422",
            "2e0e082a5af3462486737b219e0256d7",
            "f266ca34c2534ae89f2480db75f1bf1b",
            "a3cdd126a73e4b01acc8c07c18df1e49",
            "aeb6ffb394cf4b6f94b581a0c634e07a",
            "64e8a7b2732b456f9df09b20a295de36",
            "d1884784e7cc4080a19ec98f60971f24",
            "5b32e1de0cc44026960a2bbb1baae221",
            "6c37a3d21d7447efad99348c988b68d8",
            "0735e8d0601b4d31af713eff1cf173d7",
            "e3cef8b8c82247baa36f74d48018b529",
            "ead00563ac094f2793b089d09a66342f",
            "bcc7ba278c9645c98db56bc19daee8a2",
            "5fbea7827cf44a259bd6a03246f46667",
            "9bea497f10f54f05b385e1f91d902ca4",
            "9cda3c47ec5c449685f4d7e5adf08d2a",
            "8df551fe1d56414f9369d4e759097b51",
            "46828d595fed42dd8a7d5207d0787819",
            "80df5fe7ea964dcda9f3ac5a1290f33f",
            "773aed6abbcd47bf918d9090476a3571",
            "d29e72aea1054d72b01bc4350a4ea314",
            "c7c97ef657014de98a780898e2ea8830",
            "57a9144f6d294382aed8ae82d0be5f4e",
            "c15def1e5278439caae7abe5103b97d9",
            "a676cf92e3df4544853d4204638f232f",
            "099e8206e578446381ad4581730346f4"
          ]
        },
        "id": "Z9Lq9d2_51GU",
        "outputId": "58ce1e32-0c9d-4e2a-a2b6-f74c9f7ca874"
      },
      "execution_count": 5,
      "outputs": [
        {
          "output_type": "display_data",
          "data": {
            "text/plain": [
              "tokenizer_config.json:   0%|          | 0.00/48.0 [00:00<?, ?B/s]"
            ],
            "application/vnd.jupyter.widget-view+json": {
              "version_major": 2,
              "version_minor": 0,
              "model_id": "46d0983bb31b4f6d9874656e47b26247"
            }
          },
          "metadata": {}
        },
        {
          "output_type": "display_data",
          "data": {
            "text/plain": [
              "vocab.txt:   0%|          | 0.00/232k [00:00<?, ?B/s]"
            ],
            "application/vnd.jupyter.widget-view+json": {
              "version_major": 2,
              "version_minor": 0,
              "model_id": "aeb6ffb394cf4b6f94b581a0c634e07a"
            }
          },
          "metadata": {}
        },
        {
          "output_type": "display_data",
          "data": {
            "text/plain": [
              "tokenizer.json:   0%|          | 0.00/466k [00:00<?, ?B/s]"
            ],
            "application/vnd.jupyter.widget-view+json": {
              "version_major": 2,
              "version_minor": 0,
              "model_id": "9cda3c47ec5c449685f4d7e5adf08d2a"
            }
          },
          "metadata": {}
        }
      ]
    },
    {
      "cell_type": "markdown",
      "source": [
        "# steps Folowed for i/p formatting\n",
        "1. tokenization\n",
        "2. special tokens\n",
        "  * prepare the [CLS] token to start of the sequence\n",
        "  * Append the [SEP] tkn to the end of seq\n",
        "3. pad sequences\n",
        "4. converting tkns to integers\n",
        "5. create attention masks to avoid pad tokens"
      ],
      "metadata": {
        "id": "cfrsj53f6N0G"
      }
    },
    {
      "cell_type": "code",
      "source": [
        "#i/p text\n",
        "text=\"Meghana is truely irritating\"\n",
        "sent_id=tokenizer.encode(text,add_special_tokens=True,\n",
        "                         max_length=10,\n",
        "                         Truncation=True,\n",
        "                         #add pad tkns to right side of seq\n",
        "                         pad_to_max_length='right')\n",
        "\n",
        "print(\"Integer sequence: {}\" .format(sent_id))"
      ],
      "metadata": {
        "colab": {
          "base_uri": "https://localhost:8080/"
        },
        "id": "31DEcJ-d7D3v",
        "outputId": "6c2b9245-664c-46b7-9824-fd55d58a8aab"
      },
      "execution_count": 6,
      "outputs": [
        {
          "output_type": "stream",
          "name": "stderr",
          "text": [
            "Truncation was not explicitly activated but `max_length` is provided a specific value, please use `truncation=True` to explicitly truncate examples to max length. Defaulting to 'longest_first' truncation strategy. If you encode pairs of sequences (GLUE-style) with the tokenizer you can select this strategy more precisely by providing a specific strategy to `truncation`.\n",
            "/usr/local/lib/python3.11/dist-packages/transformers/tokenization_utils_base.py:2673: FutureWarning: The `pad_to_max_length` argument is deprecated and will be removed in a future version, use `padding=True` or `padding='longest'` to pad to the longest sequence in the batch, or use `padding='max_length'` to pad to a max length. In this case, you can give a specific length with `max_length` (e.g. `max_length=45`) or leave max_length to None to pad to the maximal input size of the model (e.g. 512 for Bert).\n",
            "  warnings.warn(\n",
            "Keyword arguments {'Truncation': True} not recognized.\n"
          ]
        },
        {
          "output_type": "stream",
          "name": "stdout",
          "text": [
            "Integer sequence: [101, 12669, 15788, 2003, 2995, 2135, 29348, 102, 0, 0]\n"
          ]
        }
      ]
    },
    {
      "cell_type": "code",
      "source": [
        "#convert inetgers back to text\n",
        "print(\"tokenized text:\", tokenizer.convert_ids_to_tokens(sent_id))"
      ],
      "metadata": {
        "colab": {
          "base_uri": "https://localhost:8080/"
        },
        "id": "VIStGD_JB4nn",
        "outputId": "29229c3e-94eb-4c02-d9da-a69980cd37b2"
      },
      "execution_count": null,
      "outputs": [
        {
          "output_type": "stream",
          "name": "stdout",
          "text": [
            "tokenized text: ['[CLS]', 'meg', '##hana', 'is', 'true', '##ly', 'irritating', '[SEP]', '[PAD]', '[PAD]']\n"
          ]
        }
      ]
    },
    {
      "cell_type": "code",
      "source": [
        "#convert Integers back to text\n",
        "print(\"Decoded text: {}\".format(tokenizer.decode(sent_id)))"
      ],
      "metadata": {
        "colab": {
          "base_uri": "https://localhost:8080/"
        },
        "id": "xSeyCAVH8jxx",
        "outputId": "edbb0d99-9643-421a-bb4b-dfcc247e5f9f"
      },
      "execution_count": null,
      "outputs": [
        {
          "output_type": "stream",
          "name": "stdout",
          "text": [
            "Decoded text: [CLS] meghana is truely irritating [SEP] [PAD] [PAD]\n"
          ]
        }
      ]
    },
    {
      "cell_type": "code",
      "source": [
        "#mask to avoid performing attention on pading token indices\n",
        "#mask values: 1 for tokens that are not masked, 0 for masked tokens\n",
        "att_mask=[int(tok>0) for tok in sent_id]\n",
        "print(\"Attention mask: {}\".format(att_mask))\n",
        "#avoid the ones with 0"
      ],
      "metadata": {
        "colab": {
          "base_uri": "https://localhost:8080/"
        },
        "id": "knR-B1YJ81aI",
        "outputId": "c21d025f-2e81-4357-fa1c-fa66f4ed6011"
      },
      "execution_count": 7,
      "outputs": [
        {
          "output_type": "stream",
          "name": "stdout",
          "text": [
            "Attention mask: [1, 1, 1, 1, 1, 1, 1, 1, 0, 0]\n"
          ]
        }
      ]
    },
    {
      "cell_type": "code",
      "source": [],
      "metadata": {
        "id": "ansBzXApB30M"
      },
      "execution_count": null,
      "outputs": []
    },
    {
      "cell_type": "markdown",
      "source": [
        "## 2.3 Understanding i/p and o/p"
      ],
      "metadata": {
        "id": "GCpwhvw59kO4"
      }
    },
    {
      "cell_type": "code",
      "source": [
        "#convert list to tensors\n",
        "sent_id=torch.tensor(sent_id)\n",
        "att_mask=torch.tensor(att_mask)\n",
        "\n",
        "#reshaping tensor in the form of (batch,text length)\n",
        "sent_id=torch.unsqueeze(sent_id,0)\n",
        "att_mask=torch.unsqueeze(att_mask,0)\n",
        "\n",
        "print(sent_id)"
      ],
      "metadata": {
        "colab": {
          "base_uri": "https://localhost:8080/"
        },
        "id": "9oxaTpqTBEWm",
        "outputId": "1ca872db-3ebb-44e0-8aae-a24c847ab826"
      },
      "execution_count": 8,
      "outputs": [
        {
          "output_type": "stream",
          "name": "stdout",
          "text": [
            "tensor([[  101, 12669, 15788,  2003,  2995,  2135, 29348,   102,     0,     0]])\n"
          ]
        }
      ]
    },
    {
      "cell_type": "code",
      "source": [
        "#pass integer seq to bert model\n",
        "outputs=bert(sent_id,attention_mask=att_mask)\n",
        "# print(outputs)"
      ],
      "metadata": {
        "id": "43hgXXgrCt-P"
      },
      "execution_count": 9,
      "outputs": []
    },
    {
      "cell_type": "code",
      "source": [
        "## unpack o/p of bert model\n",
        "# hidden states at each timestep\n",
        "all_hidden_state=outputs[0]\n",
        "cls_hidden_state=outputs[1] #encodes entire i/p seq and this is something we are inerested in to solve our sentimenet analysis problem\n",
        "print(\"shape of Last hidden states: \",all_hidden_state.shape) #10 since seq len is 10\n",
        "print(\"shape of CLS hidden states: \",cls_hidden_state.shape)"
      ],
      "metadata": {
        "colab": {
          "base_uri": "https://localhost:8080/"
        },
        "id": "t2NiYSWeDMqi",
        "outputId": "bef93c7d-dc9a-42da-ad6a-32d1b657ca2c"
      },
      "execution_count": 10,
      "outputs": [
        {
          "output_type": "stream",
          "name": "stdout",
          "text": [
            "shape of Last hidden states:  torch.Size([1, 10, 768])\n",
            "shape of CLS hidden states:  torch.Size([1, 768])\n"
          ]
        }
      ]
    },
    {
      "cell_type": "code",
      "source": [
        "cls_hidden_state"
      ],
      "metadata": {
        "colab": {
          "base_uri": "https://localhost:8080/"
        },
        "id": "KHe0cGlfDuox",
        "outputId": "d364f16c-1c1e-423b-d4bc-b13a1c53d0f4"
      },
      "execution_count": 11,
      "outputs": [
        {
          "output_type": "execute_result",
          "data": {
            "text/plain": [
              "tensor([[-8.1672e-01, -2.9591e-01, -4.2227e-02,  6.6374e-01,  3.7756e-01,\n",
              "          3.7388e-02,  8.3700e-01,  1.5344e-01, -5.3711e-02, -9.9994e-01,\n",
              "          8.1940e-03,  4.4194e-01,  9.7769e-01, -1.1012e-02,  9.2739e-01,\n",
              "         -5.5441e-01,  2.1399e-01, -4.9636e-01,  3.0736e-01, -5.8997e-01,\n",
              "          6.3555e-01,  9.9441e-01,  5.6447e-01,  2.4504e-01,  3.1051e-01,\n",
              "          6.6572e-01, -6.0505e-01,  9.3100e-01,  9.3366e-01,  6.8934e-01,\n",
              "         -5.8478e-01,  7.6967e-02, -9.8077e-01, -1.3987e-01, -2.9001e-01,\n",
              "         -9.8587e-01,  2.2287e-01, -7.2018e-01,  6.0225e-02,  1.0423e-01,\n",
              "         -8.6512e-01,  2.1975e-01,  9.9961e-01, -3.2371e-01, -1.5275e-02,\n",
              "         -2.5988e-01, -9.9997e-01,  2.4922e-01, -8.7932e-01, -2.1958e-02,\n",
              "          1.1871e-01, -1.3824e-01,  3.4520e-02,  3.3729e-01,  2.8527e-01,\n",
              "          1.5988e-01, -1.8688e-01,  1.5842e-02, -1.3244e-01, -4.6893e-01,\n",
              "         -5.7838e-01,  1.7639e-01, -2.3637e-01, -9.1825e-01, -9.4732e-02,\n",
              "         -1.2783e-01, -3.8693e-02, -1.5997e-01,  4.4957e-02, -1.6135e-01,\n",
              "          8.3082e-01,  1.6431e-01,  3.3744e-01, -8.0597e-01, -1.0589e-01,\n",
              "          1.5526e-01, -4.7010e-01,  1.0000e+00, -1.7269e-01, -9.7487e-01,\n",
              "          1.8465e-01, -2.4434e-02,  3.1905e-01,  5.2022e-01, -1.7933e-01,\n",
              "         -1.0000e+00,  1.8243e-01, -1.8625e-02, -9.8676e-01,  1.4371e-01,\n",
              "          4.5712e-01, -5.2792e-02, -6.0708e-02,  3.8523e-01, -3.5951e-01,\n",
              "         -2.2771e-01, -1.7970e-01, -9.2253e-02, -1.3992e-01, -6.8340e-02,\n",
              "          3.5586e-02, -1.1004e-01, -4.9171e-02, -3.1903e-01,  8.9084e-02,\n",
              "         -3.3048e-01, -4.0233e-01,  3.1525e-01, -1.0878e-01,  6.1606e-01,\n",
              "          2.5175e-01, -2.8115e-01,  2.8939e-01, -9.3861e-01,  5.6416e-01,\n",
              "         -2.3730e-01, -9.7138e-01, -4.1358e-01, -9.8386e-01,  7.3737e-01,\n",
              "          1.7643e-02, -5.3249e-02,  9.5745e-01,  2.9505e-01,  1.9030e-01,\n",
              "         -7.4483e-03, -6.9672e-02, -1.0000e+00, -2.4482e-01, -2.0086e-01,\n",
              "          4.5704e-02, -1.8381e-02, -9.7302e-01, -9.3374e-01,  4.4767e-01,\n",
              "          9.3917e-01,  2.0656e-02,  9.9885e-01, -1.3907e-01,  9.2215e-01,\n",
              "          1.2642e-01, -2.3791e-01, -5.5952e-05, -3.2022e-01,  3.7140e-01,\n",
              "          1.7332e-01, -5.7867e-01,  9.8350e-02, -1.5781e-01, -1.7096e-01,\n",
              "         -1.8711e-01, -1.7594e-01,  4.5330e-03, -9.4184e-01, -2.6081e-01,\n",
              "          9.4082e-01,  2.4527e-02, -1.2801e-01,  5.3459e-01, -6.9623e-02,\n",
              "         -2.6465e-01,  7.7208e-01,  3.8163e-01,  2.7840e-01, -1.2475e-01,\n",
              "          2.3117e-01, -1.8838e-02,  3.8460e-01, -7.5501e-01,  2.3559e-01,\n",
              "          2.5125e-01, -2.3309e-01, -8.2869e-02, -9.7358e-01, -2.5651e-01,\n",
              "          5.3986e-01,  9.8173e-01,  7.3304e-01,  1.0433e-01,  2.1442e-01,\n",
              "         -1.5416e-01,  2.2412e-01, -9.1789e-01,  9.6989e-01, -2.9870e-02,\n",
              "          1.5387e-01, -1.2711e-01,  1.1859e-02, -8.4411e-01, -1.8527e-01,\n",
              "          7.6741e-01, -1.5975e-01, -8.3888e-01,  1.9321e-01, -3.3814e-01,\n",
              "         -3.4711e-01, -3.8558e-01,  4.7682e-01, -2.2588e-01, -3.8881e-01,\n",
              "         -2.4393e-03,  9.3515e-01,  9.5849e-01,  7.3216e-01, -5.2640e-01,\n",
              "          5.2891e-01, -8.8338e-01, -2.4250e-01,  6.9927e-02,  2.1007e-01,\n",
              "          5.6588e-02,  9.8842e-01, -1.9221e-01,  3.7380e-02, -9.0633e-01,\n",
              "         -9.7991e-01, -6.7466e-02, -8.6257e-01,  5.6030e-02, -6.3416e-01,\n",
              "          3.7854e-01, -8.1951e-02,  2.6951e-02,  3.1129e-01, -9.7577e-01,\n",
              "         -7.2313e-01,  3.1271e-01, -1.4896e-01,  3.7545e-01, -7.5138e-02,\n",
              "          4.5625e-01,  3.1768e-01, -5.4772e-01,  6.8775e-01,  8.7174e-01,\n",
              "         -2.5034e-01, -7.1849e-01,  7.6705e-01, -1.7109e-01,  7.7905e-01,\n",
              "         -5.7560e-01,  9.8676e-01,  1.7955e-01,  2.3359e-01, -9.3136e-01,\n",
              "          1.3064e-01, -9.0651e-01,  1.7563e-03, -3.5403e-02, -4.3712e-01,\n",
              "         -2.9253e-02,  3.7739e-01,  2.6040e-01,  6.8465e-01, -3.6186e-01,\n",
              "          9.9251e-01, -7.5127e-01, -9.2518e-01, -1.4773e-01,  4.6277e-02,\n",
              "         -9.8098e-01,  3.0559e-01,  2.5601e-01,  7.7624e-03, -3.2134e-01,\n",
              "         -4.3007e-01, -9.4845e-01,  8.5366e-01, -3.5619e-02,  9.8084e-01,\n",
              "         -2.6828e-01, -8.7063e-01, -4.3344e-01, -8.8265e-01, -2.6376e-01,\n",
              "         -7.3077e-02,  4.8240e-01, -1.8753e-01, -9.5019e-01,  3.9298e-01,\n",
              "          4.5806e-01,  3.6380e-01,  1.5762e-01,  9.9204e-01,  9.9992e-01,\n",
              "          9.6305e-01,  8.8089e-01,  8.6710e-01, -9.7749e-01, -5.3512e-01,\n",
              "          9.9998e-01, -7.6586e-01, -1.0000e+00, -9.2038e-01, -4.9844e-01,\n",
              "          2.0863e-01, -1.0000e+00,  3.4355e-02,  1.2015e-01, -9.0110e-01,\n",
              "         -1.7612e-01,  9.6401e-01,  9.8288e-01, -1.0000e+00,  8.9135e-01,\n",
              "          9.3515e-01, -4.8198e-01,  4.8925e-01, -2.5461e-01,  9.6124e-01,\n",
              "          3.8246e-01,  4.4670e-01, -1.8061e-01,  3.0552e-01, -4.5728e-01,\n",
              "         -7.5584e-01,  1.8922e-01, -4.4276e-02,  9.1548e-01,  7.7535e-02,\n",
              "         -5.8694e-01, -9.1601e-01,  2.6953e-03,  1.8496e-01, -3.3516e-01,\n",
              "         -9.4695e-01, -1.2354e-01, -3.5100e-01,  6.5403e-01,  1.8683e-02,\n",
              "          1.1285e-01, -7.4661e-01,  3.4324e-02, -5.5566e-01,  2.9050e-01,\n",
              "          4.9506e-01, -9.1763e-01, -5.6693e-01,  9.4813e-02, -4.4920e-01,\n",
              "          9.7666e-02, -9.3442e-01,  9.6198e-01, -3.4575e-01,  5.7770e-02,\n",
              "          1.0000e+00, -1.8403e-01, -8.7424e-01,  5.4956e-01,  1.2166e-01,\n",
              "         -2.7829e-01,  1.0000e+00,  4.0925e-01, -9.7413e-01, -3.7373e-01,\n",
              "          3.7023e-01, -4.2007e-01, -4.0963e-01,  9.9882e-01, -7.5819e-02,\n",
              "          1.6361e-01,  3.3185e-01,  9.6296e-01, -9.8088e-01,  7.3769e-01,\n",
              "         -8.5532e-01, -9.6071e-01,  9.5891e-01,  9.1589e-01,  6.3862e-02,\n",
              "         -7.0507e-01, -3.5241e-02, -1.0503e-01,  1.5055e-01, -9.4560e-01,\n",
              "          4.9836e-01,  3.5518e-01, -5.8962e-02,  8.7630e-01, -7.1933e-01,\n",
              "         -3.8800e-01,  3.4068e-01,  7.2242e-02,  3.6514e-01,  2.3916e-01,\n",
              "          3.7697e-01, -2.1452e-01,  1.6411e-02, -2.0724e-01, -1.4245e-01,\n",
              "         -9.6513e-01,  8.0849e-02,  1.0000e+00,  5.5223e-02, -3.1046e-01,\n",
              "         -5.8998e-02, -4.0517e-03, -3.0969e-01,  3.1681e-01,  4.0889e-01,\n",
              "         -1.8172e-01, -8.7849e-01,  9.3053e-02, -9.2933e-01, -9.8130e-01,\n",
              "          6.1657e-01,  1.2505e-01, -1.3841e-01,  9.9936e-01,  1.6479e-01,\n",
              "          1.4329e-01, -1.4579e-03,  5.2392e-01, -1.0891e-01,  4.9263e-01,\n",
              "         -8.2995e-02,  9.6165e-01, -1.6360e-01,  3.9927e-01,  7.8148e-01,\n",
              "         -3.1731e-02, -1.4079e-01, -6.5865e-01,  4.6355e-02, -8.8274e-01,\n",
              "          2.4132e-01, -9.4727e-01,  9.4744e-01, -1.3753e-01,  2.3339e-01,\n",
              "          1.4177e-01, -4.9159e-03,  1.0000e+00, -1.9537e-01,  4.8740e-01,\n",
              "         -3.4974e-01,  7.9070e-01, -9.5366e-01, -6.7653e-01, -2.4689e-01,\n",
              "          4.3951e-02,  1.8267e-01, -1.2724e-01,  1.6051e-01, -9.6510e-01,\n",
              "         -8.4899e-02,  5.9596e-02, -9.7964e-01, -9.8489e-01,  3.8552e-01,\n",
              "          6.7482e-01, -2.9332e-02, -6.5624e-01, -5.0871e-01, -5.6626e-01,\n",
              "          2.7899e-01, -1.8697e-01, -9.2306e-01,  4.7465e-01, -2.1143e-01,\n",
              "          3.4216e-01, -1.5209e-01,  4.0466e-01, -9.8583e-02,  7.6144e-01,\n",
              "          5.3778e-02,  1.7987e-02, -5.0804e-02, -7.1060e-01,  6.4374e-01,\n",
              "         -7.9275e-01, -4.3685e-01, -2.6805e-03,  1.0000e+00, -3.6600e-01,\n",
              "          1.1185e-01,  5.0008e-01,  6.1167e-01,  3.5741e-02,  1.9993e-02,\n",
              "          3.7300e-01,  7.0743e-02,  7.8189e-02,  2.1201e-01, -6.2407e-01,\n",
              "         -2.0030e-01,  4.0478e-01, -1.7598e-01,  2.1177e-02,  7.4981e-01,\n",
              "          5.4095e-01,  3.7865e-02,  1.0087e-01, -3.7905e-02,  9.9794e-01,\n",
              "         -4.6157e-02, -6.1944e-02, -4.1855e-01,  1.2228e-01, -2.2857e-01,\n",
              "         -3.1963e-01,  1.0000e+00,  2.5152e-01, -8.2944e-02, -9.8206e-01,\n",
              "         -8.7995e-02, -9.0002e-01,  9.9978e-01,  7.3471e-01, -8.8011e-01,\n",
              "          4.3053e-01,  2.4872e-01, -5.5690e-02,  6.6979e-01, -1.2702e-01,\n",
              "         -1.7259e-01, -3.8810e-02,  3.0335e-02,  9.5709e-01, -3.6316e-01,\n",
              "         -9.4883e-01, -5.1900e-01,  3.9995e-01, -9.5695e-01,  9.8660e-01,\n",
              "         -4.7238e-01, -8.2511e-02, -2.6543e-01,  2.3809e-02,  5.7507e-01,\n",
              "         -9.2114e-02, -9.7453e-01, -8.0271e-02,  6.4767e-02,  9.5674e-01,\n",
              "          5.7987e-02, -3.7225e-01, -8.6624e-01, -1.0864e-01,  6.7460e-03,\n",
              "          5.8844e-02, -9.5022e-01,  9.6143e-01, -9.7795e-01,  3.8548e-01,\n",
              "          1.0000e+00,  1.6488e-01, -5.9035e-01,  1.0970e-01, -2.5363e-01,\n",
              "          2.2660e-01,  2.5630e-01,  4.0544e-01, -9.4984e-01, -2.4903e-01,\n",
              "         -2.8949e-02,  2.4532e-01, -6.1314e-02,  3.0720e-01,  6.0803e-01,\n",
              "          7.5172e-02, -3.5992e-01, -4.7600e-01,  1.0782e-02,  2.8760e-01,\n",
              "          6.5268e-01, -1.7470e-01, -5.4020e-02, -3.5069e-02,  2.0300e-02,\n",
              "         -9.1918e-01, -1.9753e-01, -1.3781e-01, -9.9783e-01,  6.3000e-01,\n",
              "         -1.0000e+00, -1.2623e-01, -3.4956e-01, -5.1280e-02,  7.7627e-01,\n",
              "          5.0216e-01,  1.2675e-01, -6.8922e-01,  1.2055e-01,  7.9248e-01,\n",
              "          7.4406e-01, -9.2853e-02,  2.0729e-01, -6.7122e-01,  1.5144e-01,\n",
              "         -6.9726e-02,  1.5395e-01,  4.0909e-02,  6.5670e-01, -8.6925e-02,\n",
              "          1.0000e+00, -3.4274e-02, -3.6351e-01, -9.6957e-01,  1.3799e-01,\n",
              "         -1.1849e-01,  9.9998e-01, -8.4479e-01, -9.1930e-01,  1.9729e-01,\n",
              "         -4.1149e-01, -7.4555e-01,  2.2171e-01, -1.1756e-01, -5.5153e-01,\n",
              "         -1.1685e-01,  9.5255e-01,  8.1036e-01, -4.1196e-01,  3.4809e-01,\n",
              "         -9.3699e-02, -4.2193e-01, -5.8136e-02,  2.3148e-01,  9.8053e-01,\n",
              "          3.3141e-01,  8.5568e-01,  3.1615e-02,  1.2486e-01,  9.4338e-01,\n",
              "          4.0167e-02,  4.6106e-01, -4.0334e-02,  1.0000e+00,  1.6349e-01,\n",
              "         -8.8313e-01,  3.9976e-01, -9.7869e-01, -4.7682e-02, -9.2283e-01,\n",
              "          2.0671e-01, -4.3840e-02,  8.6503e-01, -1.9001e-01,  9.4271e-01,\n",
              "          8.6055e-02, -5.5478e-02,  1.5948e-01,  4.1355e-01,  2.1383e-01,\n",
              "         -9.4005e-01, -9.7986e-01, -9.8378e-01,  3.4420e-01, -3.4994e-01,\n",
              "          7.5797e-02,  2.3236e-01,  1.5799e-01,  3.0892e-01,  3.1018e-01,\n",
              "         -1.0000e+00,  9.3031e-01,  3.8353e-01,  1.7112e-01,  9.4191e-01,\n",
              "          3.3581e-01,  1.9305e-01,  2.0056e-01, -9.7923e-01, -9.6872e-01,\n",
              "         -3.3082e-01, -1.8699e-01,  6.9938e-01,  5.2561e-01,  7.9511e-01,\n",
              "          3.0161e-01, -4.7836e-01, -4.4016e-01,  1.4408e-01, -6.8345e-01,\n",
              "         -9.8760e-01,  3.2519e-01,  1.6356e-01, -9.3148e-01,  9.5057e-01,\n",
              "         -4.0644e-01, -5.0937e-02,  5.7518e-01, -2.5079e-01,  8.9472e-01,\n",
              "          7.9747e-01,  3.3165e-01,  1.1037e-01,  3.3703e-01,  8.9223e-01,\n",
              "          9.2729e-01,  9.8114e-01, -1.1539e-02,  7.7365e-01,  1.0654e-01,\n",
              "          3.6882e-01,  3.0723e-01, -9.4499e-01,  4.5055e-02,  1.3815e-01,\n",
              "         -5.7473e-03,  1.0335e-01, -1.2453e-01, -9.3923e-01,  2.9414e-01,\n",
              "         -1.2102e-01,  3.8987e-01, -3.4368e-01,  2.2295e-01, -2.9083e-01,\n",
              "         -3.3886e-02, -6.7054e-01, -3.9132e-01,  5.0232e-01,  1.9217e-01,\n",
              "          8.8848e-01,  5.6704e-01,  1.5866e-02, -4.4231e-01, -7.4561e-02,\n",
              "          2.5615e-02, -8.9645e-01,  8.5785e-01,  1.0627e-01,  1.6131e-01,\n",
              "         -1.2714e-02, -9.0726e-02,  7.7790e-01, -2.9900e-01, -3.0774e-01,\n",
              "         -2.5228e-01, -6.3207e-01,  8.8887e-01, -3.1037e-01, -4.4576e-01,\n",
              "         -2.5148e-01,  6.2441e-01,  2.7875e-01,  9.9491e-01, -1.8455e-05,\n",
              "         -9.3244e-02, -1.9606e-01, -2.0674e-01,  2.6961e-01, -4.2960e-02,\n",
              "         -1.0000e+00,  2.8995e-01, -7.6116e-02, -1.1032e-01,  1.2452e-02,\n",
              "          4.3423e-02, -1.3035e-01, -9.5326e-01, -7.3549e-02, -8.9347e-02,\n",
              "         -9.2999e-02, -4.1277e-01, -2.7336e-01,  4.1688e-01,  3.7754e-01,\n",
              "          4.5043e-01,  8.7973e-01,  2.9218e-01,  5.9308e-01,  4.7341e-01,\n",
              "          5.2172e-02, -5.8779e-01,  8.9044e-01]], grad_fn=<TanhBackward0>)"
            ]
          },
          "metadata": {},
          "execution_count": 11
        }
      ]
    },
    {
      "cell_type": "markdown",
      "source": [
        "# 3 Preparing Data"
      ],
      "metadata": {
        "id": "9I82TbJgGLlr"
      }
    },
    {
      "cell_type": "markdown",
      "source": [
        "## 3.1 loadiing and reading twitter airline"
      ],
      "metadata": {
        "id": "XXKavTSwGPM-"
      }
    },
    {
      "cell_type": "code",
      "source": [
        "import pandas as pd\n",
        "\n",
        "#increase o/p column width\n",
        "pd.set_option('display.max_colwidth',200)\n",
        "df=pd.read_csv(\"Tweets.csv\")\n",
        "df.head()\n",
        "\n",
        "#interested in to columns airline_sentiment,text"
      ],
      "metadata": {
        "colab": {
          "base_uri": "https://localhost:8080/",
          "height": 643
        },
        "id": "Bgz3sq7xGH8d",
        "outputId": "08d46f59-c27c-4c2d-9e48-92b5a1d3093e"
      },
      "execution_count": 12,
      "outputs": [
        {
          "output_type": "execute_result",
          "data": {
            "text/plain": [
              "             tweet_id airline_sentiment  airline_sentiment_confidence  \\\n",
              "0  570306133677760513           neutral                        1.0000   \n",
              "1  570301130888122368          positive                        0.3486   \n",
              "2  570301083672813571           neutral                        0.6837   \n",
              "3  570301031407624196          negative                        1.0000   \n",
              "4  570300817074462722          negative                        1.0000   \n",
              "\n",
              "  negativereason  negativereason_confidence         airline  \\\n",
              "0            NaN                        NaN  Virgin America   \n",
              "1            NaN                     0.0000  Virgin America   \n",
              "2            NaN                        NaN  Virgin America   \n",
              "3     Bad Flight                     0.7033  Virgin America   \n",
              "4     Can't Tell                     1.0000  Virgin America   \n",
              "\n",
              "  airline_sentiment_gold        name negativereason_gold  retweet_count  \\\n",
              "0                    NaN     cairdin                 NaN              0   \n",
              "1                    NaN    jnardino                 NaN              0   \n",
              "2                    NaN  yvonnalynn                 NaN              0   \n",
              "3                    NaN    jnardino                 NaN              0   \n",
              "4                    NaN    jnardino                 NaN              0   \n",
              "\n",
              "                                                                                                                             text  \\\n",
              "0                                                                                             @VirginAmerica What @dhepburn said.   \n",
              "1                                                        @VirginAmerica plus you've added commercials to the experience... tacky.   \n",
              "2                                                         @VirginAmerica I didn't today... Must mean I need to take another trip!   \n",
              "3  @VirginAmerica it's really aggressive to blast obnoxious \"entertainment\" in your guests' faces &amp; they have little recourse   \n",
              "4                                                                         @VirginAmerica and it's a really big bad thing about it   \n",
              "\n",
              "  tweet_coord              tweet_created tweet_location  \\\n",
              "0         NaN  2015-02-24 11:35:52 -0800            NaN   \n",
              "1         NaN  2015-02-24 11:15:59 -0800            NaN   \n",
              "2         NaN  2015-02-24 11:15:48 -0800      Lets Play   \n",
              "3         NaN  2015-02-24 11:15:36 -0800            NaN   \n",
              "4         NaN  2015-02-24 11:14:45 -0800            NaN   \n",
              "\n",
              "                user_timezone  \n",
              "0  Eastern Time (US & Canada)  \n",
              "1  Pacific Time (US & Canada)  \n",
              "2  Central Time (US & Canada)  \n",
              "3  Pacific Time (US & Canada)  \n",
              "4  Pacific Time (US & Canada)  "
            ],
            "text/html": [
              "\n",
              "  <div id=\"df-5107da7d-040a-40b9-a688-7ce664f77ee8\" class=\"colab-df-container\">\n",
              "    <div>\n",
              "<style scoped>\n",
              "    .dataframe tbody tr th:only-of-type {\n",
              "        vertical-align: middle;\n",
              "    }\n",
              "\n",
              "    .dataframe tbody tr th {\n",
              "        vertical-align: top;\n",
              "    }\n",
              "\n",
              "    .dataframe thead th {\n",
              "        text-align: right;\n",
              "    }\n",
              "</style>\n",
              "<table border=\"1\" class=\"dataframe\">\n",
              "  <thead>\n",
              "    <tr style=\"text-align: right;\">\n",
              "      <th></th>\n",
              "      <th>tweet_id</th>\n",
              "      <th>airline_sentiment</th>\n",
              "      <th>airline_sentiment_confidence</th>\n",
              "      <th>negativereason</th>\n",
              "      <th>negativereason_confidence</th>\n",
              "      <th>airline</th>\n",
              "      <th>airline_sentiment_gold</th>\n",
              "      <th>name</th>\n",
              "      <th>negativereason_gold</th>\n",
              "      <th>retweet_count</th>\n",
              "      <th>text</th>\n",
              "      <th>tweet_coord</th>\n",
              "      <th>tweet_created</th>\n",
              "      <th>tweet_location</th>\n",
              "      <th>user_timezone</th>\n",
              "    </tr>\n",
              "  </thead>\n",
              "  <tbody>\n",
              "    <tr>\n",
              "      <th>0</th>\n",
              "      <td>570306133677760513</td>\n",
              "      <td>neutral</td>\n",
              "      <td>1.0000</td>\n",
              "      <td>NaN</td>\n",
              "      <td>NaN</td>\n",
              "      <td>Virgin America</td>\n",
              "      <td>NaN</td>\n",
              "      <td>cairdin</td>\n",
              "      <td>NaN</td>\n",
              "      <td>0</td>\n",
              "      <td>@VirginAmerica What @dhepburn said.</td>\n",
              "      <td>NaN</td>\n",
              "      <td>2015-02-24 11:35:52 -0800</td>\n",
              "      <td>NaN</td>\n",
              "      <td>Eastern Time (US &amp; Canada)</td>\n",
              "    </tr>\n",
              "    <tr>\n",
              "      <th>1</th>\n",
              "      <td>570301130888122368</td>\n",
              "      <td>positive</td>\n",
              "      <td>0.3486</td>\n",
              "      <td>NaN</td>\n",
              "      <td>0.0000</td>\n",
              "      <td>Virgin America</td>\n",
              "      <td>NaN</td>\n",
              "      <td>jnardino</td>\n",
              "      <td>NaN</td>\n",
              "      <td>0</td>\n",
              "      <td>@VirginAmerica plus you've added commercials to the experience... tacky.</td>\n",
              "      <td>NaN</td>\n",
              "      <td>2015-02-24 11:15:59 -0800</td>\n",
              "      <td>NaN</td>\n",
              "      <td>Pacific Time (US &amp; Canada)</td>\n",
              "    </tr>\n",
              "    <tr>\n",
              "      <th>2</th>\n",
              "      <td>570301083672813571</td>\n",
              "      <td>neutral</td>\n",
              "      <td>0.6837</td>\n",
              "      <td>NaN</td>\n",
              "      <td>NaN</td>\n",
              "      <td>Virgin America</td>\n",
              "      <td>NaN</td>\n",
              "      <td>yvonnalynn</td>\n",
              "      <td>NaN</td>\n",
              "      <td>0</td>\n",
              "      <td>@VirginAmerica I didn't today... Must mean I need to take another trip!</td>\n",
              "      <td>NaN</td>\n",
              "      <td>2015-02-24 11:15:48 -0800</td>\n",
              "      <td>Lets Play</td>\n",
              "      <td>Central Time (US &amp; Canada)</td>\n",
              "    </tr>\n",
              "    <tr>\n",
              "      <th>3</th>\n",
              "      <td>570301031407624196</td>\n",
              "      <td>negative</td>\n",
              "      <td>1.0000</td>\n",
              "      <td>Bad Flight</td>\n",
              "      <td>0.7033</td>\n",
              "      <td>Virgin America</td>\n",
              "      <td>NaN</td>\n",
              "      <td>jnardino</td>\n",
              "      <td>NaN</td>\n",
              "      <td>0</td>\n",
              "      <td>@VirginAmerica it's really aggressive to blast obnoxious \"entertainment\" in your guests' faces &amp;amp; they have little recourse</td>\n",
              "      <td>NaN</td>\n",
              "      <td>2015-02-24 11:15:36 -0800</td>\n",
              "      <td>NaN</td>\n",
              "      <td>Pacific Time (US &amp; Canada)</td>\n",
              "    </tr>\n",
              "    <tr>\n",
              "      <th>4</th>\n",
              "      <td>570300817074462722</td>\n",
              "      <td>negative</td>\n",
              "      <td>1.0000</td>\n",
              "      <td>Can't Tell</td>\n",
              "      <td>1.0000</td>\n",
              "      <td>Virgin America</td>\n",
              "      <td>NaN</td>\n",
              "      <td>jnardino</td>\n",
              "      <td>NaN</td>\n",
              "      <td>0</td>\n",
              "      <td>@VirginAmerica and it's a really big bad thing about it</td>\n",
              "      <td>NaN</td>\n",
              "      <td>2015-02-24 11:14:45 -0800</td>\n",
              "      <td>NaN</td>\n",
              "      <td>Pacific Time (US &amp; Canada)</td>\n",
              "    </tr>\n",
              "  </tbody>\n",
              "</table>\n",
              "</div>\n",
              "    <div class=\"colab-df-buttons\">\n",
              "\n",
              "  <div class=\"colab-df-container\">\n",
              "    <button class=\"colab-df-convert\" onclick=\"convertToInteractive('df-5107da7d-040a-40b9-a688-7ce664f77ee8')\"\n",
              "            title=\"Convert this dataframe to an interactive table.\"\n",
              "            style=\"display:none;\">\n",
              "\n",
              "  <svg xmlns=\"http://www.w3.org/2000/svg\" height=\"24px\" viewBox=\"0 -960 960 960\">\n",
              "    <path d=\"M120-120v-720h720v720H120Zm60-500h600v-160H180v160Zm220 220h160v-160H400v160Zm0 220h160v-160H400v160ZM180-400h160v-160H180v160Zm440 0h160v-160H620v160ZM180-180h160v-160H180v160Zm440 0h160v-160H620v160Z\"/>\n",
              "  </svg>\n",
              "    </button>\n",
              "\n",
              "  <style>\n",
              "    .colab-df-container {\n",
              "      display:flex;\n",
              "      gap: 12px;\n",
              "    }\n",
              "\n",
              "    .colab-df-convert {\n",
              "      background-color: #E8F0FE;\n",
              "      border: none;\n",
              "      border-radius: 50%;\n",
              "      cursor: pointer;\n",
              "      display: none;\n",
              "      fill: #1967D2;\n",
              "      height: 32px;\n",
              "      padding: 0 0 0 0;\n",
              "      width: 32px;\n",
              "    }\n",
              "\n",
              "    .colab-df-convert:hover {\n",
              "      background-color: #E2EBFA;\n",
              "      box-shadow: 0px 1px 2px rgba(60, 64, 67, 0.3), 0px 1px 3px 1px rgba(60, 64, 67, 0.15);\n",
              "      fill: #174EA6;\n",
              "    }\n",
              "\n",
              "    .colab-df-buttons div {\n",
              "      margin-bottom: 4px;\n",
              "    }\n",
              "\n",
              "    [theme=dark] .colab-df-convert {\n",
              "      background-color: #3B4455;\n",
              "      fill: #D2E3FC;\n",
              "    }\n",
              "\n",
              "    [theme=dark] .colab-df-convert:hover {\n",
              "      background-color: #434B5C;\n",
              "      box-shadow: 0px 1px 3px 1px rgba(0, 0, 0, 0.15);\n",
              "      filter: drop-shadow(0px 1px 2px rgba(0, 0, 0, 0.3));\n",
              "      fill: #FFFFFF;\n",
              "    }\n",
              "  </style>\n",
              "\n",
              "    <script>\n",
              "      const buttonEl =\n",
              "        document.querySelector('#df-5107da7d-040a-40b9-a688-7ce664f77ee8 button.colab-df-convert');\n",
              "      buttonEl.style.display =\n",
              "        google.colab.kernel.accessAllowed ? 'block' : 'none';\n",
              "\n",
              "      async function convertToInteractive(key) {\n",
              "        const element = document.querySelector('#df-5107da7d-040a-40b9-a688-7ce664f77ee8');\n",
              "        const dataTable =\n",
              "          await google.colab.kernel.invokeFunction('convertToInteractive',\n",
              "                                                    [key], {});\n",
              "        if (!dataTable) return;\n",
              "\n",
              "        const docLinkHtml = 'Like what you see? Visit the ' +\n",
              "          '<a target=\"_blank\" href=https://colab.research.google.com/notebooks/data_table.ipynb>data table notebook</a>'\n",
              "          + ' to learn more about interactive tables.';\n",
              "        element.innerHTML = '';\n",
              "        dataTable['output_type'] = 'display_data';\n",
              "        await google.colab.output.renderOutput(dataTable, element);\n",
              "        const docLink = document.createElement('div');\n",
              "        docLink.innerHTML = docLinkHtml;\n",
              "        element.appendChild(docLink);\n",
              "      }\n",
              "    </script>\n",
              "  </div>\n",
              "\n",
              "\n",
              "<div id=\"df-be120b69-ab12-4160-96e2-fc88debb79dd\">\n",
              "  <button class=\"colab-df-quickchart\" onclick=\"quickchart('df-be120b69-ab12-4160-96e2-fc88debb79dd')\"\n",
              "            title=\"Suggest charts\"\n",
              "            style=\"display:none;\">\n",
              "\n",
              "<svg xmlns=\"http://www.w3.org/2000/svg\" height=\"24px\"viewBox=\"0 0 24 24\"\n",
              "     width=\"24px\">\n",
              "    <g>\n",
              "        <path d=\"M19 3H5c-1.1 0-2 .9-2 2v14c0 1.1.9 2 2 2h14c1.1 0 2-.9 2-2V5c0-1.1-.9-2-2-2zM9 17H7v-7h2v7zm4 0h-2V7h2v10zm4 0h-2v-4h2v4z\"/>\n",
              "    </g>\n",
              "</svg>\n",
              "  </button>\n",
              "\n",
              "<style>\n",
              "  .colab-df-quickchart {\n",
              "      --bg-color: #E8F0FE;\n",
              "      --fill-color: #1967D2;\n",
              "      --hover-bg-color: #E2EBFA;\n",
              "      --hover-fill-color: #174EA6;\n",
              "      --disabled-fill-color: #AAA;\n",
              "      --disabled-bg-color: #DDD;\n",
              "  }\n",
              "\n",
              "  [theme=dark] .colab-df-quickchart {\n",
              "      --bg-color: #3B4455;\n",
              "      --fill-color: #D2E3FC;\n",
              "      --hover-bg-color: #434B5C;\n",
              "      --hover-fill-color: #FFFFFF;\n",
              "      --disabled-bg-color: #3B4455;\n",
              "      --disabled-fill-color: #666;\n",
              "  }\n",
              "\n",
              "  .colab-df-quickchart {\n",
              "    background-color: var(--bg-color);\n",
              "    border: none;\n",
              "    border-radius: 50%;\n",
              "    cursor: pointer;\n",
              "    display: none;\n",
              "    fill: var(--fill-color);\n",
              "    height: 32px;\n",
              "    padding: 0;\n",
              "    width: 32px;\n",
              "  }\n",
              "\n",
              "  .colab-df-quickchart:hover {\n",
              "    background-color: var(--hover-bg-color);\n",
              "    box-shadow: 0 1px 2px rgba(60, 64, 67, 0.3), 0 1px 3px 1px rgba(60, 64, 67, 0.15);\n",
              "    fill: var(--button-hover-fill-color);\n",
              "  }\n",
              "\n",
              "  .colab-df-quickchart-complete:disabled,\n",
              "  .colab-df-quickchart-complete:disabled:hover {\n",
              "    background-color: var(--disabled-bg-color);\n",
              "    fill: var(--disabled-fill-color);\n",
              "    box-shadow: none;\n",
              "  }\n",
              "\n",
              "  .colab-df-spinner {\n",
              "    border: 2px solid var(--fill-color);\n",
              "    border-color: transparent;\n",
              "    border-bottom-color: var(--fill-color);\n",
              "    animation:\n",
              "      spin 1s steps(1) infinite;\n",
              "  }\n",
              "\n",
              "  @keyframes spin {\n",
              "    0% {\n",
              "      border-color: transparent;\n",
              "      border-bottom-color: var(--fill-color);\n",
              "      border-left-color: var(--fill-color);\n",
              "    }\n",
              "    20% {\n",
              "      border-color: transparent;\n",
              "      border-left-color: var(--fill-color);\n",
              "      border-top-color: var(--fill-color);\n",
              "    }\n",
              "    30% {\n",
              "      border-color: transparent;\n",
              "      border-left-color: var(--fill-color);\n",
              "      border-top-color: var(--fill-color);\n",
              "      border-right-color: var(--fill-color);\n",
              "    }\n",
              "    40% {\n",
              "      border-color: transparent;\n",
              "      border-right-color: var(--fill-color);\n",
              "      border-top-color: var(--fill-color);\n",
              "    }\n",
              "    60% {\n",
              "      border-color: transparent;\n",
              "      border-right-color: var(--fill-color);\n",
              "    }\n",
              "    80% {\n",
              "      border-color: transparent;\n",
              "      border-right-color: var(--fill-color);\n",
              "      border-bottom-color: var(--fill-color);\n",
              "    }\n",
              "    90% {\n",
              "      border-color: transparent;\n",
              "      border-bottom-color: var(--fill-color);\n",
              "    }\n",
              "  }\n",
              "</style>\n",
              "\n",
              "  <script>\n",
              "    async function quickchart(key) {\n",
              "      const quickchartButtonEl =\n",
              "        document.querySelector('#' + key + ' button');\n",
              "      quickchartButtonEl.disabled = true;  // To prevent multiple clicks.\n",
              "      quickchartButtonEl.classList.add('colab-df-spinner');\n",
              "      try {\n",
              "        const charts = await google.colab.kernel.invokeFunction(\n",
              "            'suggestCharts', [key], {});\n",
              "      } catch (error) {\n",
              "        console.error('Error during call to suggestCharts:', error);\n",
              "      }\n",
              "      quickchartButtonEl.classList.remove('colab-df-spinner');\n",
              "      quickchartButtonEl.classList.add('colab-df-quickchart-complete');\n",
              "    }\n",
              "    (() => {\n",
              "      let quickchartButtonEl =\n",
              "        document.querySelector('#df-be120b69-ab12-4160-96e2-fc88debb79dd button');\n",
              "      quickchartButtonEl.style.display =\n",
              "        google.colab.kernel.accessAllowed ? 'block' : 'none';\n",
              "    })();\n",
              "  </script>\n",
              "</div>\n",
              "\n",
              "    </div>\n",
              "  </div>\n"
            ],
            "application/vnd.google.colaboratory.intrinsic+json": {
              "type": "dataframe",
              "repr_error": "Out of range float values are not JSON compliant: nan"
            }
          },
          "metadata": {},
          "execution_count": 12
        }
      ]
    },
    {
      "cell_type": "code",
      "source": [
        "df.shape"
      ],
      "metadata": {
        "colab": {
          "base_uri": "https://localhost:8080/"
        },
        "id": "lBGMsS3MGvlT",
        "outputId": "77df762c-13b6-4235-955e-c4cf79ebd1ac"
      },
      "execution_count": null,
      "outputs": [
        {
          "output_type": "execute_result",
          "data": {
            "text/plain": [
              "(14640, 15)"
            ]
          },
          "metadata": {},
          "execution_count": 19
        }
      ]
    },
    {
      "cell_type": "code",
      "source": [
        "df['text'].sample(5)"
      ],
      "metadata": {
        "colab": {
          "base_uri": "https://localhost:8080/",
          "height": 293
        },
        "id": "oTbWn7ebSFIc",
        "outputId": "31b0a99b-a05d-4a52-e827-1b833d3b5e78"
      },
      "execution_count": null,
      "outputs": [
        {
          "output_type": "execute_result",
          "data": {
            "text/plain": [
              "3907                                                                  @united why haven't you updated that flight 4411 is delayed? Super frustrating\n",
              "13539    @AmericanAir Last thing I want to deal w/ before 8 on a Mon! I've already waited the suggested wait time, so I hope I get a call back ASAP.\n",
              "10252    @USAirways @AmericanAir Suggestions , been on hold 2 hrs for flight that is now about to pass departure...Dealing w ny weather, need change\n",
              "7148                                                                 “@JetBlue: Our fleet's on fleek. http://t.co/3Ltx7JKBo9” is fleek dead yet now?\n",
              "7166                                   @JetBlue Hopefully now my application for JetBlue donut designer will finally go through the proper channels.\n",
              "Name: text, dtype: object"
            ],
            "text/html": [
              "<div>\n",
              "<style scoped>\n",
              "    .dataframe tbody tr th:only-of-type {\n",
              "        vertical-align: middle;\n",
              "    }\n",
              "\n",
              "    .dataframe tbody tr th {\n",
              "        vertical-align: top;\n",
              "    }\n",
              "\n",
              "    .dataframe thead th {\n",
              "        text-align: right;\n",
              "    }\n",
              "</style>\n",
              "<table border=\"1\" class=\"dataframe\">\n",
              "  <thead>\n",
              "    <tr style=\"text-align: right;\">\n",
              "      <th></th>\n",
              "      <th>text</th>\n",
              "    </tr>\n",
              "  </thead>\n",
              "  <tbody>\n",
              "    <tr>\n",
              "      <th>3907</th>\n",
              "      <td>@united why haven't you updated that flight 4411 is delayed? Super frustrating</td>\n",
              "    </tr>\n",
              "    <tr>\n",
              "      <th>13539</th>\n",
              "      <td>@AmericanAir Last thing I want to deal w/ before 8 on a Mon! I've already waited the suggested wait time, so I hope I get a call back ASAP.</td>\n",
              "    </tr>\n",
              "    <tr>\n",
              "      <th>10252</th>\n",
              "      <td>@USAirways @AmericanAir Suggestions , been on hold 2 hrs for flight that is now about to pass departure...Dealing w ny weather, need change</td>\n",
              "    </tr>\n",
              "    <tr>\n",
              "      <th>7148</th>\n",
              "      <td>“@JetBlue: Our fleet's on fleek. http://t.co/3Ltx7JKBo9” is fleek dead yet now?</td>\n",
              "    </tr>\n",
              "    <tr>\n",
              "      <th>7166</th>\n",
              "      <td>@JetBlue Hopefully now my application for JetBlue donut designer will finally go through the proper channels.</td>\n",
              "    </tr>\n",
              "  </tbody>\n",
              "</table>\n",
              "</div><br><label><b>dtype:</b> object</label>"
            ]
          },
          "metadata": {},
          "execution_count": 18
        }
      ]
    },
    {
      "cell_type": "code",
      "source": [
        "df['airline_sentiment'].value_counts() #class distribution"
      ],
      "metadata": {
        "colab": {
          "base_uri": "https://localhost:8080/",
          "height": 210
        },
        "id": "Yn11MdC_SKfI",
        "outputId": "879ebf5d-375b-476b-bc2d-4a3099103eb6"
      },
      "execution_count": 13,
      "outputs": [
        {
          "output_type": "execute_result",
          "data": {
            "text/plain": [
              "airline_sentiment\n",
              "negative    9178\n",
              "neutral     3099\n",
              "positive    2363\n",
              "Name: count, dtype: int64"
            ],
            "text/html": [
              "<div>\n",
              "<style scoped>\n",
              "    .dataframe tbody tr th:only-of-type {\n",
              "        vertical-align: middle;\n",
              "    }\n",
              "\n",
              "    .dataframe tbody tr th {\n",
              "        vertical-align: top;\n",
              "    }\n",
              "\n",
              "    .dataframe thead th {\n",
              "        text-align: right;\n",
              "    }\n",
              "</style>\n",
              "<table border=\"1\" class=\"dataframe\">\n",
              "  <thead>\n",
              "    <tr style=\"text-align: right;\">\n",
              "      <th></th>\n",
              "      <th>count</th>\n",
              "    </tr>\n",
              "    <tr>\n",
              "      <th>airline_sentiment</th>\n",
              "      <th></th>\n",
              "    </tr>\n",
              "  </thead>\n",
              "  <tbody>\n",
              "    <tr>\n",
              "      <th>negative</th>\n",
              "      <td>9178</td>\n",
              "    </tr>\n",
              "    <tr>\n",
              "      <th>neutral</th>\n",
              "      <td>3099</td>\n",
              "    </tr>\n",
              "    <tr>\n",
              "      <th>positive</th>\n",
              "      <td>2363</td>\n",
              "    </tr>\n",
              "  </tbody>\n",
              "</table>\n",
              "</div><br><label><b>dtype:</b> int64</label>"
            ]
          },
          "metadata": {},
          "execution_count": 13
        }
      ]
    },
    {
      "cell_type": "code",
      "source": [
        "df['airline_sentiment'].value_counts(normalize=True)"
      ],
      "metadata": {
        "colab": {
          "base_uri": "https://localhost:8080/",
          "height": 210
        },
        "id": "eQy_0_3XSOrZ",
        "outputId": "37251d11-322f-4350-cd6e-9ca852ad4a67"
      },
      "execution_count": null,
      "outputs": [
        {
          "output_type": "execute_result",
          "data": {
            "text/plain": [
              "airline_sentiment\n",
              "negative    0.626913\n",
              "neutral     0.211680\n",
              "positive    0.161407\n",
              "Name: proportion, dtype: float64"
            ],
            "text/html": [
              "<div>\n",
              "<style scoped>\n",
              "    .dataframe tbody tr th:only-of-type {\n",
              "        vertical-align: middle;\n",
              "    }\n",
              "\n",
              "    .dataframe tbody tr th {\n",
              "        vertical-align: top;\n",
              "    }\n",
              "\n",
              "    .dataframe thead th {\n",
              "        text-align: right;\n",
              "    }\n",
              "</style>\n",
              "<table border=\"1\" class=\"dataframe\">\n",
              "  <thead>\n",
              "    <tr style=\"text-align: right;\">\n",
              "      <th></th>\n",
              "      <th>proportion</th>\n",
              "    </tr>\n",
              "    <tr>\n",
              "      <th>airline_sentiment</th>\n",
              "      <th></th>\n",
              "    </tr>\n",
              "  </thead>\n",
              "  <tbody>\n",
              "    <tr>\n",
              "      <th>negative</th>\n",
              "      <td>0.626913</td>\n",
              "    </tr>\n",
              "    <tr>\n",
              "      <th>neutral</th>\n",
              "      <td>0.211680</td>\n",
              "    </tr>\n",
              "    <tr>\n",
              "      <th>positive</th>\n",
              "      <td>0.161407</td>\n",
              "    </tr>\n",
              "  </tbody>\n",
              "</table>\n",
              "</div><br><label><b>dtype:</b> float64</label>"
            ]
          },
          "metadata": {},
          "execution_count": 20
        }
      ]
    },
    {
      "cell_type": "code",
      "source": [
        "#saving the value counts to a list\n",
        "class_counts=df['airline_sentiment'].value_counts().tolist()"
      ],
      "metadata": {
        "id": "YXh41DZFSTQv"
      },
      "execution_count": 84,
      "outputs": []
    },
    {
      "cell_type": "markdown",
      "source": [
        "## 3.2 Text Cleaning"
      ],
      "metadata": {
        "id": "dIaN0csgSr9F"
      }
    },
    {
      "cell_type": "code",
      "source": [
        "import re\n",
        "def preprocessor(text):\n",
        "  text=text.lower()\n",
        "  text=re.sub(r'@[A-Za-z0-9]+','',text) #remove @mentions as twitter handla will have '@'\n",
        "  # text=re.sub(r'#[A-Za-z0-9]+','',text) #remove hashtags\n",
        "  text=re.sub(r'http\\s+','',text) #remove links\n",
        "  #split toen to remove extra spaces\n",
        "  tokens=text.split( )\n",
        "  #join token by space\n",
        "  return \" \".join(tokens)"
      ],
      "metadata": {
        "id": "IeOlBlw2Su_D"
      },
      "execution_count": 15,
      "outputs": []
    },
    {
      "cell_type": "code",
      "source": [
        "df['clean_text']=df['text'].apply(preprocessor)"
      ],
      "metadata": {
        "id": "h1k900lMUWCR"
      },
      "execution_count": 16,
      "outputs": []
    },
    {
      "cell_type": "code",
      "source": [
        "#save cleaned text and labels to a  variable\n",
        "text=df['clean_text'].values\n",
        "labels=df['airline_sentiment'].values"
      ],
      "metadata": {
        "id": "I9Pf0Ox8Ufna"
      },
      "execution_count": 17,
      "outputs": []
    },
    {
      "cell_type": "code",
      "source": [
        "text[50:55]"
      ],
      "metadata": {
        "colab": {
          "base_uri": "https://localhost:8080/"
        },
        "id": "lCRby8LzUqzO",
        "outputId": "0b693493-c72a-461b-e98b-29ad626a5224"
      },
      "execution_count": null,
      "outputs": [
        {
          "output_type": "execute_result",
          "data": {
            "text/plain": [
              "array(['is flight 769 on it\\'s way? was supposed to take off 30 minutes ago. website still shows \"on time\" not \"in flight\". thanks.',\n",
              "       'julie andrews all the way though was very impressive! no to',\n",
              "       'wish you flew out of atlanta... soon?',\n",
              "       'julie andrews. hands down.',\n",
              "       'will flights be leaving dallas for la on february 24th?'],\n",
              "      dtype=object)"
            ]
          },
          "metadata": {},
          "execution_count": 28
        }
      ]
    },
    {
      "cell_type": "markdown",
      "source": [
        "## 3.3 preparing i/p ans o/p data"
      ],
      "metadata": {
        "id": "zI_NMxf0Uu60"
      }
    },
    {
      "cell_type": "code",
      "source": [
        "from sklearn.preprocessing import LabelEncoder\n",
        "le=LabelEncoder()\n",
        "labels=le.fit_transform(labels)"
      ],
      "metadata": {
        "id": "9F6ZRfUHUs7b"
      },
      "execution_count": 18,
      "outputs": []
    },
    {
      "cell_type": "code",
      "source": [
        "le.classes_"
      ],
      "metadata": {
        "colab": {
          "base_uri": "https://localhost:8080/"
        },
        "id": "7jVvigWJVarp",
        "outputId": "1754472c-b76d-4d5b-e667-df3d28ba1748"
      },
      "execution_count": null,
      "outputs": [
        {
          "output_type": "execute_result",
          "data": {
            "text/plain": [
              "array(['negative', 'neutral', 'positive'], dtype=object)"
            ]
          },
          "metadata": {},
          "execution_count": 30
        }
      ]
    },
    {
      "cell_type": "code",
      "source": [
        "labels"
      ],
      "metadata": {
        "colab": {
          "base_uri": "https://localhost:8080/"
        },
        "id": "va6Rb6t0VRFJ",
        "outputId": "a7a17961-9b4b-414a-d12d-1098200cdab8"
      },
      "execution_count": null,
      "outputs": [
        {
          "output_type": "execute_result",
          "data": {
            "text/plain": [
              "array([1, 2, 1, ..., 1, 0, 1])"
            ]
          },
          "metadata": {},
          "execution_count": 31
        }
      ]
    },
    {
      "cell_type": "code",
      "source": [
        "import matplotlib.pyplot as plt\n",
        "num=[len(i.split()) for i in text]\n",
        "plt.hist(num,bins=30)\n",
        "plt.title(\"Distribution of text length\")\n",
        "plt.show()\n"
      ],
      "metadata": {
        "colab": {
          "base_uri": "https://localhost:8080/",
          "height": 452
        },
        "id": "QdmfnmiUVR-l",
        "outputId": "8fd444d2-5920-4a32-f829-8ec5683d46b7"
      },
      "execution_count": 19,
      "outputs": [
        {
          "output_type": "display_data",
          "data": {
            "text/plain": [
              "<Figure size 640x480 with 1 Axes>"
            ],
            "image/png": "[encoded data removed]"
          },
          "metadata": {}
        }
      ]
    },
    {
      "cell_type": "code",
      "source": [
        "max_len=25"
      ],
      "metadata": {
        "id": "UL-mgnyDV6Mx"
      },
      "execution_count": 21,
      "outputs": []
    },
    {
      "cell_type": "code",
      "source": [
        "#library for progress bar\n",
        "from tqdm import notebook\n",
        "# to save ineteger seq\n",
        "sent_id=[]\n",
        "for i in notebook.tqdm(range(len(text))):\n",
        "  encoded_sent=tokenizer.encode(text[i],add_special_tokens=True,\n",
        "                                max_length=max_len,\n",
        "                                truncation=True,\n",
        "                                pad_to_max_length='right')\n",
        "  sent_id.append(encoded_sent)"
      ],
      "metadata": {
        "colab": {
          "base_uri": "https://localhost:8080/",
          "height": 105,
          "referenced_widgets": [
            "a82ad2521b224200bc022008ad9bdc05",
            "f521d83b2eb04eaaada2bd285a0fc766",
            "9f7b421e279442fd9cecd4ad095bed5c",
            "1fc5f569543e41588c7048234c87b0c7",
            "440e3d44a2f54c11b1f071063ce5e850",
            "c6acfa19282a4ef28acda13fc5ec790f",
            "d627a98b58584c54a8e4dc6b67759607",
            "43e9fcc3ef974e57af5a8f5bcfcf3518",
            "60bfca4d57a14b508e4fa0c928300059",
            "78368e1e255a4de6b3c98b4ebe638945",
            "06edb0e090c84a94b6e574c655a4cec8"
          ]
        },
        "id": "x48bDWS_WC8d",
        "outputId": "34ce0143-41b5-4488-e8b1-66f3717e3a16"
      },
      "execution_count": 22,
      "outputs": [
        {
          "output_type": "display_data",
          "data": {
            "text/plain": [
              "  0%|          | 0/14640 [00:00<?, ?it/s]"
            ],
            "application/vnd.jupyter.widget-view+json": {
              "version_major": 2,
              "version_minor": 0,
              "model_id": "a82ad2521b224200bc022008ad9bdc05"
            }
          },
          "metadata": {}
        },
        {
          "output_type": "stream",
          "name": "stderr",
          "text": [
            "/usr/local/lib/python3.11/dist-packages/transformers/tokenization_utils_base.py:2673: FutureWarning: The `pad_to_max_length` argument is deprecated and will be removed in a future version, use `padding=True` or `padding='longest'` to pad to the longest sequence in the batch, or use `padding='max_length'` to pad to a max length. In this case, you can give a specific length with `max_length` (e.g. `max_length=45`) or leave max_length to None to pad to the maximal input size of the model (e.g. 512 for Bert).\n",
            "  warnings.warn(\n"
          ]
        }
      ]
    },
    {
      "cell_type": "code",
      "source": [
        "print(\"Ineteger seq:\",sent_id[1]) #here 101 at begin and 102 at end are special tkns and last ones 0's are padded tkns since our max_len=25"
      ],
      "metadata": {
        "colab": {
          "base_uri": "https://localhost:8080/"
        },
        "id": "sXb1M_lMWoYt",
        "outputId": "6ff4d69a-8b32-444b-da6f-fd5bee425a17"
      },
      "execution_count": 25,
      "outputs": [
        {
          "output_type": "stream",
          "name": "stdout",
          "text": [
            "Ineteger seq: [101, 4606, 2017, 1005, 2310, 2794, 12698, 2000, 1996, 3325, 1012, 1012, 1012, 26997, 2100, 1012, 102, 0, 0, 0, 0, 0, 0, 0, 0]\n"
          ]
        }
      ]
    },
    {
      "cell_type": "code",
      "source": [
        "# Purpose of Attention Masks:\n",
        "\n",
        "# Focus on relevant tokens: Attention masks guide the model to focus on the important parts of the input sequence (the actual words) and ignore the padding tokens.\n",
        "# Creating the mask:\n",
        "\n",
        "# att_mask = [int(token_id > 0) for token_id in sent]: This is the core part where the attention mask is created for the current sentence (sent).\n",
        "# It uses a list comprehension to iterate through each token_id within the sentence.\n",
        "# int(token_id > 0): This condition checks if the token_id is greater than 0.\n",
        "# If token_id is greater than 0 (meaning it's a real token, not padding), it's converted to 1.\n",
        "# If token_id is 0 (padding token), it's converted to 0.\n",
        "# The resulting list att_mask now contains 1s for real tokens and 0s for padding tokens.\n",
        "# #create attention masks\n",
        "attention_masks=[]\n",
        "for sent in sent_id:\n",
        "  att_mask=[int(token_id>0) for token_id in sent]\n",
        "  attention_masks.append(att_mask)"
      ],
      "metadata": {
        "id": "DLaj-hpgYMCI"
      },
      "execution_count": 23,
      "outputs": []
    },
    {
      "cell_type": "markdown",
      "source": [
        "## 3.4 Training and Validation Data"
      ],
      "metadata": {
        "id": "_2tBO6vQaBoj"
      }
    },
    {
      "cell_type": "code",
      "source": [
        "from sklearn.model_selection import train_test_split\n",
        "#90% for training 10% for validation sets\n",
        "train_inputs,validation_inputs,train_labels,validation_labels=train_test_split(sent_id,labels,random_state=2018,test_size=0.1,stratify=labels)\n",
        "#do the same for masks #as attention masks were also passed along with i/p\n",
        "train_masks,validation_masks,_,_=train_test_split(attention_masks,labels,random_state=2018,test_size=0.1,stratify=labels)"
      ],
      "metadata": {
        "id": "sYHfRFfuZ9d4"
      },
      "execution_count": 27,
      "outputs": []
    },
    {
      "cell_type": "markdown",
      "source": [
        "## 3.5 Define Dataloaders"
      ],
      "metadata": {
        "id": "D6RvO5lab_VH"
      }
    },
    {
      "cell_type": "code",
      "source": [
        "#convery all i/p and labels in to torch tensors,the required datatype for our model\n",
        "train_inputs=torch.tensor(train_inputs)\n",
        "validation_inputs=torch.tensor(validation_inputs)\n",
        "\n",
        "train_labels=torch.tensor(train_labels)\n",
        "validation_labels=torch.tensor(validation_labels)\n",
        "\n",
        "train_masks=torch.tensor(train_masks)\n",
        "validation_masks=torch.tensor(validation_masks)"
      ],
      "metadata": {
        "id": "EiyotpAeeiUz"
      },
      "execution_count": 28,
      "outputs": []
    },
    {
      "cell_type": "code",
      "source": [
        "#create data loaders\n",
        "from torch.utils.data import TensorDataset,DataLoader,RandomSampler,SequentialSampler\n",
        "\n",
        "#the data loader needs to know our batch size for trianing,so we specify it here\n",
        "#for fine-tuning BERT on a specific task,teh authors recommend a batch size of 16 or 32\n",
        "batch_size=32\n",
        "#craete a dataloader for our training set\n",
        "train_data=TensorDataset(train_inputs,train_masks,train_labels)\n",
        "train_sampler=SequentialSampler(train_data)\n",
        "train_dataloader=DataLoader(train_data,sampler=train_sampler,batch_size=batch_size)\n",
        "\n",
        "#create the dataLoader for our validation set\n",
        "#Dataset wrapping tensors\n",
        "validation_data=TensorDataset(validation_inputs,validation_masks,validation_labels)\n",
        "validation_sampler=SequentialSampler(validation_data) #use seq sampler bcs no need to suffle in valudation data set\n",
        "validation_dataloader=DataLoader(validation_data,sampler=validation_sampler,batch_size=batch_size)"
      ],
      "metadata": {
        "id": "vzw-ayhSe8Uv"
      },
      "execution_count": 29,
      "outputs": []
    },
    {
      "cell_type": "code",
      "source": [
        "#create an iterator object\n",
        "iterator=iter(train_dataloader)\n",
        "\n",
        "#load batch data\n",
        "sent_id,mask,target=next(iterator) # use next(iterator) instead of iterator.next()\n"
      ],
      "metadata": {
        "id": "XsYkiZjngQXv"
      },
      "execution_count": 31,
      "outputs": []
    },
    {
      "cell_type": "code",
      "source": [
        "sent_id.shape #32 is batch size and 25 is seq len"
      ],
      "metadata": {
        "colab": {
          "base_uri": "https://localhost:8080/"
        },
        "id": "SQmBi3lYiDu8",
        "outputId": "6ad6486f-518d-4efa-8b37-941591379473"
      },
      "execution_count": 36,
      "outputs": [
        {
          "output_type": "execute_result",
          "data": {
            "text/plain": [
              "torch.Size([32, 25])"
            ]
          },
          "metadata": {},
          "execution_count": 36
        }
      ]
    },
    {
      "cell_type": "code",
      "source": [
        "sent_id"
      ],
      "metadata": {
        "colab": {
          "base_uri": "https://localhost:8080/"
        },
        "id": "TDlQg-eEh5EA",
        "outputId": "21faa0c3-7c49-4c62-82e3-536d0cc4067f"
      },
      "execution_count": 32,
      "outputs": [
        {
          "output_type": "execute_result",
          "data": {
            "text/plain": [
              "tensor([[  101,  4005,  3975,  2039,  2026, 11079,  1029,  2085,  2064,  1005,\n",
              "          1056,  8014,  3462,  1998, 25416,  8630,  4923,  2005,  1016, 26291,\n",
              "          2015,  1029,  2339,   102,     0],\n",
              "        [  101,  3531,  2507,  2569,  4283,  2000,  7158,  1999,  9925,  2436,\n",
              "          2005,  5094,  2033,  2005,  6719,  2048,  2847,   999,  2002,  1005,\n",
              "          1055,  6429,  1012,  3260,   102],\n",
              "        [  101,  6659,  4899,  2006,  6205,  2629,   102,     0,     0,     0,\n",
              "             0,     0,     0,     0,     0,     0,     0,     0,     0,     0,\n",
              "             0,     0,     0,     0,     0],\n",
              "        [  101,  2061,  2043,  2001,  1045,  4011,  2000,  2655,  1996,  4274,\n",
              "          4624,  1029,  2926,  2144,  2026, 11079,  2409,  2033,  2000,  3495,\n",
              "          2655,  1996,  2364,  1015,   102],\n",
              "        [  101,  2057,  2128,  8654,  2098,  1998,  9364,  2057,  2031,  2000,\n",
              "          3524,  1037,  2878,  2154,  2000,  2707,  2256, 10885,  1012,  2012,\n",
              "          2122, 27092,  2142,  2323,   102],\n",
              "        [  101,  2145,  4533,  2015,  2013,  8013,  2326,  1012,   102,     0,\n",
              "             0,     0,     0,     0,     0,     0,     0,     0,     0,     0,\n",
              "             0,     0,     0,     0,     0],\n",
              "        [  101,  7632,  1045,  5520,  2007,  2115,  8582,  2320,  1999,  2660,\n",
              "          1998,  2387,  5717, 21652,  2015,  1012,  2018,  2023,  2042, 28667,\n",
              "          3775, 10451,   102,     0,     0],\n",
              "        [  101,  1045,  2001,  2583,  2000,  2131,  1037,  2835,  2006,  3041,\n",
              "          3462, 16420,  2080,  2000, 27427,  1012,  2064,  2017,  5587,  2033,\n",
              "          2000,  1020,  9737,  2030,   102],\n",
              "        [  101,  2085,  2038, 15577,  2003,  1999,  1001,  5631,  2302,  2039,\n",
              "         16616,  2151,  1997,  1996,  6712,  7923,  1010,  1998,  2320,  2027,\n",
              "          8014,  3462,  3709,  1996,   102],\n",
              "        [  101,  2026,  2564,  2003,  2667,  2000,  4638,  1999,  2005,  1037,\n",
              "          3462,  3892,  2041,  1997, 12667,  2860,  1012,  1012,  1012,  4037,\n",
              "          2025,  4352,  1010,  3038,   102],\n",
              "        [  101, 16215,  2595,  1012,  2191,  2009,  2157,  1012,  2393,  2033,\n",
              "         16098,  2078,  1042,  5833,  2100, 24905, 11266,  2080, 13109,  1001,\n",
              "         25578,  2487,  1040,  2546,   102],\n",
              "        [  101, 15577,  1999,  5631,  2138,  2115, 12978,  2291,  7906,  5689,\n",
              "          2039,  2006,  2033,  2005,  2048,  2420,  1012,  2393,   999,   102,\n",
              "             0,     0,     0,     0,     0],\n",
              "        [  101,  2129,  2064,  1045,  2689,  2302,  6531,  1998,  2025,  2031,\n",
              "          2000,  2655,  8013,  2326,   102,     0,     0,     0,     0,     0,\n",
              "             0,     0,     0,     0,     0],\n",
              "        [  101,  2045,  1005,  1055,  2003,  2498,  2045,  2138,  4593,  1045,\n",
              "          2031,  2000,  7532,  2068,  2005,  2008,  2000,  2022,  2995,  1012,\n",
              "           102,     0,     0,     0,     0],\n",
              "        [  101,  1010,  2085,  2017,  2031,  8014,  3462,  3709,  2026,  2564,\n",
              "          1998,  2684,  1005,  1055, 13109,  2102,  1029,  1029,  2054,  1005,\n",
              "          1055,  2183,  2006,  1029,   102],\n",
              "        [  101,  4283,  2000,  1051,  2358,  5677, 16564,  2005,  2635,  2051,\n",
              "          2000,  3191,  2083,  3931,  2000,  2424, 18558,  2004, 12366,  2371,\n",
              "          2000, 18292, 27793,  1045,   102],\n",
              "        [  101,  2008,  1005,  1055,  7929,   999,  2009,  2074,  2469,  2790,\n",
              "          2066,  2009,  2043,  6892, 16558,  5657,  1056, 28394,  3064,  2149,\n",
              "          2067,  1998,  2356,  2149,   102],\n",
              "        [  101,  2215,  2175,  2013,  2047,  5979,  5395,  2156,  2026,  3611,\n",
              "          2012,  9108,  5143,  2064,  2017,  2393,  2033,  2041,   102,     0,\n",
              "             0,     0,     0,     0,     0],\n",
              "        [  101,  1002,  4583,  9298,  4536,  2000,  1040,  2546,  2860,  2013,\n",
              "          2293,  2288,  2033,  2026,  4524,  1012, 24964, 14905, 28393,  1029,\n",
              "           102,     0,     0,     0,     0],\n",
              "        [  101,  1045,  2031,  2042,  1999,  3967,  1998,  2113,  2045,  2024,\n",
              "          3431,  2021,  2009,  1005,  1055,  1037,  7688,  2017,  2323,  2428,\n",
              "         16157,   999,  4283,   102,     0],\n",
              "        [  101,  2026,  5795,  2003,  1024,  1007,   102,     0,     0,     0,\n",
              "             0,     0,     0,     0,     0,     0,     0,     0,     0,     0,\n",
              "             0,     0,     0,     0,     0],\n",
              "        [  101,  4405,  2758,  2008,  2057,  2024,  2183,  2000,  2202,  2125,\n",
              "          1999,  2184,  2781,  1012,  2061,  2672,  1996,  3001,  2234,  2067,\n",
              "          3784,  1029,   102,     0,     0],\n",
              "        [  101,  2009,  2052,  2022,  3835,  2000,  2074,  4139,  2039,  2000,\n",
              "          1996,  4796,  1012,  2145,  3564,  2182,   102,     0,     0,     0,\n",
              "             0,     0,     0,     0,     0],\n",
              "        [  101,  2129,  2079,  1045,  4607, 12293,  2592,  2006,  2019,  4493,\n",
              "         11079,  2077,  4638,  1999,  1029,   102,     0,     0,     0,     0,\n",
              "             0,     0,     0,     0,     0],\n",
              "        [  101,  2128,  8654,  2098,  2484,  2847,  2044,  2434,  3462,  1010,\n",
              "          2000,  2360,  2115,  8304,  1997,  3663,  2001,  2919,  2052,  2022,\n",
              "          2019,  2104,  9153, 18532,   102],\n",
              "        [  101, 11931,  2667,  2000,  2191,  1037,  4434,  2000, 27377,  2064,\n",
              "          2050,  2681,  6887,  2140,  2012,  1023,  1024,  2753,   102,     0,\n",
              "             0,     0,     0,     0,     0],\n",
              "        [  101,  2026, 24115,  2024,  2747,  8394,  1017,  1012,  1019,  2847,\n",
              "          1998, 10320,  1999,  5887,  2050,  2006,  2037,  3971,  2000,  6187,\n",
              "          2063,  2005,  1037,  5439,   102],\n",
              "        [  101,  1997,  2607,   999,  1045,  2147,  2005,  1998,  1045,  1005,\n",
              "          1049, 15896,  2007,  1996,  2972,  6261,  2155,   999,   999,   102,\n",
              "             0,     0,     0,     0,     0],\n",
              "        [  101,  2003,  2009,  3343,  2000,  2425,  6304,  1000,  2057,  2064,\n",
              "          1005,  1056,  2393,  2017,  1029,  1000,  1045,  1005,  1049,  3374,\n",
              "          2021,  2023,  2003, 21873,   102],\n",
              "        [  101,  3564,  2006,  1996, 16985, 22911,  3403,  2000,  2139, 11751,\n",
              "          2871,  1009,  2781,  1012,  1996,  2504,  1997,  2326,  1045,  1005,\n",
              "          2310,  2272,  2000,  5987,   102],\n",
              "        [  101, 12476,   102,     0,     0,     0,     0,     0,     0,     0,\n",
              "             0,     0,     0,     0,     0,     0,     0,     0,     0,     0,\n",
              "             0,     0,     0,     0,     0],\n",
              "        [  101,  2003,  2045,  2151,  3382,  1045,  2071,  2131,  9735,  2000,\n",
              "          1996,  1001,  7688,  7265,  7446,  2015,  2265,  1999,  7136,  1029,\n",
              "          4921,  2063,  2042,  1037,   102]])"
            ]
          },
          "metadata": {},
          "execution_count": 32
        }
      ]
    },
    {
      "cell_type": "code",
      "source": [
        "#pass i/ps to the model\n",
        "outputs=bert(sent_id,              #integer sequence\n",
        "             attention_mask=mask)   #attention masks"
      ],
      "metadata": {
        "id": "4XU4NpymhKZC"
      },
      "execution_count": null,
      "outputs": []
    },
    {
      "cell_type": "code",
      "source": [
        "#hidden states\n",
        "hidden_states=outputs[0]\n",
        "\n",
        "#[cls] hidden state\n",
        "cls_hidden_state=outputs[1]\n",
        "\n",
        "print(\"shape of hidden states: \",hidden_states.shape) #768 is dim of o/p vector\n",
        "print(\"shape of cls hidden states: \",cls_hidden_state.shape)\n",
        "\n"
      ],
      "metadata": {
        "colab": {
          "base_uri": "https://localhost:8080/"
        },
        "id": "nYEZBW_8hUbv",
        "outputId": "c98dc0ed-982a-4ffe-c8d9-bfd3d2e3da51"
      },
      "execution_count": 37,
      "outputs": [
        {
          "output_type": "stream",
          "name": "stdout",
          "text": [
            "shape of hidden states:  torch.Size([1, 10, 768])\n",
            "shape of cls hidden states:  torch.Size([1, 768])\n"
          ]
        }
      ]
    },
    {
      "cell_type": "markdown",
      "source": [
        "# 4.Model Finetuning\n",
        "\n",
        "> The pretrained model is trained on the general domain corpus.so,finetuning the pretrained model helps in the capturing the specific features from our custom dataset\n",
        "1. Every pre trained model is trained using 2 diff layers:Backbone and Head\n",
        "* Backbone refers to the pretrained model architecture\n",
        "* Head refers to the dense layer added on top of backbone.Generally the layer is used for the classification tasks\n",
        "Hence,we can fintune the pretrained model in 2 ways\n",
        "1. Fine-Tuning only Head(or Dence Layer)\n",
        "1.1 CLS token\n",
        "1.2 Hidden states\n",
        "2. Fine-Tunin both Backbone & Head\n",
        "1.1 CLS token\n",
        "1.2 Hidden states\n"
      ],
      "metadata": {
        "id": "Ao2u8HXEiq5W"
      }
    },
    {
      "cell_type": "markdown",
      "source": [
        "# 4.1 Approach:Fine-Tuning only head\n",
        "As the name suggests,in this approach,we freeze the BB and train only head or dense layer\n",
        "\n",
        "## Steps to Follow\n",
        "1.Turn off Gradients\n",
        "2.Define model architecture\n",
        "3.Define optimizer and loss\n",
        "4.Define Train and Evaluate\n",
        "5.Train teh model\n",
        "6.Evaluate the model\n"
      ],
      "metadata": {
        "id": "8-p0HskInBw-"
      }
    },
    {
      "cell_type": "code",
      "source": [
        "#turn off the gradient of all the parameters\n",
        "for param in bert.parameters():\n",
        "  param.requires_grad=False"
      ],
      "metadata": {
        "id": "EG_uFF23ivek"
      },
      "execution_count": 38,
      "outputs": []
    },
    {
      "cell_type": "markdown",
      "source": [
        "# 4.2 Define Modle Architecture"
      ],
      "metadata": {
        "id": "SQv8NOvFoBOV"
      }
    },
    {
      "cell_type": "code",
      "source": [
        "import torch.nn as nn\n",
        "import torch.nn.functional as F\n",
        "class classifier(nn.Module):\n",
        "  #define the layers and wrappers used by model\n",
        "  def __init__(self,dropout=0.5):\n",
        "    super(classifier,self).__init__()\n",
        "    self.bert=bert\n",
        "    #dense layer 1\n",
        "    #as the dim of bert model o/p is 768 right,therfore the i/p dim are the first linear layer is 768\n",
        "    #512 is o/p units specifies by user this is hyper paarmeter\n",
        "    self.fc1=nn.Linear(768,512)\n",
        "    #dense layer 2\n",
        "    #since 3 labels o/p dim of secon dense layer is 3\n",
        "    self.fc2=nn.Linear(512,3)\n",
        "    #dropout layer\n",
        "    self.dropout=nn.Dropout(0.1)\n",
        "    # ReLU Activation Function\n",
        "    self.relu = nn.ReLU()  # Fix: Define ReLU properly\n",
        "    #softmax AF\n",
        "    self.softmax=nn.LogSoftmax(dim=1)\n",
        "\n",
        "  #define the forward pass\n",
        "  def forward(self,sent_id,mask):\n",
        "    #pass the i/p to model\n",
        "    # all_hidden_state,cls_hidden_state=self.bert(sent_id,attention_mask=mask)\n",
        "\n",
        "    _,cls_hidden_state=self.bert(sent_id,attention_mask=mask,return_dict=False)\n",
        "\n",
        "    #pass CLS hidden state to dense layer\n",
        "    x=self.fc1(cls_hidden_state)\n",
        "    #apply relu AF\n",
        "    x=self.relu(x)\n",
        "    #apply dropout\n",
        "    x=self.dropout(x)\n",
        "    #pass i/p to o/p layer\n",
        "    x=self.fc2(x)\n",
        "    #apply softmax AF\n",
        "    x=self.softmax(x)\n",
        "    return x\n",
        "\n",
        "\n"
      ],
      "metadata": {
        "id": "tDavF0QXoGpT"
      },
      "execution_count": 77,
      "outputs": []
    },
    {
      "cell_type": "code",
      "source": [
        "#create the model\n",
        "model=classifier(bert)\n",
        "#push the modle to GPU,if available\n",
        "model=model.to(device)"
      ],
      "metadata": {
        "id": "n6nEfFjirQw1"
      },
      "execution_count": 78,
      "outputs": []
    },
    {
      "cell_type": "code",
      "source": [
        "model"
      ],
      "metadata": {
        "colab": {
          "base_uri": "https://localhost:8080/"
        },
        "id": "WFX16jrVrfhY",
        "outputId": "fe0d155a-7a6e-428f-92cc-3ddde086001b"
      },
      "execution_count": 72,
      "outputs": [
        {
          "output_type": "execute_result",
          "data": {
            "text/plain": [
              "classifier(\n",
              "  (bert): BertModel(\n",
              "    (embeddings): BertEmbeddings(\n",
              "      (word_embeddings): Embedding(30522, 768, padding_idx=0)\n",
              "      (position_embeddings): Embedding(512, 768)\n",
              "      (token_type_embeddings): Embedding(2, 768)\n",
              "      (LayerNorm): LayerNorm((768,), eps=1e-12, elementwise_affine=True)\n",
              "      (dropout): Dropout(p=0.1, inplace=False)\n",
              "    )\n",
              "    (encoder): BertEncoder(\n",
              "      (layer): ModuleList(\n",
              "        (0-11): 12 x BertLayer(\n",
              "          (attention): BertAttention(\n",
              "            (self): BertSdpaSelfAttention(\n",
              "              (query): Linear(in_features=768, out_features=768, bias=True)\n",
              "              (key): Linear(in_features=768, out_features=768, bias=True)\n",
              "              (value): Linear(in_features=768, out_features=768, bias=True)\n",
              "              (dropout): Dropout(p=0.1, inplace=False)\n",
              "            )\n",
              "            (output): BertSelfOutput(\n",
              "              (dense): Linear(in_features=768, out_features=768, bias=True)\n",
              "              (LayerNorm): LayerNorm((768,), eps=1e-12, elementwise_affine=True)\n",
              "              (dropout): Dropout(p=0.1, inplace=False)\n",
              "            )\n",
              "          )\n",
              "          (intermediate): BertIntermediate(\n",
              "            (dense): Linear(in_features=768, out_features=3072, bias=True)\n",
              "            (intermediate_act_fn): GELUActivation()\n",
              "          )\n",
              "          (output): BertOutput(\n",
              "            (dense): Linear(in_features=3072, out_features=768, bias=True)\n",
              "            (LayerNorm): LayerNorm((768,), eps=1e-12, elementwise_affine=True)\n",
              "            (dropout): Dropout(p=0.1, inplace=False)\n",
              "          )\n",
              "        )\n",
              "      )\n",
              "    )\n",
              "    (pooler): BertPooler(\n",
              "      (dense): Linear(in_features=768, out_features=768, bias=True)\n",
              "      (activation): Tanh()\n",
              "    )\n",
              "  )\n",
              "  (fc1): Linear(in_features=768, out_features=512, bias=True)\n",
              "  (fc2): Linear(in_features=512, out_features=3, bias=True)\n",
              "  (dropout): Dropout(p=0.1, inplace=False)\n",
              "  (relu): ReLU()\n",
              "  (softmax): LogSoftmax(dim=1)\n",
              ")"
            ]
          },
          "metadata": {},
          "execution_count": 72
        }
      ]
    },
    {
      "cell_type": "code",
      "source": [
        "#push the tensors to GPU\n",
        "sent_id=sent_id.to(device)\n",
        "mask=mask.to(device)\n",
        "target=target.to(device)\n",
        "\n",
        "#pass i/ps to the model\n",
        "output=model(sent_id,mask)"
      ],
      "metadata": {
        "id": "wDYVl_gZsuml"
      },
      "execution_count": 79,
      "outputs": []
    },
    {
      "cell_type": "code",
      "source": [
        "#understand outputs\n",
        "print(outputs)"
      ],
      "metadata": {
        "colab": {
          "base_uri": "https://localhost:8080/"
        },
        "id": "nK950D3cuMN3",
        "outputId": "f8789b51-5bb5-48ed-e216-f868b57951ca"
      },
      "execution_count": 80,
      "outputs": [
        {
          "output_type": "stream",
          "name": "stdout",
          "text": [
            "BaseModelOutputWithPoolingAndCrossAttentions(last_hidden_state=tensor([[[-0.1204, -0.0015, -0.1994,  ..., -0.2054,  0.3803,  0.3111],\n",
            "         [-0.3494, -0.7574, -0.3358,  ...,  0.0582,  1.4356,  0.5522],\n",
            "         [-0.0349, -0.5173, -0.8148,  ..., -0.6723,  0.7762, -0.6548],\n",
            "         ...,\n",
            "         [ 0.5764, -0.0970, -0.1267,  ...,  0.2058, -0.2581, -0.4173],\n",
            "         [-0.1569, -0.0993,  0.2161,  ...,  0.1289,  0.3344,  0.1612],\n",
            "         [-0.1652, -0.4817,  0.2695,  ...,  0.3359,  0.4633, -0.0662]]],\n",
            "       grad_fn=<NativeLayerNormBackward0>), pooler_output=tensor([[-8.1672e-01, -2.9591e-01, -4.2227e-02,  6.6374e-01,  3.7756e-01,\n",
            "          3.7388e-02,  8.3700e-01,  1.5344e-01, -5.3711e-02, -9.9994e-01,\n",
            "          8.1940e-03,  4.4194e-01,  9.7769e-01, -1.1012e-02,  9.2739e-01,\n",
            "         -5.5441e-01,  2.1399e-01, -4.9636e-01,  3.0736e-01, -5.8997e-01,\n",
            "          6.3555e-01,  9.9441e-01,  5.6447e-01,  2.4504e-01,  3.1051e-01,\n",
            "          6.6572e-01, -6.0505e-01,  9.3100e-01,  9.3366e-01,  6.8934e-01,\n",
            "         -5.8478e-01,  7.6967e-02, -9.8077e-01, -1.3987e-01, -2.9001e-01,\n",
            "         -9.8587e-01,  2.2287e-01, -7.2018e-01,  6.0225e-02,  1.0423e-01,\n",
            "         -8.6512e-01,  2.1975e-01,  9.9961e-01, -3.2371e-01, -1.5275e-02,\n",
            "         -2.5988e-01, -9.9997e-01,  2.4922e-01, -8.7932e-01, -2.1958e-02,\n",
            "          1.1871e-01, -1.3824e-01,  3.4520e-02,  3.3729e-01,  2.8527e-01,\n",
            "          1.5988e-01, -1.8688e-01,  1.5842e-02, -1.3244e-01, -4.6893e-01,\n",
            "         -5.7838e-01,  1.7639e-01, -2.3637e-01, -9.1825e-01, -9.4732e-02,\n",
            "         -1.2783e-01, -3.8693e-02, -1.5997e-01,  4.4957e-02, -1.6135e-01,\n",
            "          8.3082e-01,  1.6431e-01,  3.3744e-01, -8.0597e-01, -1.0589e-01,\n",
            "          1.5526e-01, -4.7010e-01,  1.0000e+00, -1.7269e-01, -9.7487e-01,\n",
            "          1.8465e-01, -2.4434e-02,  3.1905e-01,  5.2022e-01, -1.7933e-01,\n",
            "         -1.0000e+00,  1.8243e-01, -1.8625e-02, -9.8676e-01,  1.4371e-01,\n",
            "          4.5712e-01, -5.2792e-02, -6.0708e-02,  3.8523e-01, -3.5951e-01,\n",
            "         -2.2771e-01, -1.7970e-01, -9.2253e-02, -1.3992e-01, -6.8340e-02,\n",
            "          3.5586e-02, -1.1004e-01, -4.9171e-02, -3.1903e-01,  8.9084e-02,\n",
            "         -3.3048e-01, -4.0233e-01,  3.1525e-01, -1.0878e-01,  6.1606e-01,\n",
            "          2.5175e-01, -2.8115e-01,  2.8939e-01, -9.3861e-01,  5.6416e-01,\n",
            "         -2.3730e-01, -9.7138e-01, -4.1358e-01, -9.8386e-01,  7.3737e-01,\n",
            "          1.7643e-02, -5.3249e-02,  9.5745e-01,  2.9505e-01,  1.9030e-01,\n",
            "         -7.4483e-03, -6.9672e-02, -1.0000e+00, -2.4482e-01, -2.0086e-01,\n",
            "          4.5704e-02, -1.8381e-02, -9.7302e-01, -9.3374e-01,  4.4767e-01,\n",
            "          9.3917e-01,  2.0656e-02,  9.9885e-01, -1.3907e-01,  9.2215e-01,\n",
            "          1.2642e-01, -2.3791e-01, -5.5952e-05, -3.2022e-01,  3.7140e-01,\n",
            "          1.7332e-01, -5.7867e-01,  9.8350e-02, -1.5781e-01, -1.7096e-01,\n",
            "         -1.8711e-01, -1.7594e-01,  4.5330e-03, -9.4184e-01, -2.6081e-01,\n",
            "          9.4082e-01,  2.4527e-02, -1.2801e-01,  5.3459e-01, -6.9623e-02,\n",
            "         -2.6465e-01,  7.7208e-01,  3.8163e-01,  2.7840e-01, -1.2475e-01,\n",
            "          2.3117e-01, -1.8838e-02,  3.8460e-01, -7.5501e-01,  2.3559e-01,\n",
            "          2.5125e-01, -2.3309e-01, -8.2869e-02, -9.7358e-01, -2.5651e-01,\n",
            "          5.3986e-01,  9.8173e-01,  7.3304e-01,  1.0433e-01,  2.1442e-01,\n",
            "         -1.5416e-01,  2.2412e-01, -9.1789e-01,  9.6989e-01, -2.9870e-02,\n",
            "          1.5387e-01, -1.2711e-01,  1.1859e-02, -8.4411e-01, -1.8527e-01,\n",
            "          7.6741e-01, -1.5975e-01, -8.3888e-01,  1.9321e-01, -3.3814e-01,\n",
            "         -3.4711e-01, -3.8558e-01,  4.7682e-01, -2.2588e-01, -3.8881e-01,\n",
            "         -2.4393e-03,  9.3515e-01,  9.5849e-01,  7.3216e-01, -5.2640e-01,\n",
            "          5.2891e-01, -8.8338e-01, -2.4250e-01,  6.9927e-02,  2.1007e-01,\n",
            "          5.6588e-02,  9.8842e-01, -1.9221e-01,  3.7380e-02, -9.0633e-01,\n",
            "         -9.7991e-01, -6.7466e-02, -8.6257e-01,  5.6030e-02, -6.3416e-01,\n",
            "          3.7854e-01, -8.1951e-02,  2.6951e-02,  3.1129e-01, -9.7577e-01,\n",
            "         -7.2313e-01,  3.1271e-01, -1.4896e-01,  3.7545e-01, -7.5138e-02,\n",
            "          4.5625e-01,  3.1768e-01, -5.4772e-01,  6.8775e-01,  8.7174e-01,\n",
            "         -2.5034e-01, -7.1849e-01,  7.6705e-01, -1.7109e-01,  7.7905e-01,\n",
            "         -5.7560e-01,  9.8676e-01,  1.7955e-01,  2.3359e-01, -9.3136e-01,\n",
            "          1.3064e-01, -9.0651e-01,  1.7563e-03, -3.5403e-02, -4.3712e-01,\n",
            "         -2.9253e-02,  3.7739e-01,  2.6040e-01,  6.8465e-01, -3.6186e-01,\n",
            "          9.9251e-01, -7.5127e-01, -9.2518e-01, -1.4773e-01,  4.6277e-02,\n",
            "         -9.8098e-01,  3.0559e-01,  2.5601e-01,  7.7624e-03, -3.2134e-01,\n",
            "         -4.3007e-01, -9.4845e-01,  8.5366e-01, -3.5619e-02,  9.8084e-01,\n",
            "         -2.6828e-01, -8.7063e-01, -4.3344e-01, -8.8265e-01, -2.6376e-01,\n",
            "         -7.3077e-02,  4.8240e-01, -1.8753e-01, -9.5019e-01,  3.9298e-01,\n",
            "          4.5806e-01,  3.6380e-01,  1.5762e-01,  9.9204e-01,  9.9992e-01,\n",
            "          9.6305e-01,  8.8089e-01,  8.6710e-01, -9.7749e-01, -5.3512e-01,\n",
            "          9.9998e-01, -7.6586e-01, -1.0000e+00, -9.2038e-01, -4.9844e-01,\n",
            "          2.0863e-01, -1.0000e+00,  3.4355e-02,  1.2015e-01, -9.0110e-01,\n",
            "         -1.7612e-01,  9.6401e-01,  9.8288e-01, -1.0000e+00,  8.9135e-01,\n",
            "          9.3515e-01, -4.8198e-01,  4.8925e-01, -2.5461e-01,  9.6124e-01,\n",
            "          3.8246e-01,  4.4670e-01, -1.8061e-01,  3.0552e-01, -4.5728e-01,\n",
            "         -7.5584e-01,  1.8922e-01, -4.4276e-02,  9.1548e-01,  7.7535e-02,\n",
            "         -5.8694e-01, -9.1601e-01,  2.6953e-03,  1.8496e-01, -3.3516e-01,\n",
            "         -9.4695e-01, -1.2354e-01, -3.5100e-01,  6.5403e-01,  1.8683e-02,\n",
            "          1.1285e-01, -7.4661e-01,  3.4324e-02, -5.5566e-01,  2.9050e-01,\n",
            "          4.9506e-01, -9.1763e-01, -5.6693e-01,  9.4813e-02, -4.4920e-01,\n",
            "          9.7666e-02, -9.3442e-01,  9.6198e-01, -3.4575e-01,  5.7770e-02,\n",
            "          1.0000e+00, -1.8403e-01, -8.7424e-01,  5.4956e-01,  1.2166e-01,\n",
            "         -2.7829e-01,  1.0000e+00,  4.0925e-01, -9.7413e-01, -3.7373e-01,\n",
            "          3.7023e-01, -4.2007e-01, -4.0963e-01,  9.9882e-01, -7.5819e-02,\n",
            "          1.6361e-01,  3.3185e-01,  9.6296e-01, -9.8088e-01,  7.3769e-01,\n",
            "         -8.5532e-01, -9.6071e-01,  9.5891e-01,  9.1589e-01,  6.3862e-02,\n",
            "         -7.0507e-01, -3.5241e-02, -1.0503e-01,  1.5055e-01, -9.4560e-01,\n",
            "          4.9836e-01,  3.5518e-01, -5.8962e-02,  8.7630e-01, -7.1933e-01,\n",
            "         -3.8800e-01,  3.4068e-01,  7.2242e-02,  3.6514e-01,  2.3916e-01,\n",
            "          3.7697e-01, -2.1452e-01,  1.6411e-02, -2.0724e-01, -1.4245e-01,\n",
            "         -9.6513e-01,  8.0849e-02,  1.0000e+00,  5.5223e-02, -3.1046e-01,\n",
            "         -5.8998e-02, -4.0517e-03, -3.0969e-01,  3.1681e-01,  4.0889e-01,\n",
            "         -1.8172e-01, -8.7849e-01,  9.3053e-02, -9.2933e-01, -9.8130e-01,\n",
            "          6.1657e-01,  1.2505e-01, -1.3841e-01,  9.9936e-01,  1.6479e-01,\n",
            "          1.4329e-01, -1.4579e-03,  5.2392e-01, -1.0891e-01,  4.9263e-01,\n",
            "         -8.2995e-02,  9.6165e-01, -1.6360e-01,  3.9927e-01,  7.8148e-01,\n",
            "         -3.1731e-02, -1.4079e-01, -6.5865e-01,  4.6355e-02, -8.8274e-01,\n",
            "          2.4132e-01, -9.4727e-01,  9.4744e-01, -1.3753e-01,  2.3339e-01,\n",
            "          1.4177e-01, -4.9159e-03,  1.0000e+00, -1.9537e-01,  4.8740e-01,\n",
            "         -3.4974e-01,  7.9070e-01, -9.5366e-01, -6.7653e-01, -2.4689e-01,\n",
            "          4.3951e-02,  1.8267e-01, -1.2724e-01,  1.6051e-01, -9.6510e-01,\n",
            "         -8.4899e-02,  5.9596e-02, -9.7964e-01, -9.8489e-01,  3.8552e-01,\n",
            "          6.7482e-01, -2.9332e-02, -6.5624e-01, -5.0871e-01, -5.6626e-01,\n",
            "          2.7899e-01, -1.8697e-01, -9.2306e-01,  4.7465e-01, -2.1143e-01,\n",
            "          3.4216e-01, -1.5209e-01,  4.0466e-01, -9.8583e-02,  7.6144e-01,\n",
            "          5.3778e-02,  1.7987e-02, -5.0804e-02, -7.1060e-01,  6.4374e-01,\n",
            "         -7.9275e-01, -4.3685e-01, -2.6805e-03,  1.0000e+00, -3.6600e-01,\n",
            "          1.1185e-01,  5.0008e-01,  6.1167e-01,  3.5741e-02,  1.9993e-02,\n",
            "          3.7300e-01,  7.0743e-02,  7.8189e-02,  2.1201e-01, -6.2407e-01,\n",
            "         -2.0030e-01,  4.0478e-01, -1.7598e-01,  2.1177e-02,  7.4981e-01,\n",
            "          5.4095e-01,  3.7865e-02,  1.0087e-01, -3.7905e-02,  9.9794e-01,\n",
            "         -4.6157e-02, -6.1944e-02, -4.1855e-01,  1.2228e-01, -2.2857e-01,\n",
            "         -3.1963e-01,  1.0000e+00,  2.5152e-01, -8.2944e-02, -9.8206e-01,\n",
            "         -8.7995e-02, -9.0002e-01,  9.9978e-01,  7.3471e-01, -8.8011e-01,\n",
            "          4.3053e-01,  2.4872e-01, -5.5690e-02,  6.6979e-01, -1.2702e-01,\n",
            "         -1.7259e-01, -3.8810e-02,  3.0335e-02,  9.5709e-01, -3.6316e-01,\n",
            "         -9.4883e-01, -5.1900e-01,  3.9995e-01, -9.5695e-01,  9.8660e-01,\n",
            "         -4.7238e-01, -8.2511e-02, -2.6543e-01,  2.3809e-02,  5.7507e-01,\n",
            "         -9.2114e-02, -9.7453e-01, -8.0271e-02,  6.4767e-02,  9.5674e-01,\n",
            "          5.7987e-02, -3.7225e-01, -8.6624e-01, -1.0864e-01,  6.7460e-03,\n",
            "          5.8844e-02, -9.5022e-01,  9.6143e-01, -9.7795e-01,  3.8548e-01,\n",
            "          1.0000e+00,  1.6488e-01, -5.9035e-01,  1.0970e-01, -2.5363e-01,\n",
            "          2.2660e-01,  2.5630e-01,  4.0544e-01, -9.4984e-01, -2.4903e-01,\n",
            "         -2.8949e-02,  2.4532e-01, -6.1314e-02,  3.0720e-01,  6.0803e-01,\n",
            "          7.5172e-02, -3.5992e-01, -4.7600e-01,  1.0782e-02,  2.8760e-01,\n",
            "          6.5268e-01, -1.7470e-01, -5.4020e-02, -3.5069e-02,  2.0300e-02,\n",
            "         -9.1918e-01, -1.9753e-01, -1.3781e-01, -9.9783e-01,  6.3000e-01,\n",
            "         -1.0000e+00, -1.2623e-01, -3.4956e-01, -5.1280e-02,  7.7627e-01,\n",
            "          5.0216e-01,  1.2675e-01, -6.8922e-01,  1.2055e-01,  7.9248e-01,\n",
            "          7.4406e-01, -9.2853e-02,  2.0729e-01, -6.7122e-01,  1.5144e-01,\n",
            "         -6.9726e-02,  1.5395e-01,  4.0909e-02,  6.5670e-01, -8.6925e-02,\n",
            "          1.0000e+00, -3.4274e-02, -3.6351e-01, -9.6957e-01,  1.3799e-01,\n",
            "         -1.1849e-01,  9.9998e-01, -8.4479e-01, -9.1930e-01,  1.9729e-01,\n",
            "         -4.1149e-01, -7.4555e-01,  2.2171e-01, -1.1756e-01, -5.5153e-01,\n",
            "         -1.1685e-01,  9.5255e-01,  8.1036e-01, -4.1196e-01,  3.4809e-01,\n",
            "         -9.3699e-02, -4.2193e-01, -5.8136e-02,  2.3148e-01,  9.8053e-01,\n",
            "          3.3141e-01,  8.5568e-01,  3.1615e-02,  1.2486e-01,  9.4338e-01,\n",
            "          4.0167e-02,  4.6106e-01, -4.0334e-02,  1.0000e+00,  1.6349e-01,\n",
            "         -8.8313e-01,  3.9976e-01, -9.7869e-01, -4.7682e-02, -9.2283e-01,\n",
            "          2.0671e-01, -4.3840e-02,  8.6503e-01, -1.9001e-01,  9.4271e-01,\n",
            "          8.6055e-02, -5.5478e-02,  1.5948e-01,  4.1355e-01,  2.1383e-01,\n",
            "         -9.4005e-01, -9.7986e-01, -9.8378e-01,  3.4420e-01, -3.4994e-01,\n",
            "          7.5797e-02,  2.3236e-01,  1.5799e-01,  3.0892e-01,  3.1018e-01,\n",
            "         -1.0000e+00,  9.3031e-01,  3.8353e-01,  1.7112e-01,  9.4191e-01,\n",
            "          3.3581e-01,  1.9305e-01,  2.0056e-01, -9.7923e-01, -9.6872e-01,\n",
            "         -3.3082e-01, -1.8699e-01,  6.9938e-01,  5.2561e-01,  7.9511e-01,\n",
            "          3.0161e-01, -4.7836e-01, -4.4016e-01,  1.4408e-01, -6.8345e-01,\n",
            "         -9.8760e-01,  3.2519e-01,  1.6356e-01, -9.3148e-01,  9.5057e-01,\n",
            "         -4.0644e-01, -5.0937e-02,  5.7518e-01, -2.5079e-01,  8.9472e-01,\n",
            "          7.9747e-01,  3.3165e-01,  1.1037e-01,  3.3703e-01,  8.9223e-01,\n",
            "          9.2729e-01,  9.8114e-01, -1.1539e-02,  7.7365e-01,  1.0654e-01,\n",
            "          3.6882e-01,  3.0723e-01, -9.4499e-01,  4.5055e-02,  1.3815e-01,\n",
            "         -5.7473e-03,  1.0335e-01, -1.2453e-01, -9.3923e-01,  2.9414e-01,\n",
            "         -1.2102e-01,  3.8987e-01, -3.4368e-01,  2.2295e-01, -2.9083e-01,\n",
            "         -3.3886e-02, -6.7054e-01, -3.9132e-01,  5.0232e-01,  1.9217e-01,\n",
            "          8.8848e-01,  5.6704e-01,  1.5866e-02, -4.4231e-01, -7.4561e-02,\n",
            "          2.5615e-02, -8.9645e-01,  8.5785e-01,  1.0627e-01,  1.6131e-01,\n",
            "         -1.2714e-02, -9.0726e-02,  7.7790e-01, -2.9900e-01, -3.0774e-01,\n",
            "         -2.5228e-01, -6.3207e-01,  8.8887e-01, -3.1037e-01, -4.4576e-01,\n",
            "         -2.5148e-01,  6.2441e-01,  2.7875e-01,  9.9491e-01, -1.8455e-05,\n",
            "         -9.3244e-02, -1.9606e-01, -2.0674e-01,  2.6961e-01, -4.2960e-02,\n",
            "         -1.0000e+00,  2.8995e-01, -7.6116e-02, -1.1032e-01,  1.2452e-02,\n",
            "          4.3423e-02, -1.3035e-01, -9.5326e-01, -7.3549e-02, -8.9347e-02,\n",
            "         -9.2999e-02, -4.1277e-01, -2.7336e-01,  4.1688e-01,  3.7754e-01,\n",
            "          4.5043e-01,  8.7973e-01,  2.9218e-01,  5.9308e-01,  4.7341e-01,\n",
            "          5.2172e-02, -5.8779e-01,  8.9044e-01]], grad_fn=<TanhBackward0>), hidden_states=None, past_key_values=None, attentions=None, cross_attentions=None)\n"
          ]
        }
      ]
    },
    {
      "cell_type": "code",
      "source": [
        "#no.of trainable parameters\n",
        "def count_parameters(model): #numel counts no.of units in tensor\n",
        "  return sum(p.numel() for p in model.parameters() if p.requires_grad)\n",
        "print(f'The model has {count_parameters(model):,} trainable parameters')"
      ],
      "metadata": {
        "colab": {
          "base_uri": "https://localhost:8080/"
        },
        "id": "UFWDTIKA996V",
        "outputId": "a7199098-23e1-4b9f-d0a7-086e97a5a343"
      },
      "execution_count": 81,
      "outputs": [
        {
          "output_type": "stream",
          "name": "stdout",
          "text": [
            "The model has 395,267 trainable parameters\n"
          ]
        }
      ]
    },
    {
      "cell_type": "markdown",
      "source": [
        "# 4.3 Define Optimizer and Loss Function"
      ],
      "metadata": {
        "id": "8M2dJxya-PKw"
      }
    },
    {
      "cell_type": "code",
      "source": [
        "#Adam optimizer\n",
        "optimizer=torch.optim.Adam(model.parameters(),lr=0.01)\n"
      ],
      "metadata": {
        "id": "DbRAuqRM-Th6"
      },
      "execution_count": 82,
      "outputs": []
    },
    {
      "cell_type": "code",
      "source": [
        "#understand the class distribution\n",
        "keys=['0','1','2']\n",
        "\n",
        "#set figure size\n",
        "plt.figure(figsize=(5,5))\n",
        "plt.bar(keys,class_counts)\n",
        "\n",
        "plt.title('class Distribution')\n"
      ],
      "metadata": {
        "colab": {
          "base_uri": "https://localhost:8080/",
          "height": 486
        },
        "id": "-lOfMnI6-dht",
        "outputId": "67bd44c2-13c9-4cd6-96ed-b970f3e10e6e"
      },
      "execution_count": 85,
      "outputs": [
        {
          "output_type": "execute_result",
          "data": {
            "text/plain": [
              "Text(0.5, 1.0, 'class Distribution')"
            ]
          },
          "metadata": {},
          "execution_count": 85
        },
        {
          "output_type": "display_data",
          "data": {
            "text/plain": [
              "<Figure size 500x500 with 1 Axes>"
            ],
            "image/png": "[encoded data removed]"
          },
          "metadata": {}
        }
      ]
    },
    {
      "cell_type": "code",
      "source": [
        "import numpy as np\n",
        "#libraray for computing class weights\n",
        "from sklearn.utils.class_weight import compute_class_weight\n",
        "class_weights=compute_class_weight(class_weight='balanced',classes=np.unique(labels),y=labels)\n",
        "print(\"class weights:\" ,class_weights)\n",
        "\n"
      ],
      "metadata": {
        "colab": {
          "base_uri": "https://localhost:8080/"
        },
        "id": "V58Em7q-_QaL",
        "outputId": "76b74d34-2785-42f8-9593-ac6d2c92edbd"
      },
      "execution_count": 87,
      "outputs": [
        {
          "output_type": "stream",
          "name": "stdout",
          "text": [
            "class weights: [0.53170625 1.57470152 2.06517139]\n"
          ]
        }
      ]
    },
    {
      "cell_type": "code",
      "source": [
        "#converting a list of class weights to a tensor\n",
        "weights=torch.tensor(class_weights,dtype=torch.float)\n",
        "#transfer to GPU\n",
        "weights=weights.to(device)\n",
        "\n",
        "#define the loss fxn\n",
        "cross_entropy=nn.NLLLoss(weight=weights) #will handle class imbalance problem to some extent"
      ],
      "metadata": {
        "id": "qNU1mDKBARND"
      },
      "execution_count": 88,
      "outputs": []
    },
    {
      "cell_type": "code",
      "source": [
        "#it is like calculating time req by one epoch,u can skip if u want\n",
        "import time\n",
        "import datetime\n",
        "\n",
        "#compute time in hh:mm:ss\n",
        "def format_time(elapsed):\n",
        "  #round to the nearest second\n",
        "  elapsed_rounded=int(round((elapsed)))\n",
        "\n",
        "  #format as hh:mm:ss\n",
        "  return str(datetime.timedelta(seconds=elapsed_rounded))"
      ],
      "metadata": {
        "id": "TFn7pFXIAu9y"
      },
      "execution_count": 97,
      "outputs": []
    },
    {
      "cell_type": "markdown",
      "source": [
        "# 4.4 Model training and Evaluation"
      ],
      "metadata": {
        "id": "hMA8bCbtBIO6"
      }
    },
    {
      "cell_type": "markdown",
      "source": [
        "The DL model is trained in teh form of epochs where in each epoch consists of several batches\n",
        "\n",
        "During Training,for each batch we need to\n",
        "1. perform forwad pass\n",
        "2. compute loss\n",
        "3. Backpropagate Loss\n",
        "4. Update weights\n",
        "\n",
        "where as during evaluation,for each batch we need to\n",
        "1. perform forward pass\n",
        "2. compute loss"
      ],
      "metadata": {
        "id": "9O1LLVFeBaoh"
      }
    },
    {
      "cell_type": "markdown",
      "source": [
        "1. Training: Epoch-> Batch ->Forward Pass ->compute loss ->Backpropagate loss ->update weights\n",
        "2. Evaluation: Epoch -> Batch ->Forward Pass ->compute loss\n"
      ],
      "metadata": {
        "id": "iRjwJVxcDFsj"
      }
    },
    {
      "cell_type": "code",
      "source": [
        "# Training: Epoch-> Batch ->Forward Pass ->compute loss ->Backpropagate loss ->update weights\n",
        "# Evaluation: Epoch -> Batch ->Forward Pass ->compute loss\n"
      ],
      "metadata": {
        "id": "N6hl-EdPCnno"
      },
      "execution_count": null,
      "outputs": []
    },
    {
      "cell_type": "markdown",
      "source": [
        "Hence,for each epoch,we have trainig and validation phase.After each batch we need to:\n",
        "Hence, for each epoch, we have a training phase and a validation phase. After each batch we need to:\n",
        "\n",
        "Training phase\n",
        "\n",
        "1. Load data onto the GPU for acceleration\n",
        "\n",
        "2. Unpack our data inputs and labels\n",
        "\n",
        "3. Clear out the gradients calculated in the previous pass.\n",
        "\n",
        "4. Forward pass (feed input data through the network)\n",
        "\n",
        "5. Backward pass (backpropagation)\n",
        "\n",
        "6. Clip the norm of gradients to 1"
      ],
      "metadata": {
        "id": "GxmvKFSADNbs"
      }
    },
    {
      "cell_type": "code",
      "source": [
        "#define a function for training the model\n",
        "def train():\n",
        "    print(\"\\nTraining...\")\n",
        "\n",
        "    # Set the model in training phase - Dropout layers are activated\n",
        "    model.train()\n",
        "\n",
        "    # Record the current time\n",
        "    t0 = time.time()\n",
        "    total_loss, total_accuracy = 0, 0\n",
        "\n",
        "    # Create an empty list to save the model predictions\n",
        "    total_preds = []\n",
        "\n",
        "    # For each batch of training data\n",
        "    # We will use the train data loader to fetch the batches that will be passed to the model.\n",
        "    # The model output will be used to compute the loss, which will be added back to the total loss.\n",
        "    for step, batch in enumerate(train_dataloader):\n",
        "        # Progress update after every 40 batches\n",
        "        if step % 40 == 0 and not step == 0:\n",
        "            elapsed = format_time(time.time() - t0)\n",
        "\n",
        "            # Report progress\n",
        "            print(\"Batch {:>5,} of {:>5,}. Elapsed: {:}\".format(step, len(train_dataloader), elapsed))\n",
        "\n",
        "        # Push batch to GPU\n",
        "        batch = tuple(t.to(device) for t in batch)\n",
        "\n",
        "        # Unpack the batch into separate variables\n",
        "        # Batch contains 3 PyTorch tensors:\n",
        "        # [0]: input ids\n",
        "        # [1]: attention masks\n",
        "        # [2]: labels\n",
        "        sent_id, mask, labels = batch\n",
        "\n",
        "        # Always clear any previously calculated gradients before performing a backward pass.\n",
        "        # PyTorch doesn't do this automatically.\n",
        "        model.zero_grad()\n",
        "\n",
        "        # Perform a forward pass to feed input data through the network\n",
        "        preds = model(sent_id, mask)\n",
        "\n",
        "        # Compute the loss between actual and predicted values\n",
        "        loss = cross_entropy(preds, labels)\n",
        "\n",
        "        # Compute the accuracy\n",
        "        total_loss += loss.item()\n",
        "\n",
        "        # The model predictions are stored in GPU, so push them to CPU\n",
        "        pred = preds.detach().cpu().numpy()\n",
        "\n",
        "        # Append the model predictions\n",
        "        total_preds.append(pred)\n",
        "\n",
        "    # Compute the validation loss for each epoch\n",
        "    avg_loss = total_loss / len(train_dataloader)\n",
        "\n",
        "    # The predictions are in the form of (num_batches, batch_size, num_classes)\n",
        "    # So, reshaping the predictions in the form of (num_samples, num_classes)\n",
        "    total_preds = np.concatenate(total_preds, axis=0)\n",
        "\n",
        "    # Returns the average loss and model predictions\n",
        "    return avg_loss, total_preds\n"
      ],
      "metadata": {
        "id": "ai1330POCrzG"
      },
      "execution_count": 96,
      "outputs": []
    },
    {
      "cell_type": "markdown",
      "source": [
        "Evaluation phase\n",
        "1. Load data onto the GPU for acceleration\n",
        "2.Unpack our data inputs and labels\n",
        "3.Forward pass(feed i/p data through the newtwork)\n",
        "4.Compute loss on our valiudation data\n",
        "5.Track variables for monitoring progress"
      ],
      "metadata": {
        "id": "TTUseZqTQeHf"
      }
    },
    {
      "cell_type": "code",
      "source": [
        "#to evaluate the model\n",
        "def evaluate():\n",
        "    print(\"\\Evaluating...\")\n",
        "\n",
        "    # Set the model in training phase - Dropout layers are activated\n",
        "    model.eval()\n",
        "\n",
        "    # Record the current time\n",
        "    t0 = time.time()\n",
        "    total_loss, total_accuracy = 0, 0\n",
        "\n",
        "    # Create an empty list to save the model predictions\n",
        "    total_preds = []\n",
        "\n",
        "    # For each batch of training data\n",
        "    # We will use the train data loader to fetch the batches that will be passed to the model.\n",
        "    # The model output will be used to compute the loss, which will be added back to the total loss.\n",
        "    for step, batch in enumerate(validation_dataloader):\n",
        "        # Progress update after every 40 batches\n",
        "        if step % 40 == 0 and not step == 0:\n",
        "            elapsed = format_time(time.time() - t0)\n",
        "\n",
        "            # Report progress\n",
        "            print(\"Batch {:>5,} of {:>5,}. Elapsed: {:}\".format(step, len(train_dataloader), elapsed))\n",
        "\n",
        "        # Push batch to GPU\n",
        "        batch = tuple(t.to(device) for t in batch)\n",
        "\n",
        "        # Unpack the batch into separate variables\n",
        "        # Batch contains 3 PyTorch tensors:\n",
        "        # [0]: input ids\n",
        "        # [1]: attention masks\n",
        "        # [2]: labels\n",
        "        sent_id, mask, labels = batch\n",
        "\n",
        "        # Always clear any previously calculated gradients before performing a backward pass.\n",
        "        # PyTorch doesn't do this automatically.\n",
        "        model.zero_grad()\n",
        "\n",
        "        # Perform a forward pass to feed input data through the network\n",
        "        preds = model(sent_id, mask)\n",
        "\n",
        "        # Compute the loss between actual and predicted values\n",
        "        loss = cross_entropy(preds, labels)\n",
        "\n",
        "        # Compute the accuracy\n",
        "        total_loss += loss.item()\n",
        "\n",
        "        # The model predictions are stored in GPU, so push them to CPU\n",
        "        pred = preds.detach().cpu().numpy()\n",
        "\n",
        "        # Append the model predictions\n",
        "        total_preds.append(pred)\n",
        "\n",
        "    # Compute the validation loss for each epoch\n",
        "    avg_loss = total_loss / len(validation_dataloader)\n",
        "\n",
        "    # The predictions are in the form of (num_batches, batch_size, num_classes)\n",
        "    # So, reshaping the predictions in the form of (num_samples, num_classes)\n",
        "    total_preds = np.concatenate(total_preds, axis=0)\n",
        "\n",
        "    # Returns the average loss and model predictions\n",
        "    return avg_loss, total_preds\n"
      ],
      "metadata": {
        "id": "HLHeaIibJoG2"
      },
      "execution_count": 100,
      "outputs": []
    },
    {
      "cell_type": "markdown",
      "source": [
        "# 4.5 train the model"
      ],
      "metadata": {
        "id": "AHVIADEFJrMC"
      }
    },
    {
      "cell_type": "code",
      "source": [
        "#assign the initial value to infinite\n",
        "best_valid_loss=float('inf')\n",
        "\n",
        "#create an empty list to store training and validation loss of each epoch\n",
        "train_loss_list=[]\n",
        "valid_loss_list=[]\n",
        "epochs=5\n",
        "#for each epoch\n",
        "for epoch in range(epochs):\n",
        "  print('\\n..... epoch {:} / {:} ......' .format(epoch+1,epochs))\n",
        "  #train model\n",
        "  train_loss,_=train()\n",
        "  #evaluate model\n",
        "  valid_loss,_=evaluate()\n",
        "  #save best model\n",
        "  if valid_loss<best_valid_loss:\n",
        "    best_valid_loss=valid_loss\n",
        "    torch.save(model.state_dict(),'saved_weights.pt')\n",
        "  #save the loss\n",
        "  train_loss_list.append(train_loss)\n",
        "  valid_loss_list.append(valid_loss)\n",
        "  print(f'\\nTraining Loss: {train_loss:.3f}')\n",
        "  print(f'Validation Loss: {valid_loss:.3f}')\n",
        "print(\"\")\n",
        "print(\"Training complete\")\n"
      ],
      "metadata": {
        "colab": {
          "base_uri": "https://localhost:8080/"
        },
        "id": "nords5RVCmIJ",
        "outputId": "bedb77ef-f98b-449a-b624-724b455b3d5d"
      },
      "execution_count": 102,
      "outputs": [
        {
          "output_type": "stream",
          "name": "stdout",
          "text": [
            "\n",
            "..... epoch 1 / 5 ......\n",
            "\n",
            "Training...\n",
            "Batch    40 of   412. Elapsed: 0:00:02\n",
            "Batch    80 of   412. Elapsed: 0:00:04\n",
            "Batch   120 of   412. Elapsed: 0:00:06\n",
            "Batch   160 of   412. Elapsed: 0:00:08\n",
            "Batch   200 of   412. Elapsed: 0:00:10\n",
            "Batch   240 of   412. Elapsed: 0:00:12\n",
            "Batch   280 of   412. Elapsed: 0:00:14\n",
            "Batch   320 of   412. Elapsed: 0:00:16\n",
            "Batch   360 of   412. Elapsed: 0:00:19\n",
            "Batch   400 of   412. Elapsed: 0:00:21\n",
            "\\Evaluating...\n",
            "Batch    40 of   412. Elapsed: 0:00:02\n",
            "\n",
            "Training Loss: 1.104\n",
            "Validation Loss: 1.104\n",
            "\n",
            "..... epoch 2 / 5 ......\n",
            "\n",
            "Training...\n",
            "Batch    40 of   412. Elapsed: 0:00:02\n",
            "Batch    80 of   412. Elapsed: 0:00:04\n",
            "Batch   120 of   412. Elapsed: 0:00:06\n",
            "Batch   160 of   412. Elapsed: 0:00:09\n",
            "Batch   200 of   412. Elapsed: 0:00:11\n",
            "Batch   240 of   412. Elapsed: 0:00:13\n",
            "Batch   280 of   412. Elapsed: 0:00:15\n",
            "Batch   320 of   412. Elapsed: 0:00:18\n",
            "Batch   360 of   412. Elapsed: 0:00:20\n",
            "Batch   400 of   412. Elapsed: 0:00:22\n",
            "\\Evaluating...\n",
            "Batch    40 of   412. Elapsed: 0:00:02\n",
            "\n",
            "Training Loss: 1.104\n",
            "Validation Loss: 1.104\n",
            "\n",
            "..... epoch 3 / 5 ......\n",
            "\n",
            "Training...\n",
            "Batch    40 of   412. Elapsed: 0:00:02\n",
            "Batch    80 of   412. Elapsed: 0:00:04\n",
            "Batch   120 of   412. Elapsed: 0:00:06\n",
            "Batch   160 of   412. Elapsed: 0:00:09\n",
            "Batch   200 of   412. Elapsed: 0:00:11\n",
            "Batch   240 of   412. Elapsed: 0:00:13\n",
            "Batch   280 of   412. Elapsed: 0:00:15\n",
            "Batch   320 of   412. Elapsed: 0:00:18\n",
            "Batch   360 of   412. Elapsed: 0:00:20\n",
            "Batch   400 of   412. Elapsed: 0:00:22\n",
            "\\Evaluating...\n",
            "Batch    40 of   412. Elapsed: 0:00:02\n",
            "\n",
            "Training Loss: 1.104\n",
            "Validation Loss: 1.104\n",
            "\n",
            "..... epoch 4 / 5 ......\n",
            "\n",
            "Training...\n",
            "Batch    40 of   412. Elapsed: 0:00:02\n",
            "Batch    80 of   412. Elapsed: 0:00:04\n",
            "Batch   120 of   412. Elapsed: 0:00:07\n",
            "Batch   160 of   412. Elapsed: 0:00:09\n",
            "Batch   200 of   412. Elapsed: 0:00:11\n",
            "Batch   240 of   412. Elapsed: 0:00:13\n",
            "Batch   280 of   412. Elapsed: 0:00:15\n",
            "Batch   320 of   412. Elapsed: 0:00:18\n",
            "Batch   360 of   412. Elapsed: 0:00:20\n",
            "Batch   400 of   412. Elapsed: 0:00:22\n",
            "\\Evaluating...\n",
            "Batch    40 of   412. Elapsed: 0:00:02\n",
            "\n",
            "Training Loss: 1.105\n",
            "Validation Loss: 1.104\n",
            "\n",
            "..... epoch 5 / 5 ......\n",
            "\n",
            "Training...\n",
            "Batch    40 of   412. Elapsed: 0:00:02\n",
            "Batch    80 of   412. Elapsed: 0:00:04\n",
            "Batch   120 of   412. Elapsed: 0:00:06\n",
            "Batch   160 of   412. Elapsed: 0:00:08\n",
            "Batch   200 of   412. Elapsed: 0:00:11\n",
            "Batch   240 of   412. Elapsed: 0:00:13\n",
            "Batch   280 of   412. Elapsed: 0:00:15\n",
            "Batch   320 of   412. Elapsed: 0:00:17\n",
            "Batch   360 of   412. Elapsed: 0:00:19\n",
            "Batch   400 of   412. Elapsed: 0:00:21\n",
            "\\Evaluating...\n",
            "Batch    40 of   412. Elapsed: 0:00:02\n",
            "\n",
            "Training Loss: 1.104\n",
            "Validation Loss: 1.104\n",
            "\n",
            "Training complete\n"
          ]
        }
      ]
    },
    {
      "cell_type": "markdown",
      "source": [
        "# 4.6 Model Eval"
      ],
      "metadata": {
        "id": "ZXOTuZtGTS1a"
      }
    },
    {
      "cell_type": "code",
      "source": [
        "#load weights of best model\n",
        "path='saved_weights.pt'\n",
        "model.load_state_dict(torch.load(path))"
      ],
      "metadata": {
        "id": "9nxeZGdCBMzR",
        "colab": {
          "base_uri": "https://localhost:8080/"
        },
        "outputId": "9ecbe65f-124d-4347-c7fc-9e3ba33cfbd7"
      },
      "execution_count": 103,
      "outputs": [
        {
          "output_type": "stream",
          "name": "stderr",
          "text": [
            "<ipython-input-103-e26f61bacc9c>:3: FutureWarning: You are using `torch.load` with `weights_only=False` (the current default value), which uses the default pickle module implicitly. It is possible to construct malicious pickle data which will execute arbitrary code during unpickling (See https://github.com/pytorch/pytorch/blob/main/SECURITY.md#untrusted-models for more details). In a future release, the default value for `weights_only` will be flipped to `True`. This limits the functions that could be executed during unpickling. Arbitrary objects will no longer be allowed to be loaded via this mode unless they are explicitly allowlisted by the user via `torch.serialization.add_safe_globals`. We recommend you start setting `weights_only=True` for any use case where you don't have full control of the loaded file. Please open an issue on GitHub for any issues related to this experimental feature.\n",
            "  model.load_state_dict(torch.load(path))\n"
          ]
        },
        {
          "output_type": "execute_result",
          "data": {
            "text/plain": [
              "<All keys matched successfully>"
            ]
          },
          "metadata": {},
          "execution_count": 103
        }
      ]
    },
    {
      "cell_type": "code",
      "source": [
        "#get the model predictions on the validation data\n",
        "#return 2 elements-validation loss and prediction\n",
        "valid_loss,preds=evaluate()\n",
        "print(f'\\nValidation loss:{valid_loss:.3f}')"
      ],
      "metadata": {
        "colab": {
          "base_uri": "https://localhost:8080/"
        },
        "id": "VkMiTW7bTk97",
        "outputId": "9be74fad-bc7b-4044-efc5-381fe91becb1"
      },
      "execution_count": 104,
      "outputs": [
        {
          "output_type": "stream",
          "name": "stdout",
          "text": [
            "\\Evaluating...\n",
            "Batch    40 of   412. Elapsed: 0:00:02\n",
            "\n",
            "Validation loss:1.104\n"
          ]
        }
      ]
    },
    {
      "cell_type": "code",
      "source": [
        "#converting the log(probabilities) in to a classes\n",
        "#choosing index of a max value as class\n",
        "y_pred=np.argmax(preds,axis=1)\n",
        "#actual values\n",
        "y_true=validation_labels"
      ],
      "metadata": {
        "id": "ShIy9GHETvU9"
      },
      "execution_count": 105,
      "outputs": []
    },
    {
      "cell_type": "code",
      "source": [
        "from sklearn.metrics import classification_report\n",
        "print(classification_report(y_true,y_pred))"
      ],
      "metadata": {
        "colab": {
          "base_uri": "https://localhost:8080/"
        },
        "id": "yA1IAH_pUGDK",
        "outputId": "056c9dab-6e2a-43d7-fbe1-8c143df8d20a"
      },
      "execution_count": 108,
      "outputs": [
        {
          "output_type": "stream",
          "name": "stdout",
          "text": [
            "              precision    recall  f1-score   support\n",
            "\n",
            "           0       0.63      1.00      0.77       918\n",
            "           1       0.67      0.01      0.01       310\n",
            "           2       0.00      0.00      0.00       236\n",
            "\n",
            "    accuracy                           0.63      1464\n",
            "   macro avg       0.43      0.34      0.26      1464\n",
            "weighted avg       0.53      0.63      0.49      1464\n",
            "\n"
          ]
        },
        {
          "output_type": "stream",
          "name": "stderr",
          "text": [
            "/usr/local/lib/python3.11/dist-packages/sklearn/metrics/_classification.py:1565: UndefinedMetricWarning: Precision is ill-defined and being set to 0.0 in labels with no predicted samples. Use `zero_division` parameter to control this behavior.\n",
            "  _warn_prf(average, modifier, f\"{metric.capitalize()} is\", len(result))\n",
            "/usr/local/lib/python3.11/dist-packages/sklearn/metrics/_classification.py:1565: UndefinedMetricWarning: Precision is ill-defined and being set to 0.0 in labels with no predicted samples. Use `zero_division` parameter to control this behavior.\n",
            "  _warn_prf(average, modifier, f\"{metric.capitalize()} is\", len(result))\n",
            "/usr/local/lib/python3.11/dist-packages/sklearn/metrics/_classification.py:1565: UndefinedMetricWarning: Precision is ill-defined and being set to 0.0 in labels with no predicted samples. Use `zero_division` parameter to control this behavior.\n",
            "  _warn_prf(average, modifier, f\"{metric.capitalize()} is\", len(result))\n"
          ]
        }
      ]
    },
    {
      "cell_type": "markdown",
      "source": [],
      "metadata": {
        "id": "6IA1Zm8UCggY"
      }
    }
  ]
}